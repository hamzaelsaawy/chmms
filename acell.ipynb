{
 "cells": [
  {
   "cell_type": "code",
   "execution_count": 39,
   "metadata": {},
   "outputs": [],
   "source": [
    "using Plots; pyplot()\n",
    "using DataFrames\n",
    "using CSV\n",
    "using JLD2"
   ]
  },
  {
   "cell_type": "code",
   "execution_count": 2,
   "metadata": {},
   "outputs": [
    {
     "data": {
      "text/plain": [
       "chmm_em! (generic function with 1 method)"
      ]
     },
     "execution_count": 2,
     "metadata": {},
     "output_type": "execute_result"
    }
   ],
   "source": [
    "include(\"src\\\\NGSIM.jl\")"
   ]
  },
  {
   "cell_type": "code",
   "execution_count": 40,
   "metadata": {},
   "outputs": [],
   "source": [
    "JLD2.@load joinpath(DATA_PATH, \"td.jld\") td\n",
    "\n",
    "(S, id_lookup) = td_sparse(td)\n",
    ";"
   ]
  },
  {
   "cell_type": "code",
   "execution_count": 8,
   "metadata": {},
   "outputs": [
    {
     "data": {
      "text/plain": [
       "\"../data/trajdata_i101_trajectories-0750am-0805am\""
      ]
     },
     "execution_count": 8,
     "metadata": {},
     "output_type": "execute_result"
    }
   ],
   "source": [
    "traj_file_num = 1\n",
    "traj_file = Base.Filesystem.basename(NGSIM.TRAJDATA_PATHS[traj_file_num])\n",
    "traj_file = traj_file[1:search(traj_file, '.')-1]\n",
    "\n",
    "RAW_DATA = joinpath(\"C:/Users/Hamza El-Saawy/.julia/v0.6/NGSIM/data\", traj_file[10:end] * \".txt\")\n",
    "DATA_PATH = joinpath(\"../data/\", traj_file)\n",
    "\n",
    "JLD2.@load joinpath(DATA_PATH, \"td.jld\") td\n",
    "(S, id_lookup) = td_sparse(td)\n",
    "\n",
    "X_full = CSV.read(joinpath(DATA_PATH, \"X.csv\"); nullable=false)\n",
    "X = Array(X_full[:, [:velocity, :heading]])'\n",
    ";"
   ]
  },
  {
   "cell_type": "code",
   "execution_count": 68,
   "metadata": {},
   "outputs": [],
   "source": []
  }
 ],
 "metadata": {
  "kernelspec": {
   "display_name": "Julia 0.6.0",
   "language": "julia",
   "name": "julia-0.6"
  },
  "language_info": {
   "file_extension": ".jl",
   "mimetype": "application/julia",
   "name": "julia",
   "version": "0.6.0"
  }
 },
 "nbformat": 4,
 "nbformat_minor": 2
}
