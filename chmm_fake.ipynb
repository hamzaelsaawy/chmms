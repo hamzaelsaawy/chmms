{
 "cells": [
  {
   "cell_type": "markdown",
   "metadata": {},
   "source": [
    "TODO:\n",
    " * precompute $\\log|\\Sigma_i|$\n",
    " * precomute swapped indices for parameter updates"
   ]
  },
  {
   "cell_type": "code",
   "execution_count": 1,
   "metadata": {},
   "outputs": [
    {
     "name": "stderr",
     "output_type": "stream",
     "text": [
      "WARNING: Method definition ==(Base."
     ]
    }
   ],
   "source": [
    "using Distributions\n",
    "using Seaborn\n",
    "\n",
    "import CSV\n",
    "import JLD2\n",
    "import Base.Filesystem: joinpath"
   ]
  },
  {
   "cell_type": "code",
   "execution_count": 2,
   "metadata": {},
   "outputs": [
    {
     "name": "stderr",
     "output_type": "stream",
     "text": [
      "Nullable{S}, Base.Nullable{"
     ]
    },
    {
     "data": {
      "text/plain": [
       "chmm_em! (generic function with 1 method)"
      ]
     },
     "execution_count": 2,
     "metadata": {},
     "output_type": "execute_result"
    },
    {
     "name": "stderr",
     "output_type": "stream",
     "text": [
      "T}) in module Base at nullable.jl:238"
     ]
    }
   ],
   "source": [
    "include(\"src/NGSIM.jl\")"
   ]
  },
  {
   "cell_type": "raw",
   "metadata": {},
   "source": [
    "include(\"src/auxiliary.jl\")\n",
    "include(\"src/trajectories.jl\")\n",
    "include(\"src/chmm_main.jl\")\n",
    "include(\"src/chmm_training.jl\")\n",
    "include(\"src/ngsim_data.jl\")"
   ]
  },
  {
   "cell_type": "code",
   "execution_count": 3,
   "metadata": {},
   "outputs": [
    {
     "name": "stderr",
     "output_type": "stream",
     "text": [
      " overwritten in module NullableArrays at C:\\Users\\Hamza El-Saawy\\.julia\\v0.6\\NullableArrays\\src\\operators.jl:128.\n"
     ]
    },
    {
     "data": {
      "text/plain": [
       "539246"
      ]
     },
     "execution_count": 3,
     "metadata": {},
     "output_type": "execute_result"
    }
   ],
   "source": [
    "K = 8\n",
    "D = 3\n",
    "\n",
    "# doesn't line up in format with NGSIM data (specifically, no time/frame aspect)\n",
    "model = rand_chmm(K, D)\n",
    "(X, Z, traj_ptr, traj_pairs_full) = rand_trajs(model, \n",
    "    T_range=50:500, N_pairs=1_000)\n",
    "\n",
    "num_trajs = length(traj_ptr) - 1\n",
    "num_obs = size(X, 2)"
   ]
  },
  {
   "cell_type": "code",
   "execution_count": 4,
   "metadata": {},
   "outputs": [],
   "source": [
    "# make fake data like NGSIM\n",
    "r = zeros(num_obs)\n",
    "c = zeros(num_obs)\n",
    "\n",
    "T = 0\n",
    "for (i, (i1, i2)) in enumerate(traj_pairs_full)\n",
    "    s1 = traj_ptr[i1]\n",
    "    e1 = traj_ptr[i1+1]-1\n",
    "    \n",
    "    s2 = traj_ptr[i2]\n",
    "    e2 = traj_ptr[i2+1]-1\n",
    "    \n",
    "    @assert (e2-s2) == (e1-s1)\n",
    "    dT = e2 - s2 + 1\n",
    "    \n",
    "    r[s1:e1] = T+(1:dT)\n",
    "    r[s2:e2] = T+(1:dT)\n",
    "    T += dT\n",
    "    \n",
    "    i = sub2ind((2, num_trajs), 1, i)\n",
    "    c[s1:e1] = i\n",
    "    c[s2:e2] = i+1\n",
    "end\n",
    "\n",
    "S = sparse(r, c, X[1,:])\n",
    "\n",
    "@assert all(S.colptr .== traj_ptr)\n",
    "\n",
    "num_pairs = round(Int, length(traj_pairs_full) / 4)\n",
    "pairs = zeros(Int, 4, num_pairs)\n",
    "for (i, ind) in enumerate(randperm(length(traj_pairs_full))[1:num_pairs])\n",
    "    c1, c2 = traj_pairs_full[ind]\n",
    "    pairs[1:2, i] = [c1, c2]\n",
    "    pairs[3, i] = S.rowval[traj_ptr[c1]] + rand(1:10)\n",
    "    pairs[4, i] = S.rowval[traj_ptr[c1+1]-1] - rand(1:10)\n",
    "end"
   ]
  },
  {
   "cell_type": "markdown",
   "metadata": {},
   "source": [
    "## EM"
   ]
  },
  {
   "cell_type": "code",
   "execution_count": 5,
   "metadata": {
    "collapsed": true
   },
   "outputs": [],
   "source": [
    "curr = chmm_from_data(X, K)\n",
    "suff = ChmmSuffStats(curr)\n",
    ";"
   ]
  },
  {
   "cell_type": "code",
   "execution_count": 6,
   "metadata": {},
   "outputs": [
    {
     "data": {
      "image/png": "[encoded data removed]",
      "text/plain": [
       "PyPlot.Figure(PyObject <matplotlib.figure.Figure object at 0x000000002AB2EAC8>)"
      ]
     },
     "metadata": {},
     "output_type": "display_data"
    }
   ],
   "source": [
    "plot(X[1, :], X[2, :], \".\")\n",
    "for i in 1:K\n",
    "    plot(curr.μs[i][1],curr.μs[i][2], \"X\")\n",
    "end"
   ]
  },
  {
   "cell_type": "code",
   "execution_count": null,
   "metadata": {},
   "outputs": [
    {
     "name": "stdout",
     "output_type": "stream",
     "text": [
      "iteration      1:  -"
     ]
    }
   ],
   "source": [
    "(curr, log_like_hist) = chmm_em!(S, X, pairs, K, curr, suff; N_iters=20, print_every=1)\n",
    ";"
   ]
  },
  {
   "cell_type": "code",
   "execution_count": null,
   "metadata": {},
   "outputs": [],
   "source": [
    "plot(X[1, :], X[2, :], \".\")\n",
    "for i in 1:K\n",
    "    plot(curr.μs[i][1],curr.μs[i][2], \"X\")\n",
    "end"
   ]
  },
  {
   "cell_type": "code",
   "execution_count": null,
   "metadata": {},
   "outputs": [],
   "source": [
    "plot(log_like_hist, \".\")"
   ]
  },
  {
   "cell_type": "markdown",
   "metadata": {},
   "source": [
    "# Analysis"
   ]
  },
  {
   "cell_type": "code",
   "execution_count": 133,
   "metadata": {
    "collapsed": true
   },
   "outputs": [],
   "source": [
    "true_to_est_lut = empty(Int, K)\n",
    "for i in 1:K\n",
    "    m = model.μs[i]\n",
    "    r = map(mm -> norm(m .- mm), curr.μs)\n",
    "    true_to_est_lut[i] = indmin(r)\n",
    "end"
   ]
  },
  {
   "cell_type": "code",
   "execution_count": 134,
   "metadata": {},
   "outputs": [
    {
     "data": {
      "text/plain": [
       "3×8 Array{Float64,2}:\n",
       " -0.00259773   1.0915    -1.17078   …  -0.00185141    0.000687139\n",
       "  0.000367165  0.918668  -0.979448     -0.00126568   -0.00212541 \n",
       " -0.00104242   0.158684  -0.169696      0.000543807  -0.00178681 "
      ]
     },
     "execution_count": 134,
     "metadata": {},
     "output_type": "execute_result"
    }
   ],
   "source": [
    "hcat([model.μs[i] .- curr.μs[true_to_est_lut[i]] for i in 1:K] ...)"
   ]
  },
  {
   "cell_type": "code",
   "execution_count": 135,
   "metadata": {},
   "outputs": [
    {
     "data": {
      "text/plain": [
       "(-0.001637146389604475, 0.10212816771729014)"
      ]
     },
     "execution_count": 135,
     "metadata": {},
     "output_type": "execute_result"
    }
   ],
   "source": [
    "P_true = copy(model.P)\n",
    "P_hat = copy( curr.P[true_to_est_lut, true_to_est_lut, true_to_est_lut] )\n",
    "(mean(P_true .- P_hat), std(P_true .- P_hat))"
   ]
  },
  {
   "cell_type": "code",
   "execution_count": 136,
   "metadata": {},
   "outputs": [
    {
     "data": {
      "image/png": "[encoded data removed]",
      "text/plain": [
       "PyPlot.Figure(PyObject <matplotlib.figure.Figure object at 0x0000000028E8FEB8>)"
      ]
     },
     "metadata": {},
     "output_type": "display_data"
    },
    {
     "data": {
      "text/plain": [
       "1-element Array{Any,1}:\n",
       " PyObject <matplotlib.lines.Line2D object at 0x0000000028F89B38>"
      ]
     },
     "execution_count": 136,
     "metadata": {},
     "output_type": "execute_result"
    }
   ],
   "source": [
    "plot(vec(P_true .- P_hat), \".\")"
   ]
  },
  {
   "cell_type": "code",
   "execution_count": 137,
   "metadata": {},
   "outputs": [
    {
     "data": {
      "text/plain": [
       "(0.013871179798408571, 0.14383302753909002)"
      ]
     },
     "execution_count": 137,
     "metadata": {},
     "output_type": "execute_result"
    }
   ],
   "source": [
    "p0_true = copy(model.π0)\n",
    "p0_hat = copy( curr.π0[true_to_est_lut] )\n",
    "(mean(p0_true .- p0_hat), std(p0_true .- p0_hat))"
   ]
  },
  {
   "cell_type": "code",
   "execution_count": 138,
   "metadata": {},
   "outputs": [
    {
     "data": {
      "image/png": "[encoded data removed]",
      "text/plain": [
       "PyPlot.Figure(PyObject <matplotlib.figure.Figure object at 0x0000000004F6B6A0>)"
      ]
     },
     "metadata": {},
     "output_type": "display_data"
    },
    {
     "data": {
      "text/plain": [
       "1-element Array{Any,1}:\n",
       " PyObject <matplotlib.lines.Line2D object at 0x0000000028FE1390>"
      ]
     },
     "execution_count": 138,
     "metadata": {},
     "output_type": "execute_result"
    }
   ],
   "source": [
    "plot(vec(p0_true .- p0_hat), \".\")"
   ]
  },
  {
   "cell_type": "code",
   "execution_count": 141,
   "metadata": {},
   "outputs": [
    {
     "data": {
      "text/plain": [
       "8×2 Array{Float64,2}:\n",
       " -0.284251   0.426377\n",
       " -0.135193   0.20279 \n",
       " -0.093362   0.140043\n",
       " -0.216918   0.325377\n",
       " -0.20574    0.30861 \n",
       " -0.150884   0.226326\n",
       " -0.0628253  0.094238\n",
       " -0.106907   0.160361"
      ]
     },
     "execution_count": 141,
     "metadata": {},
     "output_type": "execute_result"
    }
   ],
   "source": [
    "errs = [model.Σs[i] .- curr.Σs[true_to_est_lut[i]] for i in 1:K]\n",
    "[map(mean, errs) map(std, errs)]"
   ]
  }
 ],
 "metadata": {
  "kernelspec": {
   "display_name": "Julia 0.6.0",
   "language": "julia",
   "name": "julia-0.6"
  },
  "language_info": {
   "file_extension": ".jl",
   "mimetype": "application/julia",
   "name": "julia",
   "version": "0.6.0"
  }
 },
 "nbformat": 4,
 "nbformat_minor": 2
}
