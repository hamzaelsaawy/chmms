{
 "cells": [
  {
   "cell_type": "code",
   "execution_count": 1,
   "metadata": {
    "collapsed": true
   },
   "outputs": [],
   "source": [
    "#import PyPlot\n",
    "#import Seaborn\n",
    "import JLD2\n",
    "import Distributions"
   ]
  },
  {
   "cell_type": "code",
   "execution_count": 2,
   "metadata": {
    "scrolled": true
   },
   "outputs": [
    {
     "data": {
      "text/plain": [
       "find_pairs"
      ]
     },
     "execution_count": 2,
     "metadata": {},
     "output_type": "execute_result"
    }
   ],
   "source": [
    "include(\"src\\\\NGSIM.jl\")"
   ]
  },
  {
   "cell_type": "code",
   "execution_count": 3,
   "metadata": {
    "collapsed": true
   },
   "outputs": [],
   "source": [
    "# td = load_trajdata(1);\n",
    "JLD2.@load \"td.jld\" td\n",
    "rd = NGSIM.ROADWAY_101\n",
    "\n",
    "(S, id_lookup) = td_sparse(td)\n",
    ";"
   ]
  },
  {
   "cell_type": "code",
   "execution_count": 36,
   "metadata": {},
   "outputs": [
    {
     "name": "stdout",
     "output_type": "stream",
     "text": [
      " 12.341416 seconds (28.34 M allocations: 849.452 MiB, 1.78% gc time)\n"
     ]
    }
   ],
   "source": [
    "fs = [\n",
    "    s::VehicleState -> s.v * cos(s.posF.ϕ), \n",
    "    s::VehicleState -> s.v * sin(s.posF.ϕ),\n",
    "    s::VehicleState -> length(rd[s.posF.roadind.tag.segment].lanes) - s.posF.roadind.tag.lane + 1\n",
    "]\n",
    "\n",
    "@time (hmm, hmm_data) = init_em_problem(S, fs);"
   ]
  },
  {
   "cell_type": "code",
   "execution_count": null,
   "metadata": {
    "collapsed": true
   },
   "outputs": [],
   "source": [
    "function update_params!(hmm::HMM, hmm_data::HMM_Data)\n",
    "    T = hmm_data.T\n",
    "    M = hmm.M\n",
    "    K = hmm.K\n",
    "    E = hmm_data.E\n",
    "\n",
    "    π0 = hmm.π0\n",
    "    A = hmm.A\n",
    "    bΔ = hmm.bΔ\n",
    "    c = hmm.c\n",
    "    μs = hmm.μs\n",
    "    Σs = hmm.Σs\n",
    "\n",
    "    S = hmm_data.S\n",
    "    YΓ = hmm_data.YΓ\n",
    "    γ = hmm_data.γ\n",
    "    γ_mix = hmm_data.γ_mix\n",
    "\n",
    "    γ_mix_sum = squeeze(sum(γ_mix, 3), 3)\n",
    "    γ_sum = squeeze(sum(γ, 2), 2)\n",
    "    \n",
    "    #\n",
    "    # π0\n",
    "    #\n",
    "    fill!(π0, 0)\n",
    "    for e = 1:E # per trajectory\n",
    "        # where the e-th trajectory starts in the data\n",
    "        start_idx = S.colptr[e]\n",
    "\n",
    "        (start_idx ≥ T) && break\n",
    "\n",
    "        π0 += γ[:, start_idx]\n",
    "    end\n",
    "\n",
    "    normalize!(π0, 1)\n",
    "    map!(log, hmm_data.log_π0, π0)\n",
    "\n",
    "    \n",
    "    #\n",
    "    # a\n",
    "    #\n",
    "    fill(A, 0)\n",
    "    for e = 1:E # per trajectory\n",
    "        # where the e-th trajectory starts in the data\n",
    "        start_idx = S.colptr[e]\n",
    "        end_idx = S.colptr[e+1] - 2\n",
    "    \n",
    "        (start_idx > T) && break\n",
    "\n",
    "        for t in start_idx:end_idx\n",
    "            (t > T) && break\n",
    "            A += ξ[:, :, t]\n",
    "        end\n",
    "    end\n",
    "    \n",
    "    \n",
    "    \n",
    "    #\n",
    "    # b\n",
    "    #\n",
    "    \n",
    "    \n",
    "    #\n",
    "    # c\n",
    "    #\n",
    "    c[:] = γ_mix_sum ./ γ_sum'\n",
    "    c ./= sum(c, 1)\n",
    "    map!(log, hmm_data.log_c, c)\n",
    "\n",
    "    #\n",
    "    # μ\n",
    "    #\n",
    "    fill!(μs, 0)\n",
    "    @inbounds for t = 1:T\n",
    "        o = YΓ[:, t]\n",
    "\n",
    "        for k in 1:K\n",
    "            for m in 1:M\n",
    "                μs[:, m, k] += γ_mix[m, k, t] * o\n",
    "            end\n",
    "        end\n",
    "    end\n",
    "\n",
    "    @inbounds for k in 1:K\n",
    "        for m in 1:M\n",
    "            μs[:, m, k] ./= γ_mix_sum[m, k]\n",
    "        end\n",
    "    end\n",
    "\n",
    "    \n",
    "    #\n",
    "    # Σ\n",
    "    #\n",
    "    fill!(Σs, 0)\n",
    "    @inbounds for t = 1:T\n",
    "        o = YΓ[:, t]\n",
    "\n",
    "        for k in 1:K\n",
    "            for m in 1:M\n",
    "                Σs[:, :, m, k] += γ_mix[m, k, t] * o * o'\n",
    "            end\n",
    "        end\n",
    "    end\n",
    "\n",
    "    @inbounds for k in 1:K\n",
    "        for m in 1:M\n",
    "            Σs[:, :, m, k] ./= γ_mix_sum[m, k]\n",
    "        end\n",
    "    end\n",
    "\n",
    "    @inbounds for m in 1:M\n",
    "        for k in 1:K\n",
    "            hmm_data.invΣs[:, :, m, k] = inv(Σs[:, :, m, k])\n",
    "            hmm_data.logdetΣs[m, k] = logdet(Σs[:, :, m, k])\n",
    "        end\n",
    "    end\n",
    "end\n"
   ]
  },
  {
   "cell_type": "code",
   "execution_count": 75,
   "metadata": {},
   "outputs": [
    {
     "data": {
      "text/plain": [
       "data_likelihood! (generic function with 1 method)"
      ]
     },
     "execution_count": 75,
     "metadata": {},
     "output_type": "execute_result"
    }
   ],
   "source": [
    "function EM_iters(hmm, hmm_data)\n",
    "    \n",
    "end"
   ]
  }
 ],
 "metadata": {
  "kernelspec": {
   "display_name": "Julia 0.6.0",
   "language": "julia",
   "name": "julia-0.6"
  },
  "language_info": {
   "file_extension": ".jl",
   "mimetype": "application/julia",
   "name": "julia",
   "version": "0.6.0"
  }
 },
 "nbformat": 4,
 "nbformat_minor": 2
}
