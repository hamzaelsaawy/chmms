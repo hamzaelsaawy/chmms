{
 "cells": [
  {
   "cell_type": "code",
   "execution_count": 1,
   "metadata": {
    "collapsed": true
   },
   "outputs": [],
   "source": [
    "#import PyPlot\n",
    "#import Seaborn\n",
    "import JLD2\n",
    "import Distributions"
   ]
  },
  {
   "cell_type": "code",
   "execution_count": 2,
   "metadata": {
    "scrolled": true
   },
   "outputs": [
    {
     "data": {
      "text/plain": [
       "find_pairs"
      ]
     },
     "execution_count": 2,
     "metadata": {},
     "output_type": "execute_result"
    }
   ],
   "source": [
    "include(\"src\\\\NGSIM.jl\")"
   ]
  },
  {
   "cell_type": "code",
   "execution_count": 3,
   "metadata": {
    "collapsed": true
   },
   "outputs": [],
   "source": [
    "# td = load_trajdata(1);\n",
    "JLD2.@load \"td.jld\" td\n",
    "rd = NGSIM.ROADWAY_101\n",
    "\n",
    "(S, id_lookup) = td_sparse(td)\n",
    ";"
   ]
  },
  {
   "cell_type": "code",
   "execution_count": 36,
   "metadata": {},
   "outputs": [
    {
     "name": "stdout",
     "output_type": "stream",
     "text": [
      " 12.341416 seconds (28.34 M allocations: 849.452 MiB, 1.78% gc time)\n"
     ]
    }
   ],
   "source": [
    "fs = [\n",
    "    s::VehicleState -> s.v * cos(s.posF.ϕ), \n",
    "    s::VehicleState -> s.v * sin(s.posF.ϕ),\n",
    "    s::VehicleState -> length(rd[s.posF.roadind.tag.segment].lanes) - s.posF.roadind.tag.lane + 1\n",
    "]\n",
    "\n",
    "@time (hmm, hmm_data) = init_em_problem(S, fs);"
   ]
  },
  {
   "cell_type": "code",
   "execution_count": 75,
   "metadata": {},
   "outputs": [
    {
     "data": {
      "text/plain": [
       "data_likelihood! (generic function with 1 method)"
      ]
     },
     "execution_count": 75,
     "metadata": {},
     "output_type": "execute_result"
    }
   ],
   "source": [
    "function EM_iters(hmm, hmm_data)\n",
    "    \n",
    "end"
   ]
  }
 ],
 "metadata": {
  "kernelspec": {
   "display_name": "Julia 0.6.0",
   "language": "julia",
   "name": "julia-0.6"
  },
  "language_info": {
   "file_extension": ".jl",
   "mimetype": "application/julia",
   "name": "julia",
   "version": "0.6.0"
  }
 },
 "nbformat": 4,
 "nbformat_minor": 2
}
