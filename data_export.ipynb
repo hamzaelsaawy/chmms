{
 "cells": [
  {
   "cell_type": "code",
   "execution_count": 1,
   "metadata": {},
   "outputs": [
    {
     "name": "stderr",
     "output_type": "stream",
     "text": [
      "WARNING: Method definition ==(Base.Nullable{S}, Base.Nullable{T}) in module Base at nullable.jl:238 overwritten in module NullableArrays at C:\\Users\\Hamza El-Saawy\\.julia\\v0.6\\NullableArrays\\src\\operators.jl:128.\n"
     ]
    }
   ],
   "source": [
    "import JLD2\n",
    "using Discretizers\n",
    "using CSV\n",
    "using Seaborn\n",
    "\n",
    "import Base.Filesystem: joinpath"
   ]
  },
  {
   "cell_type": "code",
   "execution_count": 2,
   "metadata": {},
   "outputs": [
    {
     "data": {
      "text/plain": [
       "gen_distances (generic function with 1 method)"
      ]
     },
     "execution_count": 2,
     "metadata": {},
     "output_type": "execute_result"
    }
   ],
   "source": [
    "include(\"src\\\\NGSIM.jl\")"
   ]
  },
  {
   "cell_type": "code",
   "execution_count": 3,
   "metadata": {},
   "outputs": [
    {
     "data": {
      "text/plain": [
       "\"../data/trajdata_i101_trajectories-0750am-0805am\""
      ]
     },
     "execution_count": 3,
     "metadata": {},
     "output_type": "execute_result"
    }
   ],
   "source": [
    "traj_file = Base.Filesystem.basename(NGSIM.TRAJDATA_PATHS[1])\n",
    "traj_file = traj_file[1:search(traj_file, '.')-1]\n",
    "\n",
    "DATA_PATH = \"../data/\" * traj_file"
   ]
  },
  {
   "cell_type": "code",
   "execution_count": 43,
   "metadata": {},
   "outputs": [],
   "source": [
    "!isdir(DATA_PATH) && Base.Filesystem.mkdir(DATA_PATH)"
   ]
  },
  {
   "cell_type": "code",
   "execution_count": 4,
   "metadata": {},
   "outputs": [],
   "source": [
    "JLD2.@load \"$(DATA_PATH)/td.jld\" td\n",
    "rd = NGSIM.ROADWAY_101\n",
    "(TS, id_lookup) = td_sparse(td)\n",
    ";"
   ]
  },
  {
   "cell_type": "code",
   "execution_count": 58,
   "metadata": {
    "collapsed": true
   },
   "outputs": [],
   "source": [
    "fs = [\n",
    "    s::VehicleState -> s.v * cos(s.posF.ϕ), \n",
    "    s::VehicleState -> s.v * sin(s.posF.ϕ),\n",
    "    s::VehicleState -> length(rd[s.posF.roadind.tag.segment].lanes) - s.posF.roadind.tag.lane + 1\n",
    "]\n",
    "\n",
    "fs_enum = enumerate(fs)\n",
    "X = AF64(nnz(TS), length(fs))\n",
    ";"
   ]
  },
  {
   "cell_type": "code",
   "execution_count": 59,
   "metadata": {},
   "outputs": [],
   "source": [
    "@inbounds for (t, s) in TS.nzval |> enumerate\n",
    "    for (i, f) in fs_enum\n",
    "        X[t, i] = f(s)\n",
    "    end\n",
    "end\n",
    "\n",
    "XΓ = X[:, 1:2]\n",
    "XΔ = round.(Int, X[:, 3])\n",
    ";"
   ]
  },
  {
   "cell_type": "code",
   "execution_count": 60,
   "metadata": {},
   "outputs": [],
   "source": [
    "disc1 = LinearDiscretizer(binedges(DiscretizeUniformWidth(150), XΓ[:, 1]))\n",
    "c1 = get_discretization_counts(disc1, XΓ[:, 1])\n",
    ";"
   ]
  },
  {
   "cell_type": "code",
   "execution_count": 61,
   "metadata": {},
   "outputs": [],
   "source": [
    "disc2 = LinearDiscretizer(binedges(DiscretizeUniformWidth(30), XΓ[:, 2]))\n",
    "c2 = get_discretization_counts(disc2, XΓ[:, 2])\n",
    ";"
   ]
  },
  {
   "cell_type": "code",
   "execution_count": 62,
   "metadata": {
    "collapsed": true
   },
   "outputs": [],
   "source": [
    "enc1 = encode(disc1, XΓ[:, 1])\n",
    "enc2 = encode(disc1, XΓ[:, 2])\n",
    "D = [enc1 enc2 XΔ]\n",
    ";"
   ]
  },
  {
   "cell_type": "code",
   "execution_count": 64,
   "metadata": {
    "collapsed": true
   },
   "outputs": [],
   "source": [
    "writecsv(joinpath(DATA_PATH, \"X_disc.csv\"), D)"
   ]
  },
  {
   "cell_type": "code",
   "execution_count": 65,
   "metadata": {
    "collapsed": true
   },
   "outputs": [],
   "source": [
    "writecsv(joinpath(DATA_PATH, \"X1_bins.csv\"), disc1.binedges)"
   ]
  },
  {
   "cell_type": "code",
   "execution_count": 66,
   "metadata": {
    "collapsed": true
   },
   "outputs": [],
   "source": [
    "writecsv(joinpath(DATA_PATH, \"X2_bins.csv\"), disc2.binedges)"
   ]
  },
  {
   "cell_type": "markdown",
   "metadata": {},
   "source": [
    " "
   ]
  },
  {
   "cell_type": "code",
   "execution_count": 49,
   "metadata": {
    "collapsed": true
   },
   "outputs": [],
   "source": [
    "writecsv(joinpath(DATA_PATH, \"X.csv\"), X)"
   ]
  },
  {
   "cell_type": "code",
   "execution_count": 51,
   "metadata": {
    "collapsed": true
   },
   "outputs": [],
   "source": [
    "writecsv(joinpath(DATA_PATH, \"traj_lengths.csv\"), diff(TS.colptr))"
   ]
  }
 ],
 "metadata": {
  "kernelspec": {
   "display_name": "Julia 0.6.0",
   "language": "julia",
   "name": "julia-0.6"
  },
  "language_info": {
   "file_extension": ".jl",
   "mimetype": "application/julia",
   "name": "julia",
   "version": "0.6.0"
  }
 },
 "nbformat": 4,
 "nbformat_minor": 2
}
