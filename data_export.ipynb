{
 "cells": [
  {
   "cell_type": "code",
   "execution_count": 1,
   "metadata": {},
   "outputs": [
    {
     "name": "stderr",
     "output_type": "stream",
     "text": [
      "WARNING: Method definition ==(Base.Nullable{S}, Base.Nullable{T}) in module Base at nullable.jl:238 overwritten in module NullableArrays at C:\\Users\\Hamza El-Saawy\\.julia\\v0.6\\NullableArrays\\src\\operators.jl:99.\n",
      "WARNING: Compat.AsyncCondition is deprecated, use Base.AsyncCondition instead.\n",
      "  likely near In[1]:4\n",
      "WARNING: Compat.AsyncCondition is deprecated, use Base.AsyncCondition instead.\n",
      "  likely near In[1]:4\n"
     ]
    }
   ],
   "source": [
    "import JLD2\n",
    "import CSV\n",
    "\n",
    "using Discretizers\n",
    "using DataFrames"
   ]
  },
  {
   "cell_type": "code",
   "execution_count": 2,
   "metadata": {},
   "outputs": [
    {
     "data": {
      "text/plain": [
       "chmm_em! (generic function with 1 method)"
      ]
     },
     "execution_count": 2,
     "metadata": {},
     "output_type": "execute_result"
    }
   ],
   "source": [
    "include(\"src\\\\NGSIM.jl\")"
   ]
  },
  {
   "cell_type": "code",
   "execution_count": 4,
   "metadata": {},
   "outputs": [
    {
     "data": {
      "text/plain": [
       "\"../data/trajdata_i101_trajectories-0750am-0805am\""
      ]
     },
     "execution_count": 4,
     "metadata": {},
     "output_type": "execute_result"
    }
   ],
   "source": [
    "traj_file_num = 1\n",
    "traj_file = Base.Filesystem.basename(NGSIM.TRAJDATA_PATHS[traj_file_num])\n",
    "traj_file = traj_file[1:search(traj_file, '.')-1]\n",
    "\n",
    "DATA_PATH = joinpath(\"../data\", traj_file)"
   ]
  },
  {
   "cell_type": "code",
   "execution_count": 5,
   "metadata": {},
   "outputs": [
    {
     "data": {
      "text/plain": [
       "false"
      ]
     },
     "execution_count": 5,
     "metadata": {},
     "output_type": "execute_result"
    }
   ],
   "source": [
    "!isdir(DATA_PATH) && Base.Filesystem.mkdir(DATA_PATH)"
   ]
  },
  {
   "cell_type": "code",
   "execution_count": 6,
   "metadata": {
    "collapsed": true
   },
   "outputs": [],
   "source": [
    "# td = load_trajdata(traj_file_num);\n",
    "JLD2.@load \"$(DATA_PATH)/td.jld\" td\n",
    "rd = NGSIM.ROADWAY_101\n",
    "(TS, id_lookup) = td_sparse(td)\n",
    ";"
   ]
  },
  {
   "cell_type": "markdown",
   "metadata": {},
   "source": [
    "# X"
   ]
  },
  {
   "cell_type": "code",
   "execution_count": 8,
   "metadata": {},
   "outputs": [],
   "source": [
    "fs = [\n",
    "    (\"x\", s::VehicleState -> s.posG.x),\n",
    "    (\"y\", s::VehicleState -> s.posG.y),\n",
    "    (\"heading\", s::VehicleState -> s.posF.ϕ),\n",
    "    (\"velocity\", s::VehicleState -> s.v),\n",
    "    (\"lane\", s::VehicleState -> length(rd[s.posF.roadind.tag.segment].lanes) - s.posF.roadind.tag.lane + 1),\n",
    "]\n",
    "\n",
    "X = Array{Float64}(nnz(TS), length(fs))\n",
    "@inbounds for (t, s) in TS.nzval |> enumerate\n",
    "    for (i, (_, f)) in enumerate(fs)\n",
    "        X[t, i] = f(s)\n",
    "    end\n",
    "end"
   ]
  },
  {
   "cell_type": "code",
   "execution_count": 9,
   "metadata": {
    "collapsed": true
   },
   "outputs": [],
   "source": [
    "# make a dataframe from the extracted data, and then give them names\n",
    "df = DataFrame([X TS.rowval])\n",
    "names!(df, vcat(map(Symbol ∘ first, fs), :frame))\n",
    "\n",
    "# make frame and lane Ints\n",
    "for s in [:frame, :lane]\n",
    "    df[s] = round.(Int, df[s])\n",
    "end"
   ]
  },
  {
   "cell_type": "code",
   "execution_count": 11,
   "metadata": {
    "collapsed": true
   },
   "outputs": [],
   "source": [
    "# estimate acceleration\n",
    "Δt = td.timestep\n",
    "V = df[:velocity]\n",
    "A = zeros(V)\n",
    "num_traj = TS.n\n",
    "\n",
    "for i in 1:num_traj\n",
    "    r = get_trajectory_range(TS.colptr, i)\n",
    "    T = length(r)\n",
    "    Vt = view(V, r)\n",
    "    At = view(A, r)\n",
    "\n",
    "    # forward diff, Δₕ x\n",
    "    At[1] = (Vt[2] - Vt[1]) / Δt \n",
    "    # central diff, δₕ x\n",
    "    At[2:(T-1)] = (Vt[3:T] .- Vt[1:(T-2)]) ./ (2*Δt)\n",
    "    # backward diff, ∇ₕ\n",
    "    At[T] = (Vt[T] - Vt[T-1]) / Δt\n",
    "end\n",
    "\n",
    "df[:acceleration] = A"
   ]
  },
  {
   "cell_type": "code",
   "execution_count": 25,
   "metadata": {},
   "outputs": [],
   "source": [
    "# the car id\n",
    "car = zeros(Int, length(V))\n",
    "for i in 1:num_traj\n",
    "    r = get_trajectory_range(TS.colptr, i)\n",
    "    car[r] = i\n",
    "end"
   ]
  },
  {
   "cell_type": "code",
   "execution_count": 28,
   "metadata": {},
   "outputs": [
    {
     "data": {
      "text/plain": [
       "CSV.Sink(    CSV.Options:\n",
       "        delim: ','\n",
       "        quotechar: '\"'\n",
       "        escapechar: '\\\\'\n",
       "        null: \"\"\n",
       "        dateformat: dateformat\"yyyy-mm-dd\", IOBuffer(data=UInt8[...], readable=true, writable=true, seekable=true, append=false, size=0, maxsize=Inf, ptr=1, mark=-1), \"../data/trajdata_i101_trajectories-0750am-0805am/X.csv\", 65, true, String[\"x\", \"y\", \"heading\", \"velocity\", \"lane\", \"frame\", \"acceleration\", \"car\"], false)"
      ]
     },
     "execution_count": 28,
     "metadata": {},
     "output_type": "execute_result"
    }
   ],
   "source": [
    "CSV.write(joinpath(DATA_PATH, \"X.csv\"), df, header=true)"
   ]
  },
  {
   "cell_type": "code",
   "execution_count": 51,
   "metadata": {
    "collapsed": true
   },
   "outputs": [],
   "source": [
    "writecsv(joinpath(DATA_PATH, \"traj_lengths.csv\"), diff(TS.colptr))"
   ]
  },
  {
   "cell_type": "markdown",
   "metadata": {},
   "source": [
    "# Pairs"
   ]
  },
  {
   "cell_type": "code",
   "execution_count": null,
   "metadata": {
    "collapsed": true
   },
   "outputs": [],
   "source": [
    "pair_traj = find_pairs(TS)\n",
    "pairs = DataFrame([Int, Int, Int, Int, Int], [:car1, :car2, :start, :end, :length], length(pair_traj))\n",
    "\n",
    "for (e, ((c1, c2), (start_frame, end_frame))) in enumerate(pair_traj)\n",
    "    pairs[e, :car1] = c1\n",
    "    pairs[e, :car2] = c2\n",
    "    pairs[e, :start] = start_frame\n",
    "    pairs[e, :end] = end_frame\n",
    "    pairs[e, :length] = end_frame - start_frame + 1\n",
    "end"
   ]
  },
  {
   "cell_type": "code",
   "execution_count": null,
   "metadata": {
    "collapsed": true
   },
   "outputs": [],
   "source": [
    "CSV.write(joinpath(DATA_PATH, \"pairs.csv\"), pairs, header=true)"
   ]
  },
  {
   "cell_type": "markdown",
   "metadata": {},
   "source": [
    "# Discretize"
   ]
  },
  {
   "cell_type": "code",
   "execution_count": 26,
   "metadata": {
    "collapsed": true
   },
   "outputs": [],
   "source": [
    "df_disc = DataFrame(Int, nrow(df), 4)\n",
    "names!(df_disc, [:velocity, :heading, :lane, :frame])\n",
    ";"
   ]
  },
  {
   "cell_type": "code",
   "execution_count": 27,
   "metadata": {
    "collapsed": true
   },
   "outputs": [],
   "source": [
    "disc1 = LinearDiscretizer(binedges(DiscretizeUniformWidth(150), df[:velocity]))\n",
    "disc2 = LinearDiscretizer(binedges(DiscretizeUniformWidth(30),df[:heading]))\n",
    "\n",
    "df_disc[:velocity] = encode(disc1, df[:velocity])\n",
    "df_disc[:heading] = encode(disc1, df[:heading])\n",
    "df_disc[:lane] = df[:lane]\n",
    "df_disc[:frame] = df[:frame]\n",
    ";"
   ]
  },
  {
   "cell_type": "code",
   "execution_count": 28,
   "metadata": {},
   "outputs": [
    {
     "data": {
      "text/plain": [
       "CSV.Sink(    CSV.Options:\n",
       "        delim: ','\n",
       "        quotechar: '\"'\n",
       "        escapechar: '\\\\'\n",
       "        null: \"\"\n",
       "        dateformat: dateformat\"yyyy-mm-dd\", IOBuffer(data=UInt8[...], readable=true, writable=true, seekable=true, append=false, size=0, maxsize=Inf, ptr=1, mark=-1), \"../data/trajdata_i101_trajectories-0750am-0805am/X_disc.csv\", 36, true, String[\"velocity\", \"heading\", \"lane\", \"frame\"], false)"
      ]
     },
     "execution_count": 28,
     "metadata": {},
     "output_type": "execute_result"
    }
   ],
   "source": [
    "CSV.write(joinpath(DATA_PATH, \"X_disc.csv\"), df_disc, header=true)"
   ]
  },
  {
   "cell_type": "code",
   "execution_count": 35,
   "metadata": {
    "collapsed": true
   },
   "outputs": [],
   "source": [
    "writecsv(joinpath(DATA_PATH, \"X1_bins.csv\"), disc1.binedges)"
   ]
  },
  {
   "cell_type": "code",
   "execution_count": 34,
   "metadata": {
    "collapsed": true
   },
   "outputs": [],
   "source": [
    "writecsv(joinpath(DATA_PATH, \"X2_bins.csv\"), disc2.binedges)"
   ]
  },
  {
   "cell_type": "markdown",
   "metadata": {},
   "source": [
    " "
   ]
  }
 ],
 "metadata": {
  "kernelspec": {
   "display_name": "Julia 0.6.0",
   "language": "julia",
   "name": "julia-0.6"
  },
  "language_info": {
   "file_extension": ".jl",
   "mimetype": "application/julia",
   "name": "julia",
   "version": "0.6.0"
  }
 },
 "nbformat": 4,
 "nbformat_minor": 2
}
