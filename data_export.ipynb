{
 "cells": [
  {
   "cell_type": "code",
   "execution_count": 1,
   "metadata": {},
   "outputs": [
    {
     "name": "stderr",
     "output_type": "stream",
     "text": [
      "WARNING: Method definition ==("
     ]
    }
   ],
   "source": [
    "import JLD2\n",
    "import CSV\n",
    "\n",
    "using Discretizers\n"
   ]
  },
  {
   "cell_type": "code",
   "execution_count": 2,
   "metadata": {},
   "outputs": [
    {
     "name": "stderr",
     "output_type": "stream",
     "text": [
      "Base.Nullable{S}, "
     ]
    },
    {
     "data": {
      "text/plain": [
       "chmm_em! (generic function with 1 method)"
      ]
     },
     "execution_count": 2,
     "metadata": {},
     "output_type": "execute_result"
    },
    {
     "name": "stderr",
     "output_type": "stream",
     "text": [
      "Base.Nullable{T}) in module Base at nullable.jl:238 overwritten in module NullableArrays at C:\\Users\\Hamza El-Saawy\\.julia\\v0.6\\NullableArrays\\src\\operators.jl:99.\n",
      "WARNING: Compat.AsyncCondition is deprecated, use Base.AsyncCondition instead.\n",
      "  likely near In[1]:4\n",
      "WARNING: Compat.AsyncCondition is deprecated, use Base.AsyncCondition instead.\n",
      "  likely near In[1]:4\n"
     ]
    }
   ],
   "source": [
    "include(\"src\\\\NGSIM.jl\")"
   ]
  },
  {
   "cell_type": "code",
   "execution_count": 7,
   "metadata": {},
   "outputs": [
    {
     "data": {
      "text/plain": [
       "1-element Array{Symbol,1}:\n",
       " :td"
      ]
     },
     "execution_count": 7,
     "metadata": {},
     "output_type": "execute_result"
    }
   ],
   "source": [
    "JLD2.@load \"$(DATA_PATH)/td.jld\" td"
   ]
  },
  {
   "cell_type": "code",
   "execution_count": 28,
   "metadata": {},
   "outputs": [
    {
     "data": {
      "text/plain": [
       "\"i80_trajectories-0500-0515\""
      ]
     },
     "execution_count": 28,
     "metadata": {},
     "output_type": "execute_result"
    }
   ],
   "source": [
    "traj_file = Base.Filesystem.basename(NGSIM.TRAJDATA_PATHS[5])\n",
    "    # remove the \"trajectory_\" and \".csv\"\n",
    "    traj_file = traj_file[10:search(traj_file, '.')-1]\n"
   ]
  },
  {
   "cell_type": "code",
   "execution_count": 6,
   "metadata": {
    "collapsed": true
   },
   "outputs": [],
   "source": [
    "# td = load_trajdata(traj_file_num);\n",
    "JLD2.@load \"$(DATA_PATH)/td.jld\" td\n",
    "rd = NGSIM.ROADWAY_101\n",
    "(TS, id_lookup) = td_sparse(td)\n",
    ";"
   ]
  },
  {
   "cell_type": "markdown",
   "metadata": {},
   "source": [
    "# X"
   ]
  },
  {
   "cell_type": "markdown",
   "metadata": {},
   "source": [
    "# Pairs"
   ]
  },
  {
   "cell_type": "code",
   "execution_count": null,
   "metadata": {
    "collapsed": true
   },
   "outputs": [],
   "source": [
    "pair_traj = find_pairs(TS)\n",
    "pairs = DataFrame([Int, Int, Int, Int, Int], [:car1, :car2, :start, :end, :length], length(pair_traj))\n",
    "\n",
    "for (e, ((c1, c2), (start_frame, end_frame))) in enumerate(pair_traj)\n",
    "    pairs[e, :car1] = c1\n",
    "    pairs[e, :car2] = c2\n",
    "    pairs[e, :start] = start_frame\n",
    "    pairs[e, :end] = end_frame\n",
    "    pairs[e, :length] = end_frame - start_frame + 1\n",
    "end"
   ]
  },
  {
   "cell_type": "code",
   "execution_count": null,
   "metadata": {
    "collapsed": true
   },
   "outputs": [],
   "source": [
    "CSV.write(joinpath(DATA_PATH, \"pairs.csv\"), pairs, header=true)"
   ]
  }
 ],
 "metadata": {
  "kernelspec": {
   "display_name": "Julia 0.6.0",
   "language": "julia",
   "name": "julia-0.6"
  },
  "language_info": {
   "file_extension": ".jl",
   "mimetype": "application/julia",
   "name": "julia",
   "version": "0.6.0"
  }
 },
 "nbformat": 4,
 "nbformat_minor": 2
}
