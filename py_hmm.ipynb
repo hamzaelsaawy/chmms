{
 "cells": [
  {
   "cell_type": "code",
   "execution_count": 1,
   "metadata": {
    "collapsed": true
   },
   "outputs": [],
   "source": [
    "import numpy as np\n",
    "#import pandas as pd\n",
    "import sklearn as skl\n",
    "from hmmlearn import hmm\n",
    "from scipy.misc import logsumexp\n",
    "#import matplotlib.pyplot as plt\n",
    "import seaborn as sns"
   ]
  },
  {
   "cell_type": "code",
   "execution_count": null,
   "metadata": {
    "collapsed": true
   },
   "outputs": [],
   "source": [
    "sns.set(rc={'text.usetex' : False})\n",
    "%matplotlib inline"
   ]
  },
  {
   "cell_type": "code",
   "execution_count": null,
   "metadata": {
    "collapsed": true
   },
   "outputs": [],
   "source": [
    "DATA_DIR = '../data/trajdata_i101_trajectories-0750am-0805am/'\n",
    "traj_lens = np.diff(np.loadtxt(DATA_DIR + 'traj_lengths.csv', dtype=np.int))"
   ]
  },
  {
   "cell_type": "code",
   "execution_count": 301,
   "metadata": {
    "collapsed": true
   },
   "outputs": [],
   "source": [
    "n_trajs = len(traj_lengths)\n",
    "n_components = 5"
   ]
  },
  {
   "cell_type": "code",
   "execution_count": null,
   "metadata": {
    "collapsed": true
   },
   "outputs": [],
   "source": [
    "D = np.loadtxt(DATA_DIR + 'X_disc.csv', delimiter=',', dtype=np.int)\n",
    "\n",
    "n_samples = D.shape[0]\n",
    "\n",
    "obs = set()\n",
    "for i in range(n_samples):\n",
    "    obs.add(tuple(D[i]))\n",
    "\n",
    "obs_lut = dict()\n",
    "for (i, o) in enumerate(obs):\n",
    "    obs_lut[o] = i\n",
    "\n",
    "n_features = len(obs_lut)\n",
    "X = np.apply_along_axis(lambda o: obs_lut[tuple(o)], axis=1, arr=D)\n",
    "X = X[:, np.newaxis]"
   ]
  },
  {
   "cell_type": "code",
   "execution_count": 281,
   "metadata": {},
   "outputs": [],
   "source": [
    "model = hmm.MultinomialHMM(n_components=n_components, n_iter=100)\n",
    "model.n_features = n_features"
   ]
  },
  {
   "cell_type": "code",
   "execution_count": 282,
   "metadata": {},
   "outputs": [
    {
     "name": "stderr",
     "output_type": "stream",
     "text": [
      "C:\\Users\\Hamza El-Saawy\\AppData\\Roaming\\Python\\Python36\\site-packages\\hmmlearn\\hmm.py:405: RuntimeWarning: divide by zero encountered in log\n",
      "  return np.log(self.emissionprob_)[:, np.concatenate(X)].T\n"
     ]
    },
    {
     "data": {
      "text/plain": [
       "MultinomialHMM(algorithm='viterbi', init_params='ste', n_components=5,\n",
       "        n_iter=100, params='ste',\n",
       "        random_state=<mtrand.RandomState object at 0x000001285BA2E168>,\n",
       "        startprob_prior=1.0, tol=0.01, transmat_prior=1.0, verbose=False)"
      ]
     },
     "execution_count": 282,
     "metadata": {},
     "output_type": "execute_result"
    }
   ],
   "source": [
    "model.fit(X, lengths=traj_lens)\n",
    "loglike = model.monitor_.history[1]"
   ]
  },
  {
   "cell_type": "code",
   "execution_count": 462,
   "metadata": {},
   "outputs": [
    {
     "data": {
      "image/png": "[encoded data removed]",
      "text/plain": [
       "<matplotlib.figure.Figure at 0x12864953470>"
      ]
     },
     "metadata": {},
     "output_type": "display_data"
    }
   ],
   "source": [
    "ax = sns.heatmap(model.transmat_, vmin=0, vmax=1)\n",
    "ax.set(xlabel='x_{i+1}', ylabel='x_i')"
   ]
  },
  {
   "cell_type": "code",
   "execution_count": null,
   "metadata": {
    "collapsed": true
   },
   "outputs": [],
   "source": [
    "ax = sns.heatmap(model.emissionprob_, vmin=0, vmax=1)\n",
    "ax.set(xlabel='x_{i+1}', ylabel='x_i')"
   ]
  },
  {
   "cell_type": "code",
   "execution_count": 440,
   "metadata": {},
   "outputs": [
    {
     "name": "stderr",
     "output_type": "stream",
     "text": [
      "C:\\Users\\Hamza El-Saawy\\AppData\\Roaming\\Python\\Python36\\site-packages\\hmmlearn\\hmm.py:405: RuntimeWarning: divide by zero encountered in log\n",
      "  return np.log(self.emissionprob_)[:, np.concatenate(X)].T\n"
     ]
    }
   ],
   "source": [
    "for s, (i, j) in enumerate(hmm.iter_from_X_lengths(X, traj_lens)):\n",
    "    # s is the trajectory number\n",
    "    framelogprob = model._compute_log_likelihood(X[i:j])\n",
    "    _, fwdlattice = model._do_forward_pass(framelogprob)\n",
    "    bwdlattice = model._do_backward_pass(framelogprob)\n",
    "    # skip the last timestep thingy\n",
    "    temp = np.zeros((n_components, n_components))\n",
    "    for t in range(j-i-1):\n",
    "        temp = fwdlattice[t, :, np.newaxis] + model.transmat_ + bwdlattice[t+1] + framelogprob[t+1]\n",
    "        temp -= logsumexp(temp)\n",
    "        As[s] += np.exp(temp)\n",
    "    As[s] /= As[s].sum(0, keepdims=True)"
   ]
  },
  {
   "cell_type": "code",
   "execution_count": null,
   "metadata": {
    "collapsed": true
   },
   "outputs": [],
   "source": []
  }
 ],
 "metadata": {
  "kernelspec": {
   "display_name": "Python 3",
   "language": "python",
   "name": "python3"
  },
  "language_info": {
   "codemirror_mode": {
    "name": "ipython",
    "version": 3
   },
   "file_extension": ".py",
   "mimetype": "text/x-python",
   "name": "python",
   "nbconvert_exporter": "python",
   "pygments_lexer": "ipython3",
   "version": "3.6.1"
  }
 },
 "nbformat": 4,
 "nbformat_minor": 2
}
