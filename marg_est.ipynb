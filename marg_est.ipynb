{
 "cells": [
  {
   "cell_type": "markdown",
   "metadata": {},
   "source": [
    "# estimating transition marginal (K) from joint (K×K)"
   ]
  },
  {
   "cell_type": "code",
   "execution_count": null,
   "metadata": {
    "collapsed": true
   },
   "outputs": [],
   "source": [
    "using Distributions\n",
    "using Plots\n",
    "import CSV\n",
    "import JLD2"
   ]
  },
  {
   "cell_type": "code",
   "execution_count": null,
   "metadata": {
    "collapsed": true
   },
   "outputs": [],
   "source": [
    "include(\"src/NGSIM.jl\")"
   ]
  },
  {
   "cell_type": "code",
   "execution_count": 3,
   "metadata": {},
   "outputs": [
    {
     "name": "stderr",
     "output_type": "stream",
     "text": [
      "\u001b[1m\u001b[36mINFO: \u001b[39m\u001b[22m\u001b[36mPrecompiling module GR.\n",
      "\u001b[39m"
     ]
    },
    {
     "data": {
      "text/plain": [
       "Plots.GRBackend()"
      ]
     },
     "execution_count": 3,
     "metadata": {},
     "output_type": "execute_result"
    }
   ],
   "source": [
    "gr()"
   ]
  },
  {
   "cell_type": "code",
   "execution_count": 6,
   "metadata": {},
   "outputs": [],
   "source": [
    "K = 8\n",
    "KK = K^2\n",
    "D = 3\n",
    "T = 2_000_000\n",
    "\n",
    "model = rand_chmm(K, D)\n",
    "(Z, X1, X2) = simulate_model(model, T)\n",
    ";"
   ]
  },
  {
   "cell_type": "code",
   "execution_count": 5,
   "metadata": {},
   "outputs": [
    {
     "ename": "LoadError",
     "evalue": "\u001b[91mUndefVarError: T not defined\u001b[39m",
     "output_type": "error",
     "traceback": [
      "\u001b[91mUndefVarError: T not defined\u001b[39m",
      "",
      "Stacktrace:",
      " [1] \u001b[1minclude_string\u001b[22m\u001b[22m\u001b[1m(\u001b[22m\u001b[22m::String, ::String\u001b[1m)\u001b[22m\u001b[22m at \u001b[1m.\\loading.jl:515\u001b[22m\u001b[22m"
     ]
    }
   ],
   "source": [
    "W = zeros(Int, T)\n",
    "for i in 1:T\n",
    "    W[i] = sub2ind((K, K), Z[1, i], Z[2, i])\n",
    "end\n",
    "\n",
    "P = model.P\n",
    "P_flat = empty(KK, KK)\n",
    "for k in 1:KK\n",
    "    i, j = ind2sub((K, K), k)\n",
    "    outer!(reshape(view(P_flat, :, k), K, K), model.P[:, i, j], model.P[:, j, i])\n",
    "end"
   ]
  },
  {
   "cell_type": "code",
   "execution_count": null,
   "metadata": {
    "collapsed": true
   },
   "outputs": [],
   "source": [
    "Phat_flat = zeros(KK, KK)\n",
    "for i in 1:(T-1)\n",
    "    Phat_flat[W[i], W[i+1]] += 1\n",
    "end\n",
    "Phat_flat ./= sum(Phat_flat, 1)\n",
    "\n",
    "Phat_svd = zeros(K, K, K)\n",
    "Phat_counts = similar(Phat_svd)\n",
    "for i in 1:K\n",
    "    for j in 1:i\n",
    "        k1 = sub2ind((K, K), i, j)\n",
    "        k2 = sub2ind((K, K), j, i)\n",
    "        A = reshape(Phat_flat[:, k1], K, K) + reshape(Phat_flat[:, k2], K, K)'\n",
    "        p1, p2 = estimate_outer_double(A)\n",
    "\n",
    "        Phat_svd[:, i, j] = p1\n",
    "        Phat_svd[:, j, i] = p2\n",
    "        \n",
    "        Phat_counts[:, i, j] = vec(sum(A, 2)) / 2\n",
    "        Phat_counts[:, j, i] = vec(sum(A, 1)) / 2\n",
    "    end\n",
    "end"
   ]
  },
  {
   "cell_type": "code",
   "execution_count": null,
   "metadata": {
    "collapsed": true
   },
   "outputs": [],
   "source": [
    "nbins=30\n",
    "plot(histogram(vec(Phat_flat.-P_flat), title=\"full (∈ K×K)\", bins=nbins), \n",
    "    histogram(vec(Phat_svd.-P), title=\"svd (∈ K)\", bins=nbins), \n",
    "    histogram(vec(Phat_counts.-P), title=\"counts (∈ K)\", bins=nbins), \n",
    "    layout=(3, 1), link=:x, legend=false)"
   ]
  }
 ],
 "metadata": {
  "kernelspec": {
   "display_name": "Julia 0.6.0",
   "language": "julia",
   "name": "julia-0.6"
  },
  "language_info": {
   "file_extension": ".jl",
   "mimetype": "application/julia",
   "name": "julia",
   "version": "0.6.0"
  }
 },
 "nbformat": 4,
 "nbformat_minor": 2
}
