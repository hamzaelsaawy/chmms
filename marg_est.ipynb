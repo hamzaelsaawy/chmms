{
 "cells": [
  {
   "cell_type": "markdown",
   "metadata": {},
   "source": [
    "# estimating transition marginal (K) from joint (K×K)"
   ]
  },
  {
   "cell_type": "code",
   "execution_count": 3,
   "metadata": {},
   "outputs": [
    {
     "data": {
      "text/plain": [
       "Plots.PyPlotBackend()"
      ]
     },
     "execution_count": 3,
     "metadata": {},
     "output_type": "execute_result"
    }
   ],
   "source": [
    "using Distributions\n",
    "using Plots\n",
    "pyplot()"
   ]
  },
  {
   "cell_type": "code",
   "execution_count": 4,
   "metadata": {},
   "outputs": [
    {
     "data": {
      "text/plain": [
       "chmm_em! (generic function with 1 method)"
      ]
     },
     "execution_count": 4,
     "metadata": {},
     "output_type": "execute_result"
    }
   ],
   "source": [
    "include(\"src/NGSIM.jl\")"
   ]
  },
  {
   "cell_type": "code",
   "execution_count": 5,
   "metadata": {
    "collapsed": true
   },
   "outputs": [],
   "source": [
    "K = 5\n",
    "KK = K^2\n",
    "D = 3\n",
    "T = 5_000_000\n",
    "# T = 10_000_000\n",
    "\n",
    "model = rand_chmm(K, D)\n",
    ";"
   ]
  },
  {
   "cell_type": "raw",
   "metadata": {},
   "source": [
    "t = (eye(K)*K*2 + 1)./(K*3)\n",
    "[model.P[:, :, i] = copy(t)  for i in 1:K]"
   ]
  },
  {
   "cell_type": "code",
   "execution_count": 6,
   "metadata": {
    "collapsed": true
   },
   "outputs": [],
   "source": [
    "(Z, X1, X2) = simulate_model(model, T)\n",
    ";"
   ]
  },
  {
   "cell_type": "code",
   "execution_count": 16,
   "metadata": {
    "collapsed": true
   },
   "outputs": [],
   "source": [
    "P = zeros(K, K, K)\n",
    "\n",
    "for i in 1:K\n",
    "    for j in 1:i\n",
    "        k1 = sub2ind((K, K), i, j)\n",
    "        k2 = sub2ind((K, K), j, i)\n",
    "        A = reshape(P_flat[:, k1], K, K) + reshape(P_flat[:, k2], K, K)'\n",
    "        \n",
    "        p1, p2 = estimate_outer_double(A)\n",
    "        P[:, i, j] = p1\n",
    "        P[:, j, i] = p2\n",
    "        \n",
    "#         P_counts[:, i, j] = vec(sum(A, 2)) ./ 2\n",
    "#         P_counts[:, j, i] = vec(sum(A, 1)) ./ 2\n",
    "    end\n",
    "end"
   ]
  },
  {
   "cell_type": "markdown",
   "metadata": {},
   "source": [
    "## how well does it work on the data?"
   ]
  },
  {
   "cell_type": "code",
   "execution_count": 14,
   "metadata": {},
   "outputs": [],
   "source": [
    "P_flat = model.P\n",
    "Phat_flat = zeros(KK, KK)\n",
    "for i in 1:(T-1)\n",
    "    w1 = sub2ind((K, K), Z[:, i]...)\n",
    "    w2 = sub2ind((K, K), Z[:, i+1]...)\n",
    "\n",
    "    Phat_flat[w1, w2] += 1\n",
    "end\n",
    "Phat_flat ./= sum(Phat_flat, 1)\n",
    "\n",
    "Phat_svd = zeros(K, K, K)\n",
    "Phat_counts = zeros(K, K, K)        \n",
    "for i in 1:K\n",
    "    for j in 1:i\n",
    "        k1 = sub2ind((K, K), i, j)\n",
    "        k2 = sub2ind((K, K), j, i)\n",
    "        A = reshape(Phat_flat[:, k1], K, K) + reshape(Phat_flat[:, k2], K, K)'\n",
    "\n",
    "        p1, p2 = estimate_outer_double(A)\n",
    "        Phat_svd[:, i, j] = p1\n",
    "        Phat_svd[:, j, i] = p2\n",
    "        \n",
    "        Phat_counts[:, i, j] = vec(sum(A, 2)) ./ 2\n",
    "        Phat_counts[:, j, i] = vec(sum(A, 1)) ./ 2\n",
    "    end\n",
    "end"
   ]
  },
  {
   "cell_type": "code",
   "execution_count": 17,
   "metadata": {},
   "outputs": [
    {
     "data": {
      "text/html": [
       "<img src=\"data:image/png;base64,iVBORw0KGgoAAAANSUhEUgAAAlgAAAGQCAYAAAByNR6YAAAABHNCSVQICAgIfAhkiAAAAAlwSFlzAAAPYQAAD2EBqD+naQAAIABJREFUeJzs3XtUVXX+//HXEfCgBhiS5ombKeSkjlfKslGxvHRTyWuOFMtv32zK1ZipX52aQG0qJ5vJmcm00cFJy9TuY2aaF9Q0B1fqVJLhb0QED5FAgBeOgPv3B8OZCNADbM45wPOx1l7D2Z99eR9ms3u592d/tsUwDEMAAAAwTStPFwDA80pLS5WUlKSoqChZrVZZLBa9//779dpWZGSkIiMjq8xbvXq1LBaLVq9eXadtvf/++7JYLNq3b1+9ammuPv30U1ksFm3evNnTpQCoha+nCwDgeS+99JIWLFigwYMHa+LEifLz81P37t09WlNpaanmzp2rkSNH6tZbb73sspmZmfr888+VmZmpkpKSGpeZMmWKrr/++ivuNzIyUjk5OTVuZ8+ePbr33ntVUlKidevWKS4uzrUvY/I+77jjDt12223O34+Pj48pdQAwDwELgDZt2qSrrrpK27ZtU+vWrT1djiRpzZo1Sk9P1/Lly2td5ttvv9UTTzyhLVu26NKlS7JYLGrVquYL8zfddJNLAas2mzZt0sSJE+Xr66vNmzdr2LBh9d6WGfucO3euRo8erbfeeku//OUvG70WAHXDLUIAOn36tDp06OA14UqSXn31VYWFhSk2NrbG9k2bNql///5KTU3VokWLdOzYMV28eFFlZWU1TiNGjKh3LW+88Ybi4uLUrl077dixo8ZwtWzZMhUUFNS6jfPnz+vll1+Wq91er7TPUaNGKSQk5LIBFIDnELCAFiwpKUkWi0UnTpzQyZMnZbFYZLFYnH2oLtd3ateuXbJYLEpKSjK9rq+++koHDx7UuHHjZLFYqrWnp6drypQpioqK0uHDh/Wb3/xG0dHR8vU1/6L8n//8Z8XHx6tz587as2ePBgwYUG2Z1NRUPfbYY7rjjjtqDFkXLlzQvffeqyeeeEIfffSRKfv08/PT2LFjtXfvXh0/frx+Xw5AoyFgAS3Y0KFDlZiYqKCgIAUFBSkxMVGJiYmaOXOmR+vavn27JGngwIE1ts+bN08Wi0XvvfeebDZbo9WxYMECPf7444qOjtZnn31Wa7+0mJgY/fnPf9YXX3yh4cOH64cffnC2VYarHTt26Omnn9Y999xjyj4l6ZZbbpEk7dixox7fDkBjog8W0IINHTpUQ4cOdV6haoyrUfXx2WefSZL69+9frS03N1cffvihnnjiCUVERDRaDb/+9a/1pz/9Sf3799eWLVsUEhJy2eVnzJihsrIyPfHEExo+fLi2bdsmq9Wqe++9V9u3b9e8efO0aNEiU/dZeWXrs88+08MPP1y3LwigURGwAHidrKwsSVKnTp2qtf3rX/9SWVmZrrrqKm3atMnlbd5888265pprXFrW4XDoT3/6kwICAlwKOpVmzpyp8vJyzZ49W8OHD1f79u21fft2zZkzR88//7zp+6z8/VT+vgB4DwIWAK+Tl5cnHx8fBQQEVGvLz8+XJCUmJtZpmx9//LFGjRrl0rJ+fn669dZblZKSogceeEDvvfeerFarS+s++eSTKikp0dNPPy2p4srW73//+0bZZ3BwsCTpzJkzLtUGwH0IWAC8Tps2bVReXq7S0lL5+flVaQsLC5MkLVmyRLfffrvL2+zatavLy7Zq1UqbN2/Wvffeq48//lhjxozR+++/L39//yuu63A4tHfvXufngwcPqqioSIGBgabv88KFC5Kktm3buvjNALgLAQtArSrHlCorK6vWVlhY2Gj7rbyVl5+fX+02YZ8+fXT11VfrwIEDevLJJxuthrZt22rTpk0aPXq0PvnkE40ePVoffPCB2rRpU+s6DodDcXFx2rJli2bPnq2OHTtq7ty5GjVqlD755JMar8g1ZJ+VV/NcvfUJwH14ihBAra6++mpJUnZ2drW2Q4cONdp+e/XqJUk6duxYtbY2bdrof/7nf/T2229ry5YtjVZD5b7+8Y9/aOTIkdq2bZvuuecenT9/vsZlL168qHHjxunjjz/Wk08+qRdffFFz5szR73//e+3fv1+jRo1ScXGxqfus/P1U/r4AeA8CFoBa9e/fXxaLRW+99VaV17ikp6dr6dKljbbfIUOGSJIOHDhQY3tSUpJ+9rOfafLkyXr33XcbrQ5J8vf31wcffKA777xTO3bs0F133aVz585VWaYyXH300UeaNWuWlixZ4mybM2eOFi9erH379unOO+/U2bNnTdmn9N/fT+XvC4D34BYhgFrZbDbdf//9evPNN9W/f3+NGjVKubm5eu+993TnnXfq7bffbpT93n777QoICNC2bds0Z86cau3t2rXT5s2bNXHiRI0bN0633HKLxo0bpy5dutQ6Gn1dniL8KavVqvfee0/jx4/Xpk2bdOedd2rz5s266qqrJElpaWnasWOHnnjiCb300kvV1p87d64Mw9Bvf/tbpaam1jo6fV32KUnbtm3T1VdfrcGDB9frewFoRAaAFi8iIsKIiIiose38+fPG448/bnTq1MmwWq3Gz3/+c+ONN94wdu7caUgyEhMTr7it5ORkQ5KRnJzsck2/+tWvDB8fH+P06dO1LnPx4kVj2bJlRu/evQ1Jl50+/vhjl/YbERFhWK3WGtscDocxZswYQ5IxaNAgo6ioyNl27NixK267tmXqs88TJ04YFovFmDlz5hX3C8D9LIbh4ouxAMCNjh07pp49eyopKUlPPfXUFZc/d+6cMjMz5XA4amzv2rXrFTuZNyVPP/20fv/73ystLa1OT0gCcA8CFgCv9atf/UobN27UiRMnmlU4aqiCggJFRkYqISGhUfvCAag/nyRveTcGAPzETTfdJIvFIpvNVuOo7i1VWlqagoODNXfuXMbAArwUV7AAAABM5hym4fHHH1dkZKQsFosOHz7sXGDo0KHq0qWL+vTpoz59+uiPf/yjs+38+fO6//771a1bN0VHRzfaE0UAAABNiXOYhvHjx2vu3Lm67bbbqi30xz/+UWPHjq02f8mSJbJarTp+/LhOnDihm2++WbGxserQoUPjVg0AAODFnFewBg8erNDQ0DqtvH79ej3yyCOSpC5dumjo0KF67733zK0QAACgiXFpJPe5c+eqV69emjRpkv79738752dmZioiIsL5OTIyUpmZmbVux+FwqKioyDkVFhbq+++/F93AAABAc3LFkdzXrFmjsLAwGYahV155Rffcc4+OHj1ar509//zzWrBgQbX5J06cuOKb5tG0FRUV8f8xmrScnBz16NGjXuta27TVPz/fX+e7BIDZOBc3nuDg4CqfrxiwwsLCJEkWi0UzZszQ7NmzlZeXpw4dOig8PFwnT55U586dJUkZGRkaMWJErduaP3++Zs2a5fxcVFSksLAwBQcH8394C/DTgw/wBLvdLrvdXuf10tLSKn6IXy6F93V9xZw0OVYlqKysjL8BeAWOQ/e4bMAqKytTXl6ec/yZd955R506dXJ2Yp8wYYKWL1+ugQMH6sSJE9q1a5eWLVtW6/asVqusVquJ5QOA6+x2u2w2W8M2Et5XiqhDwALQIjkD1vTp0/XRRx8pJydHI0eOVEBAgI4cOaK7775bDodDrVq1UkhIiD788EPnynPmzNG0adPUtWtX+fj46C9/+YtCQkI88kUA4EqcV67qehVKkr76WPogyfSaADRPzoC1YsWKGhc4ePBgrSu3a9dO69evN78qAGhM9bkKZf+mcWoB0Cy59BQhAAAAXEfAAgAAMBkBCwAAwGQELAAAAJMRsAAAAExGwAIAADAZAQsAAMBkBCwAAACTEbAAAABMRsACAAAwGQELAADAZAQsAAAAkxGwAAAATEbAAgAAMBkBCwAAwGQELAAAAJMRsAAAAExGwAIAADAZAQsAAMBkBCwAAACTEbAAAABM5gxYjz/+uCIjI2WxWHT48GHnArm5uRo1apSioqLUs2dP7d6929l2/vx53X///erWrZuio6P19ttvu7d6AAAAL+QMWOPHj9fevXsVERFRZYF58+Zp4MCBSk9PV3JysqZMmaLS0lJJ0pIlS2S1WnX8+HF98sknevTRR5WXl+febwAAAOBlnAFr8ODBCg0NrbbAhg0b9Mgjj0iSYmJiZLPZlJKSIklav369s61Lly4aOnSo3nvvPXfUDQAA4LV8L9eYl5en0tJSXXvttc55kZGRyszMlCRlZmZWueL147aaOBwOORwO5+eioqJ6Fw4AAOCtLhuwzPb8889rwYIF1ebn5+errKzMnaXAzQoKCjxdAqDCwkKP7js/P99j+wckzsWNKTg4uMrnywasDh06yNfXVzk5Oc6rWBkZGQoPD5ckhYeH6+TJk+rcubOzbcSIEbVub/78+Zo1a5bzc1FRkcLCwhQcHKzAwMD6fSM0GT89+AB3CwoK8ui++RuAN+A4dI8rDtMwYcIELV++XJKUmpqq7OxsDRkypFrbiRMntGvXLo0dO7bWbVmtVgUGBlaZAAAAmhtnwJo+fbpCQ0OVlZWlkSNHqlu3bpKkxYsXa9++fYqKilJCQoLWrl0rPz8/SdKcOXN04cIFde3aVSNHjtRf/vIXhYSEeOabAAAAeAnnLcIVK1bUuECnTp20devWGtvatWun9evXN05lAAAATRQjuQMAAJiMgAUAAGAyAhYAAIDJCFgAAAAmI2ABAACYjIAFAABgMgIWAACAyQhYAAAAJiNgAQAAmIyABQAAYDICFgAAgMkIWAAAACYjYAEAAJiMgAUAAGAyAhYAAIDJCFgAAAAm8/V0AQBQH3a7XXa7vU7rpKWlNVI1AFAVAQtAk2O322Wz2TxdBgDUioAFoMlxXrmKXy6F93V9xa8+lj5IapSarqQ+V89CQkIUHh7eCNUAaGwELABNV3hfKaIOAcv+TePVUpviM5KkqVOn1nlV/zZtdeybNEIW0AS5FLAiIyNltVrVpk0bSdL8+fM1adIk5ebm6oEHHtD/+3//T1arVcuWLdPgwYMbtWAAaFLOVgSsOl9ty0lTyaoEnTlzhoAFNEEuX8Fav369+vTpU2XevHnzNHDgQG3ZskWpqamKi4vTiRMn5OfnZ3qhANCk1fVqG4AmrUHDNGzYsEGPPPKIJCkmJkY2m00pKSmmFAYAANBUuXwFKz4+XpJ000036YUXXlCrVq1UWlqqa6+91rlMZGSkMjMza92Gw+GQw+Fwfi4qKqpPzQAAAF7NpYC1e/duhYeHq7S0VE8//bQefPBBrVmzps47e/7557VgwYJq8/Pz81VWVlbn7aHpKCgo8HQJaEYKCws9XYLbFBYWKj8/39NloJngXNx4goODq3x2KWBVdrD08/PTzJkzFR0drQ4dOsjX11c5OTnOq1gZGRmX7Yw5f/58zZo1y/m5qKhIYWFhCg4OVmBgYJ2/DJqWnx58QH0FBQV5ugS3OX36dJ2/L8M74HI4F7vHFQPWuXPnVFpaqvbt20uS1q1bp759KzpqTpgwQcuXL1dSUpJSU1OVnZ2tIUOG1Lotq9Uqq9VqUukAmgNGZK8FwzsATdoVA9Z3332ncePGqby8XIZh6Prrr9frr78uSVq8eLHi4+MVFRWl1q1ba+3atTxBCMBljMh+GQzvADRpVwxY119/vQ4dOlRjW6dOnbR161bTiwLQMjTFEdndjuEdgCaJkdwBeF5TGJEdAOqgQeNgAQAAoDoCFgAAgMkIWAAAACYjYAEAAJiMgAUAAGAyAhYAAIDJCFgAAAAmYxwsAKbglTcA8F8ELAANxitvvE99wisviQbMQ8AC0GC88saL8JJowCsQsACYh1feeB4viQa8AgELQBX0pWom6vmS6Pr+f8ntRaAqAhYAJ/pStWANuLUocXsR+CkCFgAn+lK1YPW9tShxexGoAQELQHX0pWq56nlrEUBVDDQKAABgMgIWAACAyQhYAAAAJiNgAQAAmIxO7gAAj6nPuGsS427B+zU4YKWnp+vBBx/UmTNnFBQUpNWrV6tHjx5m1Aagnur7Hy0GDIU7NWTcNcbdgrdrcMCaPn26Hn74YSUkJOjtt99WQkKCUlNTzagNaDTN+V/NDBaKpqLe4679Z9ytPXv26Gc/+1md9tkU/obRPDQoYOXm5urgwYPaunWrJGncuHGaMWOGjh8/rm7duplSIGC2pvSv5ga9tqY+A0YyYCgaoK5XQJ3L13XsLV5ojSagQQHr1KlT6ty5s3x9KzZjsVgUHh6uzMzMGgOWw+GQw+Fwfi4sLJQkFRUVNaQMNAFFRUXO48TT0tPTK36I/ZXUMdr1FQtOqWTrH/SXv/xFYWFhddqnv7+/SkpK6rROYWGhfvvb39ZpnaoMyXG2bquU/qfGzC/qtm5OWvNezxP7bCrrSVJGxV2L+r5mp877PL6n4n/r+TeckZGh9u3b163GZsKbzsXNUUBAgCwWS8UHowEOHjxoREdHV5kXExNjbN++vcblExMTDUlMTExMTExMTM1uKiwsdGYei2EYhuopNzdX3bp1U35+vnx9fWUYhjp37qy9e/e6dAXr0qVLys/PV4cOHf6b+NDsFBUVKSwsTKdOnVJgYKCnywHqheMYTR3HcOP78RWsBl0n7Nixo/r166e1a9cqISFB77zzjkJDQ2vtf2W1WmW1WqvMa6mXaVuiwMBA/qjR5HEco6njGHaPBt+IXbFihRISEvTcc88pMDBQycnJZtQFAADQZDU4YN1www3av3+/GbUAAAA0Cz5JSUlJni4CzZ+Pj4+GDh3K0yto0jiO0dRxDLtPgzq5AwAAoDpe9gwAAGAyAhYAAIDJCFgAAAAmI2ChQdLT03XrrbcqOjpaMTEx+vrrr2tc7ssvv9TgwYPVvXt39ezZU9OmTdOFCxec7RaLRb169VKfPn3Up08f7dmzx11fAS2cq8fwpk2b1L17d0VFRem+++6r8oqvAwcOqHfv3oqOjtawYcOUnZ3trvIBl45hzsEe0JBX5QCxsbFGcnKyYRiGsXHjRmPAgAE1Lvftt98aR44cMQzDMMrKyoyJEycaiYmJznZJRkFBQWOXC1TjyjFcXFxsdOzY0UhLSzMMwzAee+wxY/bs2YZhGEZ5ebnRtWtXY8eOHYZhGMaLL75ojB8/3j3FA4ZrxzDnYPfjKULUW11flfRjS5Ys0VdffaXVq1dLqvjXU0FBASP7w61cPYY3btyoVatWacuWLZKko0ePasSIEcrKylJqaqri4+P1zTffSJKKi4t1zTXX6IcffpC/v79HvhdajvqehzkHNz5uEaLeTp06pc6dOzvHU7FYLAoPD1dmZuZl1zt37pxWrlypMWPGVJkfGxur3r17a9asWTp37lyj1Q1UcvUYzszMVEREhPNzZGSk7Ha7ysrKqrUFBAQoMDBQp0+fds+XQItWn/Mw52D3IGDBrS5evKhJkyZpxIgRiouLc84/efKkDh06pH379un777/XnDlzPFglADRPnIPdh4CFOnn99dednSA//fRT57/iJckwDGVmZio8PLzGdUtLSzVp0iR17txZS5curdJWuU67du306KOP0sESbhEWFubSMRweHq6TJ086P2dkZDivGvy0rbi4WIWFhbLZbO75EmjRXD2GJc7B7kbAQp088MADOnz4sA4fPqz/+7//U79+/bR27VpJ0jvvvKPQ0NAa7/uXlZVp8uTJCg4O1muvvSaLxeJsKygo0Pnz5yVJly5d0vr169W3b1/3fCG0aB07dnTpGB41apS++OILZz+rZcuWafLkyZKk/v37q7S0VDt37pQkrVixQvfeey/9r+AWrh7DnIPdj07uaJBjx44pISFBeXl5CgwMVHJysnr16iVJeuaZZ2Sz2fTII4/ojTfe0NSpU/Xzn//c+Yc9aNAgvfLKK9q/f7+mT58ui8WisrIy9evXT0uXLlVwcLAnvxpaiNqO4R8fv5L04Ycfau7cuSorK1PPnj3197//XUFBQZLkPIZLSkpks9m0Zs0ahYWFefJroQVx5RjmHOx+BCwAAACTcYsQAADAZAQsAAAAkxGwAHi9pKQkWSwW7dq1q07rzZw5UyEhISouLm6cwkzw9NNPKyAgQN99952nSwFgIl9PFwAAjSE9PV3Lli3TwoULFRAQcNllDx06pC+//FLZ2dkqLy+vcZn58+fLx8fnstvJyMhQly5dNHLkSOeo7z+2dOlSPfHEEwoNDdW2bdt0ww036Mknn9Sf//xnJSYmavny5a5/QQBejYAFoFlatGiR/Pz89Nhjj9W6zMcff6zf/OY3Onz4sCSpVatWVR5f/7E5c+ZcMWBdzjPPPKNFixape/fu2rp1q/Mpw6uvvloPPfSQli5dqvnz51cZFR5A08UtQgDNTl5enjZs2KC4uLhar14lJibq7rvvVnl5uZKTk5WVlaWysrJaJ6vVWq9aDMPQjBkztGjRIg0YMEB79uypNoTD1KlTVV5erpUrV9ZrHwC8DwELQJ298847GjJkiDp27Ch/f3/ZbDbdcccdeueddyRVvHajVatWGjZsWI3rl5aWKiQkRGFhYbp06ZJz/qlTp3T//fcrODhYV111lYYMGaLdu3fXub5169bJ4XBowoQJNbavX79eCxcuVHx8vFJTU5WQkKDrrruu1qtX9VVaWqqpU6fqlVde0bBhw7Rjxw6FhIRUW65v377q1q2b88W7AJo+AhaAOnn11Vc1fvx4paenKy4uTrNmzdKoUaOUk5Oj9957T5IUERGhwYMHKyUlRVlZWdW2sXnzZuXl5emXv/ylWrWqOA3Z7Xbdcssteuutt3TTTTfp8ccfV3BwsIYPH67PP/+8TjVu375dkjRw4MBqbaWlpZo5c6YGDBiglStX1vvK1JVcuHBBY8eO1Ztvvqm4uDht3rz5sn3BbrnlFmVlZenbb79tlHoAuBd9sADUycqVK9W6dWsdPnxYHTt2rNKWl5fn/Dk+Pl4pKSl68803NXfu3CrLrVmzxrlMpfnz5ys7O1vPPvusnnrqKef81157TdOnT69TjZ999pmuu+46derUqVrbP/7xD+Xk5GjVqlXy8/Or03ZdVVRUpBEjRmjv3r2aNm2aXnvttSv23xowYIDWrFmjzz77TNHR0Y1SFwD3IWABqDM/P78aw0mHDh2cP48fP14zZszQ2rVrqwSsH374QZs2bVKfPn3Uo0cPSdLFixe1fv16dezYUU8++WSVbT700ENasmSJ0tPTXart4sWL+v7779WvX78a27/44gtZLBaVlJRo06ZNLm1Tku666y7n1bYr2b9/v6SKq1KrVq1yaZ3KMFjTFT8ATQ8BC0CdTJ48WXPnzlXPnj01ZcoUxcbG6rbbblNgYGCV5YKCgjR69Ght2LBBR44cUe/evSVJGzdulMPhqHL16tixYyopKdGwYcOqvSS5VatWGjRokMsBq/IqWvv27Wtsz8/Pl2EYGjdunMvfWaq45efqC5xvvPFG/fDDD9q/f78WLlyoZ5555orrVL737cyZM3WqC4B3ImABqJPZs2erQ4cOevXVV/XSSy9pyZIl8vX11d13360//vGP6tKli3PZ+Ph4bdiwQWvXrnUGrDVr1sjHx0dTpkxxLldYWChJ1W45VqrpVl9t2rRpI0kqKSmpsb3yCb6dO3fWGsJqUpe+WmFhYfrggw8UGxurxMRElZeXa8GCBZdd58KFC5Kktm3burwfAN6LgAWgTiwWi6ZNm6Zp06YpLy9Pe/bs0bp167Rhwwalp6frX//6l7O/0ahRo3TNNddo3bp1Wrx4sTIzM7V3716NGDFC1157rXObQUFBkqTc3Nwa91mXUc7bt28vPz8/5efn19he+WTj0aNH9eijj7q83brq1q2bUlJSFBsbq4ULF6q8vFzPPvtsrctX1nvNNdc0Wk0A3IenCAHUW4cOHTR27FitX79ew4YN09GjR3X8+HFnu6+vryZPnqzs7Gzt3LlTb7zxhgzD0NSpU6tsJzo6Wv7+/jp48GC1K0+XLl3Svn376lRXz549deLECV28eLFa280336wBAwYoMTFR2dnZddpuXV1//fXatWuXIiIi9Lvf/U7z58+vddljx45Jknr16tWoNQFwDwIWgDrZtWuXDMOoMq+0tNR5Bean/ZQq+1qtWbNGa9asUbt27RQXF1dlGavVqokTJyo3N1cvvfRSlbaVK1fWeeiCIUOGyOFw6MiRIzW2r169WufPn9fw4cP11Vdf1WnbddWlSxelpKSoS5cueuGFF6o9UVnpwIED8vX11a233tqo9QBwD24RAqiTsWPHKjAwUAMHDlRERIRKS0u1bds2HT16VOPHj6/2qpeYmBjdcMMNevPNN1VaWqr4+Hi1a9eu2nZfeOEFbd++XU8//bT27t2rvn37Ki0tTZs3b9aIESO0detWl2uMi4vTyy+/rG3btikmJqZae48ePbRp0yZNmTJFffv21ejRozV8+HDZbLZanxSsy1OEPxUREeG8Xfjiiy+qvLy8SpA8e/asPv/8cw0fPrzG3w2AJsgAgDpYtmyZMXr0aCMiIsLw9/c3OnToYNx0003Gq6++aly8eLHGdZ599llDkiHJ+OSTT2rd9smTJ41JkyYZ7du3N9q2bWv84he/MFJSUozExERDkrFz506X67zxxhuNG2+88bLL5ObmGk899ZRhs9mc9dU2Xbhw4Yr7PHHihCHJGDlyZI3tWVlZRlRUlCHJ+PWvf+2cv3r1akOS8f7777v8/QB4N4th/ORaPwA0A6tWrdJDDz2kvXv3atCgQVdcPi8vT6dPn1Z5eXmN7b179zb9VTqVfvGLX+i7775TWlpag14oDcB7ELAANEvl5eXq3bu3bDZbnW4vutv27dt1xx136N13363WNw1A00UndwDNko+Pj/72t79p0KBBKi4u9nQ5tSosLNSSJUsIV0AzwxUsAAAAk3EFCwAAwGQELAAAAJMRsAAAAEzm0YBlGIaKioqqjQoNAADQlHk0YBUXFysoKMirn/CBOQoLCz1dApoYu90ui8XiVZN/23bKzMz09K8GqDfOxe7Dq3LgFrUNfI1WAAAgAElEQVQN3gjUxm63V/wQv1wK7+vZYiQpJ02OVQk6c+aMwsPDPV0NUC+ci92HgAXAu4X3lSK8IGABQB3QyR0AAMBkBCwAAACTEbAAAABMRsACAAAwGQELAADAZAQsAAAAkxGwAAAATEbAAgAAMBkBCwAAwGQELAAAAJMRsAAAAExGwAIAADAZAQsAAMBkBCwAAACTXTFglZSUaOzYsYqOjlbv3r01fPhwHT9+XJKUm5urUaNGKSoqSj179tTu3bsbvWAAAABv59IVrIcffljHjh3TkSNHNGbMGD300EOSpHnz5mngwIFKT09XcnKypkyZotLS0kYtGAAAwNtdMWD5+/vrrrvuksVikSQNHDhQGRkZkqQNGzbokUcekSTFxMTIZrMpJSWl8aoFAABoAnzrusLSpUs1ZswY5eXlqbS0VNdee62zLTIyUpmZmbWu63A45HA4nJ+LiorqunsAAACvV6eA9dxzz+n48ePavn27Lly4UOedPf/881qwYEG1+fn5+SorK6vz9tB0FBQUeLoENDGFhYWeLqFGhYWFys/P93QZQL1wLm48wcHBVT67HLCWLFmid999V59++qnatm2rtm3bytfXVzk5Oc6rWBkZGQoPD691G/Pnz9esWbOcn4uKihQWFqbg4GAFBgbW9bugifnpwQdcTlBQkKdLqFFQUBDHMpo0jl/3cKmT+x/+8AetW7dO27ZtU/v27Z3zJ0yYoOXLl0uSUlNTlZ2drSFDhtS6HavVqsDAwCoTAABAc3PFK1hZWVl68skndf311ys2NlZSRVA6cOCAFi9erPj4eEVFRal169Zau3at/Pz8Gr1oAAAAb3bFgBUaGirDMGps69Spk7Zu3Wp6UQAAAE0ZI7kDAACYjIAFAABgMgIWAACAyQhYAAAAJqvzSO4A0JKlpaV5ugRJUkhIyGXHHQTgWQQsAHBF8RlJ0tSpUz1cSAX/Nm117Js0QhbgpQhYAOCKsxUBS/HLpfC+nq0lJ00lqxJ05swZAhbgpQhYAKqw2+2y2+2eLsNrbsVVE95XivBwwALg9QhYAJzsdrtsNpunywCAJo+ABcDJeeXKG26DffWx9EGSZ2sAgHoiYAGozhtug9m/8ez+AaABGAcLAADAZAQsAAAAkxGwAAAATEYfLABoorxpKAtGlgeqImABQFPjZaPKS4wsD/wUAQsAmhpvGlVeYmR5oAYELABoqrxhOA0ANSJgAR7mLa+mkbyrTw8ANGUELMCDeDUNADRPBCzAg7zq1TQSr6cBAJMQsABv4C19aXg9DQCYgoFGAQAATEbAAgAAMBkBCwAAwGQuBazHH39ckZGRslgsOnz4sHN+bm6uRo0apaioKPXs2VO7d+9utEIBAACaCpcC1vjx47V3715FRERUmT9v3jwNHDhQ6enpSk5O1pQpU1RaWtoohQIAADQVLj1FOHjw4Brnb9iwQcePH5ckxcTEyGazKSUlRXfccYd5FQIAADQx9R6mIS8vT6Wlpbr22mud8yIjI5WZmVnrOg6HQw6Hw/m5qKiovrsHAHgZb3kTQEhICO9EhMe5dRys559/XgsWLKg2Pz8/X2VlZe4sBW5WUFDg6RK8UmFhoadLABquuOLl01OnTvVwIRWsbdrqn5/vV2hoqKdL8TqcixtPcHBwlc/1DlgdOnSQr6+vcnJynFexMjIyLvuvhvnz52vWrFnOz0VFRQoLC1NwcLACAwPrWwqaiJ8efJCCgoI8XQLQcGcrApZXvJEgJ02OVQkqKyvjnFMLfi/u0aArWBMmTNDy5cuVlJSk1NRUZWdna8iQIbUub7VaZbVaG7JLAIC38pY3EgBewKWnCKdPn67Q0FBlZWVp5MiR6tatmyRp8eLF2rdvn6KiopSQkKC1a9fKz8+vUQsGAADwdi5dwVqxYkWN8zt16qStW7eaWhAAAEBTx0juAAAAJiNgAQAAmIyABQAAYDICFgAAgMkIWAAAACYjYAEAAJiMgAUAAGAyAhYAAIDJ3PqyZwAA3CEtLc3TJTiVl5fLx8fH02VIknx9fXkXoZsQsAAAzUdxxYunp06d6uFCvJO1TVt9+02awsPDPV1Ks0fAAgA0H2crApbil1e8fNrTvvpY+iDJO+rJSZNjVYLOnDlDwHIDAhbcIicnRxkZGZ4uwykkJIQTDNCchfeVIrwgYNm/qfhfb6kHbkPAQqOz2+3q0aOHp8uowr9NWx3jMjkAoJEQsNDo7HZ7xQ/ecIlcknLSVMJlcgBAIyJgwX24RA4AaCEYBwsAAMBkBCwAAACTEbAAAABMRh+sZsxut/+3g7kHedOIyj/mDXV5Qw0AWhZvOu805yFzCFjNlN1ul81m83QZ3omRngG0RF547mvOQ+YQsJoprxoaoXIkY2/hTSM9e9vvBkDz5U3nPqnZD5lDwGruvGFohMqRjL0NvxsALZE3nPtaADq5AwAAmIyABQAAYDICFgAAgMmafB8sbxmKQJLKy8vl4+Pj6TIkeddjuAAA1MZb/ntl9pARDQ5Y6enpevDBB3XmzBkFBQVp9erV6tGjhxm1XRFDEQAA0ER52bARZg8Z0eCANX36dD388MNKSEjQ22+/rYSEBKWmpppR2xV55VAE3lCLxOP/AADv5k3DRjTCkBENCli5ubk6ePCgtm7dKkkaN26cZsyYoePHj6tbt26mFOgSb3jktPJxe2+oReLxfwBA0+At/900WYMC1qlTp9S5c2f5+lZsxmKxKDw8XJmZmTUGLIfDIYfD4fxcWFgoSSoqKqrX/s+ePVvxQ+YXkuNsvbZhmpw076lF8q56vKkWybvq8aZaJO+qx5tqkbyrHm+qRfKuerypFsm76vGmWiTvque7byVV5Ir6ZhJJCggIkMViqfhgNMDBgweN6OjoKvNiYmKM7du317h8YmKiIYmJiYmJiYmJqdlNhYWFzsxjMQzDUD3l5uaqW7duys/Pl6+vrwzDUOfOnbV3716XrmBdunRJ+fn56tChw38TH5qdoqIihYWF6dSpUwoMDPR0OUC9cByjqeMYbnw/voLVoFuEHTt2VL9+/bR27VolJCTonXfeUWhoaK39r6xWq6xWa5V57du3b0gJaEICAwP5o0aTx3GMpo5j2D0a/BThihUrlJCQoOeee06BgYFKTk42oy4AAIAmq8EB64YbbtD+/fvNqAUAAKBZ8ElKSkrydBFo/nx8fDR06FDnE6dAU8RxjKaOY9h9GtTJHQAAANXxsmcAAACTEbAAAABMRsBCg6Snp+vWW29VdHS0YmJi9PXXX9e43JdffqnBgwere/fu6tmzp6ZNm6YLFy442y0Wi3r16qU+ffqoT58+2rNnj7u+Alo4V4/hTZs2qXv37oqKitJ9991XZbTnAwcOqHfv3oqOjtawYcOUnZ3trvIBl45hzsEe0JCR3IHY2FgjOTnZMAzD2LhxozFgwIAal/v222+NI0eOGIZhGGVlZcbEiRONxMREZ7sko6CgoLHLBapx5RguLi42OnbsaKSlpRmGYRiPPfaYMXv2bMMwDKO8vNzo2rWrsWPHDsMwDOPFF180xo8f757iAcO1Y5hzsPvRyR31VteR/H9syZIl+uqrr7R69WpJFf96KigoYOBZuJWrx/DGjRu1atUqbdmyRZJ09OhRjRgxQllZWUpNTVV8fLy++abiBevFxcW65ppr9MMPP8jf398j3wstR33Pw5yDGx+3CFFvl3vZ9+WcO3dOK1eu1JgxY6rMj42NVe/evTVr1iydO3eu0eoGKrl6DGdmZioiIsL5OTIyUna7XWVlZdXaAgICFBgYqNOnT7vnS6BFq895mHOwexCw4FYXL17UpEmTNGLECMXFxTnnnzx5UocOHdK+ffv0/fffa86cOR6sEgCaJ87B7kPAQp28/vrrzk6Qn376qfNf8ZJkGIYyMzMVHh5e47qlpaWaNGmSOnfurKVLl1Zpq1ynXbt2evTRR+lgCbcICwtz6RgODw/XyZMnnZ8zMjKcVw1+2lZcXKzCwkLZbDb3fAm0aK4ewxLnYHcjYKFOHnjgAR0+fFiHDx/W//3f/zlf9i3psi/7Lisr0+TJkxUcHKzXXnvN+bZxSSooKND58+clSZcuXdL69evVt29f93whtGg/fmG9VPsxPGrUKH3xxRfOflbLli3T5MmTJUn9+/dXaWmpdu7cKani/az33nsv/a/gFq4ew5yD3Y9O7miQY8eOKSEhQXl5ec6Xfffq1UuS9Mwzz8hms+mRRx7RG2+8oalTp+rnP/+58w970KBBeuWVV7R//35Nnz5dFotFZWVl6tevn5YuXarg4GBPfjW0ELUdwz8+fiXpww8/1Ny5c1VWVqaePXvq73//u4KCgiTJeQyXlJTIZrNpzZo1CgsL8+TXQgviyjHMOdj9CFgAAAAm4xYhAACAyQhYAAAAJiNgAQAAmIyABQC1mDlzpkJCQlRcXOzpUmr19NNPKyAgQN99952nSwHwI3RyB9DkWCwWDRkyRLt27Wq0faSnp6tHjx5auHCh5s2bd9llDx06pC+//FLZ2dkqLy+vcZn58+fLx8fnstvJyMhQly5dNHLkSOdreX5s6dKleuKJJxQaGqpt27bphhtuUEFBgSIjI3X//fdr+fLlrn9BAI3K19MFAIA3WrRokfz8/PTYY4/VuszHH3+s3/zmNzp8+LAkqVWrVlXGF/qxOXPmXDFgXc4zzzyjRYsWqXv37tq6datzGIirr75aDz30kJYuXar58+dXeW0PAM/hFiEA/EReXp42bNiguLg4BQQE1LhMYmKi7r77bpWXlys5OVlZWVkqKyurdbJarfWqxTAMzZgxQ4sWLdKAAQO0Z8+eamNsTZ06VeXl5Vq5cmW99gHAfAQsoAXbvXu3xo4dq06dOslqtSosLEz33Xef9u7dW2W5c+fOKTExUd27d5e/v7+Cg4N1991367PPPqu2zYSEBFksFmVkZFRrS0pKksViqXJrb9euXbJYLEpKStLBgwc1fPhwBQQEKCgoSHFxcVW2U7msJKWkpMhisTin1atXS6oYiXrlypW66aabFBwcrDZt2ig0NFT33nuvy7cU161bJ4fDoQkTJtTYvn79ei1cuFDx8fFKTU1VQkKCrrvuulqvXtVXaWmppk6dqldeeUXDhg3Tjh07FBISUm25vn37qlu3bs7fAQDPI2ABLdTSpUs1dOhQbdu2TcOHD9eTTz6pYcOG6ciRI3r77bedy5WUlGjYsGFauHCh2rVrp5kzZ2rMmDHauXOnhgwZoo0bN5pST2pqqgYPHqzWrVtr+vTpGjBggN5//33dcccdKikpkSRFRkYqMTFRkhQREaHExETn1KdPH0kVfZ3+93//V/n5+ZoyZYpmzpypYcOG6euvv9ann37qUi3bt2+XJA0cOLBaW2lpqWbOnKkBAwZo5cqV9b4ydSUXLlzQ2LFj9eabbyouLk6bN2+u9WqaJN1yyy3KysrSt99+2yj1AKgjA0CLc/jwYaNVq1aGzWYzTpw4UaXt0qVLRnZ2tvPzggULDEnGL3/5S+PSpUvO+V988YXRunVro3379kZRUZFz/oMPPmhIqrZdwzCMxMREQ5Kxc+dO57ydO3cakgxJxltvvVVl+fj4eEOSsW7duirzJRlDhgyp8bsFBwcbNpvNOHfuXLW2vLy8Gtf5qWuuuca47rrramx75513DEnGRx995NK26uLEiROGJOOWW24xbrvtNkOSMW3aNKOsrOyK6y5dutSQZPztb38zvS4AdUcnd6AFWrFihS5duqRnn31WkZGRVdosFotsNpvz89///nf5+fnphRdeqHILrG/fvnrwwQf117/+Ve+//77i4+MbVNPgwYM1adKkKvOmTZumNWvWKDU11flyZVe0bt26xg7lrrxb7eLFi/r+++/Vr1+/Gtu/+OILWSwWlZSUaNOmTS7XdNddd6lVK9duGuzfv19SxVWpVatWubROp06dJElZWVku1wSg8RCwgBbon//8pyRpxIgRl12uqKhI//73v/Wzn/1MoaGh1dpjY2P117/+VYcPH25wwOrfv3+1eZX7/OGHH1zezuTJk7Vs2TL17NlTkydPVmxsrG655Ra1adPGpfXz8vIkSe3bt6+xPT8/X4ZhaNy4cS7XJFXc8vP393dp2RtvvFE//PCD9u/fr4ULF+qZZ5654jqV4fHMmTN1qgtA4yBgAS1QYWGhLBaLOnfufNnlioqKJP336shPVa5fuVxDBAYGVpvn61txiqptbKmaLF26VF26dFFycrKeffZZPfvss/L399fEiRP10ksv1dhJ/Mcqg1hlv6+fqnyCb+fOnbWGsJrUpa9WWFiYPvjgA8XGxioxMVHl5eVasGDBZde5cOGCJKlt27Yu7wdA4yFgAS1Q+/btZRiG7Ha7rrvuulqXqww9tY0SnpOTU2U5Sc7bYGVlZdWWLywsrHfNrvL19dXs2bM1e/ZsnT59WikpKUpOTtbrr7+unJwcffLJJ5ddv3379vLz81N+fn6N7cOGDZMkHT16VI8++qjp9Vfq1q2bUlJSFBsbq4ULF6q8vFzPPvtsrctX1nvNNdc0Wk0AXMdThEALdNNNN0mStm7detnlAgMDdf311+v48ePKzs6u1l457EHlE3xSxcCXkmpc/tChQ/UtuYpWrVq5dFXLZrPp/vvv15YtW9StWzd9+umnzis9l9OzZ0+dOHFCFy9erNZ28803a8CAAUpMTKzxO5rp+uuv165duxQREaHf/e53mj9/fq3LHjt2TJLUq1evRq0JgGsIWEAL9Mgjj8jHx0dPP/20Tp48WaXNMAydPn3a+fnBBx9UaWmp5s+fL+NHb9b617/+pdWrVysoKEhjx451zo+JiZGkamMyvf3220pJSTGl/uDg4Bo7czscDu3bt6/a/HPnzuns2bPy8/NzqaP5kCFD5HA4dOTIkRrbV69erfPnz2v48OH66quv6v4F6qBLly5KSUlRly5d9MILL2ju3Lk1LnfgwAH5+vrq1ltvbdR6ALiGW4RAC9SrVy+9/PLLevzxx9WjRw+NHTtWERERysnJ0e7du3X33Xfr5ZdfliTNnTtXH330kdasWaO0tDTdfvvtys3N1fr161VWVqa//vWvVcZnGjNmjLp27arVq1fr1KlT6tu3r9LS0rRjxw7dfffd+uijjxpc/7Bhw7RhwwaNHTtWffv2lY+Pj0aPHq3w8HANGjRI0dHR6t+/v8LDw3X27Flt2rRJOTk5mj17tkt9oeLi4vTyyy9r27ZtzsD4Yz169NCmTZs0ZcoU9e3bV6NHj9bw4cNls9lqDXB1eYrwpyIiIpy3C1988UWVl5frpZdecrafPXtWn3/+uYYPH6527drVax8ATObZUSIAeNLOnTuNe+65xwgODjZat25thIaGGuPGjTM+++yzKsudPXvW+O1vf2tER0c7x7668847jT179tS43RMnThhjx441AgICjHbt2hm33367kZqaetlxsBITE2vcjiTjwQcfrDLfbrcbEydONEJCQoxWrVoZkozk5GTj4sWLxuLFi40RI0YYoaGhRuvWrY1OnToZgwcPNt58880q43hdyY033mjceOONl10mNzfXeOqppwybzeYcy6u26cKFC1fcZ+X3HTlyZI3tWVlZRlRUlCHJ+PWvf+2cv3r1akOS8f7777v8/QA0Loth/OiaPwBAkrRq1So99NBD2rt3rwYNGnTF5fPy8nT69Ola+4b17t3b9FfpVPrFL36h7777TmlpaQ16oTQA8xCwAKAG5eXl6t27t2w22xUfBvCk7du364477tC7776ruLg4T5cD4D/o5A4ANfDx8dHf/vY3DRo0SMXFxZ4up1aFhYVasmQJ4QrwMlzBAgAAMBlXsAAAAExGwAIAADCZRwOWYRgqKioSdykBAEBz4tGAVVxcrKCgIK/uQApzuOMddGhe7Ha7LBaLV03+bdspMzPT078aoN44F7sPI7nDLVx5bxzwY3a7veKH+OVSeF/PFiNJOWlyrErQmTNnFB4e7ulqgHrhXOw+BCwA3i28rxThBQELAOqATu4AAAAmI2ABAACYjIAFAABgMgIWAACAyQhYAAAAJiNgAQAAmIyABQAAYDICFgAAgMkIWAAAACYjYAEAAJiMgAUAAGAyAhYAAIDJCFgAAAAmI2ABAACYjIAFAABgMgIWAACAyQhYAAAAJrtiwCopKdHYsWMVHR2t3r17a/jw4Tp+/LgkKTc3V6NGjVJUVJR69uyp3bt3N3rBAAAA3s6lK1gPP/ywjh07piNHjmjMmDF66KGHJEnz5s3TwIEDlZ6eruTkZE2ZMkWlpaWNWjAAAIC3u2LA8vf311133SWLxSJJGjhwoDIyMiRJGzZs0COPPCJJiomJkc1mU0pKSuNVCwAA0AT41nWFpUuXasyYMcrLy1NpaamuvfZaZ1tkZKQyMzNrXdfhcMjhcDg/FxUV1XX3AAAAXq9OAeu5557T8ePHtX37dl24cKHOO3v++ee1YMGCavPz8/NVVlZW5+2h6SgoKPB0CWhiCgsLPV1CjQoLC5Wfn+/pMoB64VzceIKDg6t8djlgLVmyRO+++64+/fRTtW3bVm3btpWvr69ycnKcV7EyMjIUHh5e6zbmz5+vWbNmOT8XFRUpLCxMwcHBCgwMrOt3QRPz04MPuJygoCBPl1CjoKAgjmU0aRy/7uFSwPrDH/6gdevW6dNPP1X79u2d8ydMmKDly5crKSlJqampys7O1pAhQ2rdjtVqldVqbXjVABqN3W6X3W73dBlKS0vzdAkAUG9XDFhZWVl68skndf311ys2NlZSRVA6cOCAFi9erPj4eEVFRal169Zau3at/Pz8Gr1oAI3DbrfLZrN5ugwAaPKuGLBCQ0NlGEaNbZ06ddLWrVtNLwqAZzivXMUvl8L7eraYrz6WPkjybA0AUE91fooQQAsQ3leK8HDAsn/j2f3XwltuXYaEhFy2zysAzyJgAYAris9IkqZOnerhQir4t2mrY9+kEbIAL0XAAgBXnK0IWF5x+zQnTSWrEnTmzBkCFuClCFgAUBfecPsUgNdz6V2EAAAAcB0BCwAAwGQELAAAAJPRBwsAmihvGTJCYtgI4KcIWADQ1HjZkBESw0YAP0XAAoCmxpuGjJAYNgKoAQELAJoqhowAvBad3AEAAExGwAIAADAZAQsAAMBkBCwAAACTEbAAAABMRsACAAAwGQELAADAZAQsAAAAkxGwAAAATEbAAgAAMBkBCwAAwGQELAAAAJMRsAAAAEzmUsB6/PHHFRkZKYvFosOHDzvn5+bmatSoUYqKilLPnj21e/fuRisUAACgqXApYI0fP1579+5VRERElfnz5s3TwIEDlZ6eruTkZE2ZMkWlpaWNUigAAEBT4evKQoMHD65x/oYNG3T8+HFJUkxMjGw2m1JSUnTHHXeYVyEAAEAT41LAqkleXp5KS0t17bXXOudFRkYqMzOz1nUcDoccDofzc1FRUX13DwBAjex2u+x2u6fLcAoJCVF4eLiny4Cb1Ttg1cfzzz+vBQsWVJufn5+vsrIyd5YCNysoKPB0CXBBYWGhp0tAE1ZYWKj8/HyP1pCTk6MePXp4tIafsrZpq39+vl+hoaGeLoVzcSMKDg6u8rneAatDhw7y9fVVTk6O8ypWRkbGZVP6/PnzNWvWLOfnoqIihYWFKTg4WIGBgfUtBU3ETw8+eJ+goCBPl4AmLCgoyON/5xkZGRU/xC+Xwvt6tBZJUk6aHKsSVFZW5vHfTSVvqaO5a9AVrAkTJmj58uVKSkpSamqqsrOzNWTIkFqXt1qtslqtDdklAMBLpaWlebqE/9YQ3leK8IKAhRbLpYA1ffp0ffTRR8rJydHIkSMVEBCg48ePa/HixYqPj1dUVJRat26ttWvXys/Pr7FrBgB4k+IzkqSpU6d6uBDAe7gUsFasWFHj/E6dOmnr1q2mFgQAaGLOVgQsr7gt99XH0gdJnq0BkJs7uQMAmjFvuC1n/8az+wf+g1flAAAAmIyABQAAYDICFgAAgMnogwV4mDeNOu0Nj9kDQHNAwAI8yG63y2azeboMAIDJCFiABzmvXHnD4+0Sj7gDgEkIWIA38IbH2yUecQcAk9DJHQAAwGQELAAAAJNxixBukZOT89+33HuBkJAQhYeHe7oMAEAzRcBCo7Pb7erRo4eny6jCv01bHfsmjZAFAGgUBCw0Oq97Ui4nTSWrEnTmzBkCFgCgURCw4D7e8qQcAACNjICFFssbRi33hhoAAOYjYKHlKT4jSZo6daqHCwEANFcELLQ8ZysCllf0CWPkdABolghYaLm8oU8YI6cDLYK3dAcoKCjQ1Vdf7ekynJrzkDkELAAAGgtdEi6rOQ+ZQ8ACAKCxeGOXBG+oRWr2Q+YQsJoxu93+3zGoPMhbLo0DgMd4U5cEb6ilBSBgNVN2u102m83TZQAA0CIRsJoprxo9nSflAAAtDAGrufOGS8E8KQcAaGEaHLDS09P14IMP6syZMwoKCtLq1avd+mJfb+lnJEnl5eXy8fHxdBmS6PcEAIAnNThgTZ8+XQ8//LASEhL09ttvKyEhQampqWbUdkX0MwIAAN6oQQErNzdXBw8e1NatWyVJ48aN04wZM3T8+HF169bNlAIvxyv7GXlDLRL9ngAA8KAGBaxTp06pc+fO8vWt2IzFYlF4eLgyMzNrDFgOh0MOh8P5ubCwUJJUVFRUr/2fPXv2Pz8ZkuPsZZdtdKUl//nBC2qR/ltP5heerycnzXtqkbyrHm+qRfKuerypFsm76vGmWiTvqsebapG8qx5vqkWSvvtWUsV/y+ubA7xNQECALBZLxQejAQ4ePGhER0dXmRcTE2Ns3769xuUTExMNSUxMTExMTExMzW4qLCx0Zh6LYRiG6ik3N1fdunVTfn6+fH19ZRiGOnfurL1797p0BevSpUvKz89Xhw4d/pv40OwUFRUpLCxMp06dUmBgoKfLAdnoffMAAARBSURBVOqF4xhNHcdw4/vxFawG3SLs2LGj+vXrp7Vr1yohIUHvvPOOQkNDa+1/ZbVaZbVaq8xr3759Q0pAExIYGMgfNZo8jmM0dRzD7tHgpwhXrFihhIQEPffccwoMDFRycrIZdQEAADRZDQ5YN9xwg/bv329GLQAAAM2CT1JSUpKni0Dz5+Pjo6FDhzqfOAWaIo5jNHUcw+7ToE7uAAAAqK6VpwsAAABobghYAAAAJiNgAQAAmIyAhQZJT0/XrbfequjoaMXExOjrr7+ucbkvv/xSgwcPVvfu3dWzZ09NmzZNFy5ccLZbLBb16tVLffr0UZ8+fbRnzx53fQW0cK4ew5s2bVL37t0VFRWl++67r8qrPQ4cOKDevXsrOjpaw4YNU3Z2trvKB1w6hjkHe0BDXpUDxMbGGsnJyYZhGMbGjRuNAQMG1Ljct99+axw5csQwDMMoKyszJk6caCQmJjrbJRkFBQWNXS5QjSvHcHFxsdGxY0cjLS3NMAzDeOyxx4zZs2cbhmEY5eXlRteuXY0dO3YYhmEYL774ojF+/Hj3FA8Yrh3DnIPdj6cIUW91fVXSjy1ZskRfffWVVq9eLaniX08FBQWM7A+3cvUY3rhxo1atWqUtW7ZIko4ePaoRI0YoKytLqampio+P1zfffCNJKi4u1jXXXKMffvhB/v7+HvleaDnqex7mHNz4uEWIejt16pQ6d+7sHE/FYrEoPDxcmZmZl13v3LlzWrlypcaMGVNlfmxsrHr37q1Zs2bp3LlzjVY3UMnVYzgzM1MRERHOz5GRkbLb7SorK6vWFhAQoMDAQJ0+fdo9XwItWn3Ow5yD3YOABbe6ePGiJk2apBEjRiguLs45/+TJkzp06JD27dun77///+3avariUBSG4Te1oJBCMJhcgQrG0huwsTaFiJ1ir3beQwoFbcS/wsLGWrC0k7R2ajuIiCBCgp5qwsxwBnKYQ4RxPV3YbMiCL4udZP2g2Wy+8C6FEOL/JD04PHLAEl8yHo/9IcjVauW/xQM8n0+OxyOGYXy613VdSqUSiUQC27Z/W/u5JxKJ0Gg0ZMBShELX9UAZNgyDw+HgX+/3e/+rwZ9r1+uVy+WCpmnhFCHeWtAMg/TgsMkBS3xJpVLBcRwcx6HdbmOaJtPpFIDFYkEymfz0v7/neViWhaqqDAYDFEXx187nM7fbDYDH48F8PiebzYZTkHhr8Xg8UIYLhQLb7dafs+r1eliWBUAul8N1XdbrNQD9fp9isSjzVyIUQTMsPTh8MuQu/slut6NarXI6nYhGowyHQ9LpNACdTgdN06jX68xmM8rlMplMxn+w8/k83W6XzWZDrVZDURQ8z8M0TWzbRlXVV5Ym3sTfMvxrfgGWyyWtVgvP80ilUoxGI2KxGICf4fv9jqZpTCYTdF1/ZVnijQTJsPTg8MkBSwghhBDim8kvQiGEEEKIb/YBtKHLFbjWYUcAAAAASUVORK5CYII=\" />"
      ]
     },
     "execution_count": 17,
     "metadata": {},
     "output_type": "execute_result"
    }
   ],
   "source": [
    "nbins = 30\n",
    "plot(histogram(vec(Phat_flat.-P_flat), title=\"full (∈ K×K)\", bins=nbins), \n",
    "    histogram(vec(Phat_svd.-P), title=\"svd (∈ K)\", bins=nbins), \n",
    "    histogram(vec(Phat_counts.-P), title=\"counts (∈ K)\", bins=nbins), \n",
    "    layout=(3, 1), link=:x, legend=false)"
   ]
  }
 ],
 "metadata": {
  "kernelspec": {
   "display_name": "Julia 0.6.0",
   "language": "julia",
   "name": "julia-0.6"
  },
  "language_info": {
   "file_extension": ".jl",
   "mimetype": "application/julia",
   "name": "julia",
   "version": "0.6.0"
  }
 },
 "nbformat": 4,
 "nbformat_minor": 2
}
