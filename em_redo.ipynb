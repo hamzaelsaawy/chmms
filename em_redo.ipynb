{
 "cells": [
  {
   "cell_type": "code",
   "execution_count": 143,
   "metadata": {
    "collapsed": true
   },
   "outputs": [],
   "source": [
    "import PyPlot\n",
    "#import Seaborn\n",
    "import JLD2\n",
    "import Distributions"
   ]
  },
  {
   "cell_type": "code",
   "execution_count": 2,
   "metadata": {},
   "outputs": [
    {
     "data": {
      "text/plain": [
       "update_params! (generic function with 1 method)"
      ]
     },
     "execution_count": 2,
     "metadata": {},
     "output_type": "execute_result"
    }
   ],
   "source": [
    "include(\"src\\\\NGSIM.jl\")\n",
    "\n",
    "# td = load_trajdata(1);\n",
    "JLD2.@load \"td.jld\" td\n",
    "rd = NGSIM.ROADWAY_101\n",
    "\n",
    "(S, id_lookup) = td_sparse(td)\n",
    ";"
   ]
  },
  {
   "cell_type": "code",
   "execution_count": null,
   "metadata": {
    "collapsed": true
   },
   "outputs": [],
   "source": [
    "fs = [\n",
    "    s::VehicleState -> s.v * cos(s.posF.ϕ), \n",
    "    s::VehicleState -> s.v * sin(s.posF.ϕ),\n",
    "    s::VehicleState -> length(rd[s.posF.roadind.tag.segment].lanes) - s.posF.roadind.tag.lane + 1\n",
    "]\n",
    "\n",
    "T = min(5000, nnz(S))\n",
    "\n",
    "Y = AF64(length(fs), T)\n",
    "\n",
    "for t in 1:T\n",
    "    s = S.nzval[t]\n",
    "    for (i, f) in fs |> enumerate\n",
    "        @inbounds Y[i, t] = f(s)\n",
    "    end\n",
    "end"
   ]
  },
  {
   "cell_type": "code",
   "execution_count": 11,
   "metadata": {},
   "outputs": [],
   "source": [
    "# the continuous data\n",
    "YΓ = view(Y, 1:2, :)\n",
    "# the discrete data (Int to use as indexing)\n",
    "YΔ = round.(Int, Y[3, :])\n",
    "NΓ = size(YΓ, 1)\n",
    "NΔ = size(YΔ, 1)\n",
    ";"
   ]
  },
  {
   "cell_type": "code",
   "execution_count": 14,
   "metadata": {},
   "outputs": [],
   "source": [
    "#\n",
    "# HMM Init\n",
    "#\n",
    "\n",
    "K = 5 # number states\n",
    "M = 3 # number gaussian mixtures per state\n",
    "\n",
    "# dimension of obs\n",
    "N = NΓ + NΔ\n",
    "\n",
    "# number of discrete observation states\n",
    "# should only be 6 lanes in the data (but just in case)\n",
    "L = 7\n",
    "\n",
    "#\n",
    "# transition parameters\n",
    "#\n",
    "\n",
    "# transition matrix; logs to avoid numberical underflow\n",
    "# dirichlet returns distributions as the columns\n",
    "A = rand(Dirichlet(K, 1), K)\n",
    "\n",
    "# initial\n",
    "π0 = rand(Dirichlet(K, 1))\n",
    "\n",
    "#\n",
    "# emission parameters\n",
    "#\n",
    "\n",
    "# bΔ[l, k] = P(yₜ = l | xₜ = k) (rows sum to 1)\n",
    "# only for NΔ = 1; should be [rand(...)' for _ in 1:MΔ]\n",
    "bΔ = rand(Dirichlet(L, 1), K)\n",
    "\n",
    "# mixuter parameters for each MV per state\n",
    "# c[m, k] is weight of m-th gaussian in for k-th state\n",
    "c = rand(Dirichlet(M, 1), K)\n",
    "\n",
    "# μs[:, m, k] is the mean of m-th mixture of the k-th state\n",
    "μs = randn(NΓ, M, K) .+ squeeze(mean(YΓ, 2), 2)\n",
    "\n",
    "# Σs[:, :, m, k] is the covariance of m-th mixture of the k-th state\n",
    "Σs = repeat(cov(YΓ, 2), outer=(1, 1, M, K))\n",
    ";"
   ]
  },
  {
   "cell_type": "code",
   "execution_count": 21,
   "metadata": {},
   "outputs": [
    {
     "name": "stderr",
     "output_type": "stream",
     "text": [
      "WARNING: imported binding for γ overwritten in module Main\n"
     ]
    }
   ],
   "source": [
    "# number of trajectories\n",
    "E = S.n\n",
    "\n",
    "log_A = log.(A)\n",
    "log_π0 = log.(π0)\n",
    "log_bΔ = log.(bΔ)\n",
    "log_c = log.(c)\n",
    "\n",
    "invΣs = similar(Σs)\n",
    "logdetΣs = similar(Σs, M, K)\n",
    "\n",
    "\n",
    "@simd for m in 1:M\n",
    "    for k in 1:K\n",
    "        invΣs[:, :, m, k] = inv(Σs[:, :, m, k])\n",
    "        logdetΣs[m, k] = logdet(Σs[:, :, m, k])\n",
    "    end\n",
    "end\n",
    "\n",
    "# log P(y₁, ..., yₜ, xₜ | θ)\n",
    "log_α = AF64(K, T)\n",
    "# log P(yₜ₊₁, ..., y_T | xₜ =i, θ)\n",
    "log_β = AF64(K, T)\n",
    "\n",
    "# log P(yₜ | xₜ, θ)\n",
    "log_b = similar(log_α)\n",
    "\n",
    "# P(xₜ = j | Y, θ)\n",
    "γ = AF64(K, T)\n",
    "# P(Xₜ = j, Zⱼₜ = m| Y, θ) = prob of state j, and m-th mixture at t\n",
    "γ_mix = AF64(M, K, T)\n",
    "# P(xₜ = j, xₙ₋₁ = i | Y, θ)\n",
    "ξ = AF64(K, K, T)\n",
    ";"
   ]
  },
  {
   "cell_type": "code",
   "execution_count": 154,
   "metadata": {},
   "outputs": [
    {
     "data": {
      "text/plain": [
       "log_bΓ (generic function with 1 method)"
      ]
     },
     "execution_count": 154,
     "metadata": {},
     "output_type": "execute_result"
    }
   ],
   "source": [
    "@inline function log_bΓ(m::Int, k::Int, t::Int)\n",
    "    o = Vector{Float64}(NΓ)\n",
    "    lpdf::Float64 = 0.0\n",
    "\n",
    "    # shamelessly stolen from Distributions.jl/src/multivariate/mvnormal.jl\n",
    "    lpdf = -(NΓ * log2π  + logdetΣs[m, k])/2\n",
    "    o = YΓ[:, t] - μs[:, m, k]\n",
    "    lpdf -= dot(o, (invΣs[:, :, m, k] * o)) / 2\n",
    "    \n",
    "    return lpdf\n",
    "end"
   ]
  },
  {
   "cell_type": "code",
   "execution_count": 430,
   "metadata": {
    "collapsed": true
   },
   "outputs": [],
   "source": [
    "#\n",
    "# data likelihood\n",
    "#"
   ]
  },
  {
   "cell_type": "code",
   "execution_count": 345,
   "metadata": {
    "collapsed": true
   },
   "outputs": [],
   "source": [
    "# log_b[t, i] =  p(Yₜ = yₜ | Xₜ = i) = p(YΓₜ = yₜ | Xₜ = i) * p(YΔₜ = yₜ | Xₜ = i)\n",
    "lgmm = AF64(M) # log of sum of GMM pdf\n",
    "\n",
    "@inbounds for t = 1:T\n",
    "    for k in 1:K # per state\n",
    "        lgmm[:] = log_c[:, k]\n",
    "        for m in 1:M # per mixture\n",
    "            lgmm[m] += log_bΓ(m, k, t)\n",
    "        end\n",
    "\n",
    "        log_b[k, t] = logsumexp(lgmm)\n",
    "    end\n",
    "\n",
    "    log_b[:, t] .+= log_bΔ[YΔ[t], :]\n",
    "end"
   ]
  },
  {
   "cell_type": "code",
   "execution_count": 429,
   "metadata": {
    "collapsed": true
   },
   "outputs": [],
   "source": [
    "#\n",
    "# baum-welch\n",
    "# "
   ]
  },
  {
   "cell_type": "code",
   "execution_count": 110,
   "metadata": {
    "collapsed": true
   },
   "outputs": [],
   "source": [
    "# [ log_a[i, t-1] + log_A[j, i] ]ᵢ\n",
    "temp = AF64(K)\n",
    "\n",
    "log_α[:, 1] = log_π0 .+ log_b[:, 1]\n",
    "@inbounds for t in 2:T\n",
    "    for j in 1:K\n",
    "        temp[:] = log_α[:, t-1] .+ log_A[j, :]\n",
    "        log_α[j, t] = logsumexp(temp) + log_b[j, t]\n",
    "    end\n",
    "end"
   ]
  },
  {
   "cell_type": "code",
   "execution_count": 565,
   "metadata": {
    "collapsed": true
   },
   "outputs": [],
   "source": [
    "# backward pass\n",
    "# temp is [ log_A[j, i] + log_β[j, t+1] + log_b[j, t+1] ]ⱼ\n",
    "\n",
    "log_β[:, T] = 0\n",
    "@inbounds for t = (T-1):-1:1\n",
    "    for i in 1:K\n",
    "        temp[:] = log_A[:, i] + log_b[:, t+1] + log_β[:, t+1]\n",
    "        log_β[i, t] = logsumexp(temp)\n",
    "    end\n",
    "end"
   ]
  },
  {
   "cell_type": "code",
   "execution_count": 128,
   "metadata": {},
   "outputs": [],
   "source": [
    "@inbounds for t in 1:T\n",
    "    γ[:, t] = log_α[:, t] .+ log_β[:, t]\n",
    "    γ[:, t] -= logsumexp(γ[:, t])\n",
    "end\n",
    "map!(exp, γ, γ)\n",
    ";"
   ]
  },
  {
   "cell_type": "code",
   "execution_count": 127,
   "metadata": {},
   "outputs": [],
   "source": [
    "@inbounds for t = 1:(T-1)\n",
    "    ξ[:, :, t] = log_α[:, t]' .+ log_A .+ log_b[:, t+1] .+ log_β[:, t+1]\n",
    "    ξ[:, : ,t] -= logsumexp(ξ[:, :, t])\n",
    "end\n",
    "map!(exp, ξ, ξ)\n",
    "ξ[:, :, T] = 0\n",
    ";"
   ]
  },
  {
   "cell_type": "code",
   "execution_count": 564,
   "metadata": {},
   "outputs": [
    {
     "data": {
      "text/plain": [
       "5×5 Array{Float64,2}:\n",
       " -24.0581  -24.0581  -24.0581  -24.0581  -24.0581\n",
       " -22.352   -22.352   -22.352   -22.352   -22.352 \n",
       " -20.2961  -20.2961  -20.2961  -20.2961  -20.2961\n",
       " -20.0864  -20.0864  -20.0864  -20.0864  -20.0864\n",
       " -22.6507  -22.6507  -22.6507  -22.6507  -22.6507"
      ]
     },
     "execution_count": 564,
     "metadata": {},
     "output_type": "execute_result"
    }
   ],
   "source": [
    "t = 5\n",
    "tt = zeros(K, K)\n",
    "for i in 1:K\n",
    "    for j in 1:K\n",
    "        \n",
    "    end\n",
    "end"
   ]
  },
  {
   "cell_type": "code",
   "execution_count": 419,
   "metadata": {},
   "outputs": [],
   "source": [
    "@inbounds for t in 1:T\n",
    "    # work in logs for a bit\n",
    "    γ_mix[:, :, t] = log_c\n",
    "    γ_mix[:, :, t] .+= log.(γ[:, t])'\n",
    "    γ_mix[:, :, t] .-= log_b[:, t]'\n",
    "    # subtract (divide out) the discrete prob portion\n",
    "    # somehow this is sensical !!! sum(γ_mix, (1,2)) ≈ 1\n",
    "    γ_mix[:, :, t] .+= log_bΔ[YΔ[t], :]'\n",
    "\n",
    "    @inbounds for k in 1:K # per state\n",
    "        for m in 1:M # per mixture\n",
    "            γ_mix[m, k, t] += log_bΓ(m, k, t)\n",
    "        end\n",
    "    end\n",
    "end\n",
    "map!(exp, γ_mix, γ_mix)\n",
    ";"
   ]
  },
  {
   "cell_type": "code",
   "execution_count": 459,
   "metadata": {
    "collapsed": true
   },
   "outputs": [],
   "source": [
    "#\n",
    "# param estimation\n",
    "# "
   ]
  },
  {
   "cell_type": "code",
   "execution_count": null,
   "metadata": {
    "collapsed": true
   },
   "outputs": [],
   "source": [
    "γ_mix_sum = squeeze(sum(γ_mix, 3), 3)\n",
    "# *should* be equal to sum(γ, 2) ...\n",
    "γ_sum = squeeze(sum(γ_mix_sum, 1), 1)\n",
    ";"
   ]
  },
  {
   "cell_type": "code",
   "execution_count": 432,
   "metadata": {},
   "outputs": [
    {
     "data": {
      "text/plain": [
       "5-element Array{Float64,1}:\n",
       " -2.76522 \n",
       " -2.02569 \n",
       " -0.470668\n",
       " -1.74974 \n",
       " -5.00104 "
      ]
     },
     "execution_count": 432,
     "metadata": {},
     "output_type": "execute_result"
    }
   ],
   "source": [
    "fill!(π0, 0)\n",
    "for e = 1:E # per trajectory\n",
    "    # where the e-th trajectory starts in the data\n",
    "    start_idx = S.colptr[e]\n",
    "\n",
    "    (start_idx > T) && break\n",
    "\n",
    "    π0 += γ[:, start_idx]\n",
    "end\n",
    "normalize!(π0, 1)\n",
    "map!(log, hmm_data.log_π0, π0 + eps(0.0))"
   ]
  },
  {
   "cell_type": "code",
   "execution_count": 548,
   "metadata": {},
   "outputs": [
    {
     "data": {
      "text/plain": [
       "5-element Array{Float64,1}:\n",
       "  334.563\n",
       "  143.994\n",
       " 3079.98 \n",
       " 1273.28 \n",
       "  167.181"
      ]
     },
     "execution_count": 548,
     "metadata": {},
     "output_type": "execute_result"
    }
   ],
   "source": [
    "ttt = squeeze(sum(γ[:, 1:(T-1)], 2), 2)"
   ]
  },
  {
   "cell_type": "code",
   "execution_count": 554,
   "metadata": {},
   "outputs": [
    {
     "data": {
      "text/plain": [
       "5×5 Array{Float64,2}:\n",
       " 22.672    131.726     51.9766   123.433      4.74528\n",
       " 57.0449    43.0092    14.4923     7.14651   22.254  \n",
       " 42.8357    43.8525  1424.33    1523.82      44.6292 \n",
       " 52.8718    18.2934   653.179    143.775    405.772  \n",
       "  1.25174   22.1298     7.9169    32.0648   103.782  "
      ]
     },
     "execution_count": 554,
     "metadata": {},
     "output_type": "execute_result"
    }
   ],
   "source": [
    "tt = squeeze(sum(ξ[:, :, 1:(T-1)], 3), 3)"
   ]
  },
  {
   "cell_type": "code",
   "execution_count": 556,
   "metadata": {},
   "outputs": [
    {
     "data": {
      "text/plain": [
       "5×1 Array{Float64,2}:\n",
       "  334.553\n",
       "  143.947\n",
       " 3079.46 \n",
       " 1273.89 \n",
       "  167.145"
      ]
     },
     "execution_count": 556,
     "metadata": {},
     "output_type": "execute_result"
    }
   ],
   "source": [
    "sum(tt, 2)"
   ]
  },
  {
   "cell_type": "code",
   "execution_count": 513,
   "metadata": {},
   "outputs": [],
   "source": [
    "fill(A, 0)\n",
    "for e = 1:E # per trajectory\n",
    "    # where the e-th trajectory starts in the data\n",
    "    start_idx = S.colptr[e]\n",
    "    end_idx = min(S.colptr[e+1] - 2, T)\n",
    "        \n",
    "    for t in start_idx:end_idx\n",
    "        A += ξ[:, :, t]\n",
    "    end\n",
    "end"
   ]
  },
  {
   "cell_type": "code",
   "execution_count": 485,
   "metadata": {},
   "outputs": [
    {
     "data": {
      "text/plain": [
       "7×5 Array{Float64,2}:\n",
       "   -2.88909    -4.11209     -1.23282    -1.80931    -3.39976 \n",
       "   -1.7896     -3.28415     -2.26993    -1.71506    -2.06426 \n",
       "   -1.16784    -0.580469    -3.18961    -1.14703    -0.447064\n",
       "   -2.08031    -5.21254     -1.5953     -1.64004    -5.83546 \n",
       "   -2.54491    -2.28654     -1.09688    -2.10927    -2.48096 \n",
       "   -1.33585    -1.27492     -3.6022     -3.75483    -2.17491 \n",
       " -744.44     -744.44      -744.44     -744.44     -744.44    "
      ]
     },
     "execution_count": 485,
     "metadata": {},
     "output_type": "execute_result"
    }
   ],
   "source": [
    "fill!(bΔ, 0.0)\n",
    "for t in 1:T\n",
    "    o = YΔ[t]\n",
    "    bΔ[o, :] .+= γ[:, t]\n",
    "end\n",
    "bΔ ./= γ_sum'\n",
    "map!(log, log_bΔ, bΔ + eps(0.0))"
   ]
  },
  {
   "cell_type": "code",
   "execution_count": 452,
   "metadata": {},
   "outputs": [
    {
     "data": {
      "text/plain": [
       "3×5 Array{Float64,2}:\n",
       " -0.597064  -4.97936   -8.01229   -1.89957   -5.14489 \n",
       " -5.81801   -1.44549   -1.03276   -0.84108   -2.00392 \n",
       " -0.80609   -0.277743  -0.440606  -0.869591  -0.151562"
      ]
     },
     "execution_count": 452,
     "metadata": {},
     "output_type": "execute_result"
    }
   ],
   "source": [
    "c[:] = γ_mix_sum ./ γ_sum'\n",
    "map!(log, log_c, c)\n",
    ";"
   ]
  },
  {
   "cell_type": "code",
   "execution_count": null,
   "metadata": {
    "collapsed": true
   },
   "outputs": [],
   "source": []
  }
 ],
 "metadata": {
  "kernelspec": {
   "display_name": "Julia 0.6.0",
   "language": "julia",
   "name": "julia-0.6"
  },
  "language_info": {
   "file_extension": ".jl",
   "mimetype": "application/julia",
   "name": "julia",
   "version": "0.6.0"
  }
 },
 "nbformat": 4,
 "nbformat_minor": 2
}
