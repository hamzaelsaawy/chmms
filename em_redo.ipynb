{
 "cells": [
  {
   "cell_type": "code",
   "execution_count": 1,
   "metadata": {},
   "outputs": [],
   "source": [
    "using PyPlot\n",
    "using Seaborn\n",
    "import JLD2\n",
    "import Distributions"
   ]
  },
  {
   "cell_type": "code",
   "execution_count": 13,
   "metadata": {},
   "outputs": [
    {
     "name": "stderr",
     "output_type": "stream",
     "text": [
      "\u001b[1m\u001b[33mWARNING: \u001b[39m\u001b[22m\u001b[33mreplacing docs for 'td_sparse :: Tuple{Records.ListRecord{AutomotiveDrivingModels.VehicleState,AutomotiveDrivingModels.VehicleDef,Int64}}' in module 'Main'.\u001b[39m\n",
      "\u001b[1m\u001b[33mWARNING: \u001b[39m\u001b[22m\u001b[33mreplacing docs for 'traj_nested :: Tuple{SparseMatrixCSC{AutomotiveDrivingModels.VehicleState,Int64},Vararg{Any,N} where N}' in module 'Main'.\u001b[39m\n"
     ]
    }
   ],
   "source": [
    "include(\"src\\\\NGSIM.jl\")\n",
    "\n",
    "# td = load_trajdata(1);\n",
    "JLD2.@load \"td.jld\" td\n",
    "rd = NGSIM.ROADWAY_101\n",
    "\n",
    "(S, id_lookup) = td_sparse(td)\n",
    ";"
   ]
  },
  {
   "cell_type": "code",
   "execution_count": 14,
   "metadata": {},
   "outputs": [],
   "source": [
    "fs = [\n",
    "    s::VehicleState -> s.v * cos(s.posF.ϕ), \n",
    "    s::VehicleState -> s.v * sin(s.posF.ϕ),\n",
    "    s::VehicleState -> length(rd[s.posF.roadind.tag.segment].lanes) - s.posF.roadind.tag.lane + 1\n",
    "]\n",
    "\n",
    "T = min(10_000, nnz(S))\n",
    "\n",
    "Y = AF64(length(fs), T)\n",
    "\n",
    "for t in 1:T\n",
    "    s = S.nzval[t]\n",
    "    for (i, f) in fs |> enumerate\n",
    "        @inbounds Y[i, t] = f(s)\n",
    "    end\n",
    "end"
   ]
  },
  {
   "cell_type": "code",
   "execution_count": 15,
   "metadata": {},
   "outputs": [],
   "source": [
    "# the continuous data\n",
    "YΓ = view(Y, 1:2, :)\n",
    "NΓ = size(YΓ, 1)\n",
    "\n",
    "# the discrete data (Int to use as indexing)\n",
    "YΔ = round.(Int, Y[3, :])\n",
    "NΔ = size(YΔ, 1)\n",
    ";"
   ]
  },
  {
   "cell_type": "code",
   "execution_count": 49,
   "metadata": {},
   "outputs": [],
   "source": [
    "#\n",
    "# HMM Init\n",
    "#\n",
    "\n",
    "K = 5 # number states\n",
    "M = 3 # number gaussian mixtures per state\n",
    "\n",
    "# dimension of obs\n",
    "N = NΓ + NΔ\n",
    "\n",
    "# number of discrete observation states\n",
    "# should only be 6 lanes in the data (but just in case)\n",
    "L = 7\n",
    "\n",
    "#\n",
    "# transition parameters\n",
    "#\n",
    "\n",
    "# transition matrix; logs to avoid numberical underflow\n",
    "# dirichlet returns distributions as the columns\n",
    "A = rand(Dirichlet(K, 1), K)\n",
    "\n",
    "# initial\n",
    "π0 = rand(Dirichlet(K, 1))\n",
    "\n",
    "#\n",
    "# emission parameters\n",
    "#\n",
    "\n",
    "# bΔ[l, k] = P(yₜ = l | xₜ = k) (rows sum to 1)\n",
    "# only for NΔ = 1; should be [rand(...)' for _ in 1:MΔ]\n",
    "bΔ = rand(Dirichlet(L, 1), K)\n",
    "\n",
    "# mixuter parameters for each MV per state\n",
    "# c[m, k] is weight of m-th gaussian in for k-th state\n",
    "c = rand(Dirichlet(M, 1), K)\n",
    "\n",
    "# μs[:, m, k] is the mean of m-th mixture of the k-th state\n",
    "μs = randn(NΓ, M, K) .+ squeeze(mean(YΓ, 2), 2)\n",
    "\n",
    "# Σs[:, :, m, k] is the covariance of m-th mixture of the k-th state\n",
    "Σs = repeat(cov(YΓ, 2), outer=(1, 1, M, K))\n",
    ";"
   ]
  },
  {
   "cell_type": "code",
   "execution_count": 50,
   "metadata": {},
   "outputs": [],
   "source": [
    "# number of trajectories\n",
    "E = S.n\n",
    "\n",
    "log_A = log.(A)\n",
    "log_π0 = log.(π0)\n",
    "log_bΔ = log.(bΔ)\n",
    "log_c = log.(c)\n",
    "\n",
    "invΣs = similar(Σs)\n",
    "logdetΣs = similar(Σs, M, K)\n",
    "\n",
    "for m in 1:M\n",
    "    for k in 1:K\n",
    "        invΣs[:, :, m, k] = inv(Σs[:, :, m, k])\n",
    "        logdetΣs[m, k] = logdet(Σs[:, :, m, k])\n",
    "    end\n",
    "end\n",
    "\n",
    "# log P(y₁, ..., yₜ, xₜ | θ)\n",
    "log_α = AF64(K, T)\n",
    "# log P(yₜ₊₁, ..., y_T | xₜ =i, θ)\n",
    "log_β = AF64(K, T)\n",
    "\n",
    "# log P(yₜ | xₜ, θ)\n",
    "log_b = similar(log_α)\n",
    "\n",
    "# P(xₜ = j | Y, θ)\n",
    "γ = AF64(K, T)\n",
    "# P(Xₜ = j, Zⱼₜ = m| Y, θ) = prob of state j, and m-th mixture at t\n",
    "γ_mix = AF64(M, K, T)\n",
    "# P(xₜ = j, xₙ₋₁ = i | Y, θ)\n",
    "ξ = AF64(K, K, T)\n",
    ";"
   ]
  },
  {
   "cell_type": "code",
   "execution_count": 51,
   "metadata": {},
   "outputs": [
    {
     "data": {
      "text/plain": [
       "log_bΓ (generic function with 2 methods)"
      ]
     },
     "execution_count": 51,
     "metadata": {},
     "output_type": "execute_result"
    }
   ],
   "source": [
    "@inline function log_bΓ(m::Int, k::Int, t::Int)\n",
    "    o = AF64(NΓ)\n",
    "    lpdf::Float64 = 0.0\n",
    "\n",
    "    # shamelessly stolen from Distributions.jl/src/multivariate/mvnormal.jl\n",
    "    lpdf = -(NΓ * log2π  + logdetΣs[m, k])/2\n",
    "    o = YΓ[:, t] - μs[:, m, k]\n",
    "    lpdf -= dot(o, (invΣs[:, :, m, k] * o)) / 2\n",
    "    \n",
    "    return lpdf\n",
    "end"
   ]
  },
  {
   "cell_type": "code",
   "execution_count": 52,
   "metadata": {},
   "outputs": [
    {
     "name": "stdout",
     "output_type": "stream",
     "text": [
      "498.677058 seconds (1.02 G allocations: 27.646 GiB, 2.10% gc time)\n",
      "done"
     ]
    }
   ],
   "source": [
    "const NUM_ITER = 30\n",
    "@time for iter in 1:NUM_ITER\n",
    "\n",
    "    #\n",
    "    # data likelihood\n",
    "    #\n",
    "\n",
    "    # log_b[t, i] =  p(Yₜ = yₜ | Xₜ = i) = p(YΓₜ = yₜ | Xₜ = i) * p(YΔₜ = yₜ | Xₜ = i)\n",
    "    lgmm = AF64(M) # log of sum of GMM pdf\n",
    "\n",
    "    @inbounds for t = 1:T\n",
    "        for k in 1:K # per state\n",
    "            lgmm[:] = log_c[:, k]\n",
    "            for m in 1:M # per mixture\n",
    "                lgmm[m] += log_bΓ(m, k, t)\n",
    "            end\n",
    "\n",
    "            log_b[k, t] = logsumexp(lgmm)\n",
    "        end\n",
    "\n",
    "        log_b[:, t] .+= log_bΔ[YΔ[t], :]\n",
    "    end\n",
    "    sanitize_log!(log_b)\n",
    "    \n",
    "    #\n",
    "    # baum-welch\n",
    "    # \n",
    "\n",
    "    # [ log_a[i, t-1] + log_A[j, i] ]ᵢ\n",
    "    temp = AF64(K)\n",
    "\n",
    "    log_α[:, 1] = log_π0 .+ log_b[:, 1]\n",
    "    @inbounds for t in 2:T\n",
    "        for j in 1:K\n",
    "            temp[:] = log_α[:, t-1] \n",
    "            temp .+= log_A[j, :]\n",
    "            log_α[j, t] = logsumexp(temp) + log_b[j, t]\n",
    "        end\n",
    "    end\n",
    "\n",
    "    # backward pass\n",
    "    # temp is [ log_A[j, i] + log_β[j, t+1] + log_b[j, t+1] ]ⱼ\n",
    "\n",
    "    log_β[:, T] = 0\n",
    "    @inbounds for t = (T-1):-1:1\n",
    "        for i in 1:K\n",
    "            temp[:] = log_A[:, i] \n",
    "            temp .+= log_b[:, t+1] \n",
    "            temp .+= log_β[:, t+1]\n",
    "            log_β[i, t] = logsumexp(temp)\n",
    "        end\n",
    "    end\n",
    "\n",
    "    @inbounds for t in 1:T\n",
    "        γ[:, t] = log_α[:, t] \n",
    "        γ[:, t] .+= log_β[:, t]\n",
    "        γ[:, t] .-= logsumexp(γ[:, t])\n",
    "    end\n",
    "    map!(exp, γ, γ)\n",
    "    sanitize!(γ)\n",
    "\n",
    "    @inbounds for t = 1:(T-1)\n",
    "        ξ[:, :, t] = log_A\n",
    "        ξ[:, :, t] .+= log_α[:, t]'\n",
    "        ξ[:, :, t] .+= log_b[:, t+1]\n",
    "        ξ[:, :, t] .+= log_β[:, t+1]\n",
    "        ξ[:, : ,t] .-= logsumexp(ξ[:, :, t])\n",
    "    end\n",
    "    map!(exp, ξ, ξ)\n",
    "    sanitize!(ξ)\n",
    "\n",
    "    @inbounds for t in 1:T\n",
    "        # work in logs for a bit\n",
    "        γ_mix[:, :, t] = log_c\n",
    "        γ_mix[:, :, t] .+= log.(γ[:, t])'\n",
    "        γ_mix[:, :, t] .-= log_b[:, t]'\n",
    "        # subtract (divide out) the discrete prob portion\n",
    "        # somehow this is sensical !!! sum(γ_mix, (1,2)) ≈ 1\n",
    "        γ_mix[:, :, t] .+= log_bΔ[YΔ[t], :]'\n",
    "\n",
    "        for k in 1:K # per state\n",
    "            for m in 1:M # per mixture\n",
    "                γ_mix[m, k, t] += log_bΓ(m, k, t)\n",
    "            end\n",
    "        end\n",
    "    end\n",
    "    map!(exp, γ_mix, γ_mix)\n",
    "    sanitize!(γ_mix)\n",
    "\n",
    "    #\n",
    "    # param estimation\n",
    "    # \n",
    "\n",
    "    o = AF64(2)\n",
    "    γ_mix_sum = squeeze(sum(γ_mix, 3), 3)\n",
    "    # *should* be equal to sum(γ, 2) ...\n",
    "    γ_sum = squeeze(sum(γ_mix_sum, 1), 1)\n",
    "\n",
    "    fill!(π0, 0)\n",
    "    @inbounds for e = 1:E # per trajectory\n",
    "        # where the e-th trajectory starts in the data\n",
    "        start_idx = S.colptr[e]\n",
    "\n",
    "        (start_idx > T) && break\n",
    "\n",
    "        π0 .+= γ[:, start_idx]\n",
    "    end\n",
    "    sanitize!(π0)\n",
    "    normalize!(π0, 1)\n",
    "    map!(log, log_π0, π0)\n",
    "\n",
    "    fill!(A, 0)\n",
    "    temp = zeros(K)\n",
    "\n",
    "    @inbounds for e = 1:E # per trajectory\n",
    "        # where the e-th trajectory starts in the data\n",
    "        start_idx = S.colptr[e]\n",
    "        end_idx = min(S.colptr[e+1] - 1, T) - 1\n",
    "\n",
    "        (start_idx ≥ T && break)\n",
    "\n",
    "        for t in start_idx:end_idx\n",
    "            A .+= ξ[:, :, t]\n",
    "            temp .+= γ[:, t]\n",
    "        end\n",
    "    end\n",
    "    A ./= temp'\n",
    "    sanitize!(A)\n",
    "    map!(log, log_A, A)\n",
    "\n",
    "    fill!(bΔ, 0.0)\n",
    "    @inbounds for t in 1:T\n",
    "        bΔ[YΔ[t], :] .+= γ[:, t]\n",
    "    end\n",
    "\n",
    "    bΔ ./= γ_sum'\n",
    "    sanitize!(bΔ)\n",
    "    map!(log, log_bΔ, bΔ)\n",
    "\n",
    "    c[:] = γ_mix_sum ./ γ_sum'\n",
    "    sanitize!(c)\n",
    "    map!(log, log_c, c)\n",
    "\n",
    "    fill!(μs, 0)\n",
    "    fill!(Σs, 0)\n",
    "\n",
    "    tt = zeros(NΓ)\n",
    "    ttt = zeros(NΓ, NΓ)\n",
    "    @inbounds for t = 1:T\n",
    "        o[:] = YΓ[:, t]\n",
    "\n",
    "        for k in 1:K\n",
    "            for m in 1:M\n",
    "                tt[:] = γ_mix[m, k, t]\n",
    "                tt .*= o\n",
    "                μs[:, m, k] += tt\n",
    "                \n",
    "                ttt[:] = γ_mix[m, k, t]\n",
    "                ttt .*= o\n",
    "                ttt .*= o'\n",
    "                Σs[:, :, m, k] += ttt\n",
    "            end\n",
    "        end\n",
    "    end\n",
    "\n",
    "    @inbounds for k in 1:K\n",
    "        for m in 1:M\n",
    "            μs[:, m, k] ./= γ_mix_sum[m, k]\n",
    "            Σs[:, :, m, k] ./= γ_mix_sum[m, k]\n",
    "            Σs[:, :, m, k] += ϵI\n",
    "        end\n",
    "    end\n",
    "\n",
    "    @inbounds for k in 1:K\n",
    "        for m in 1:M\n",
    "            invΣs[:, :, m, k] = inv(Σs[:, :, m, k])\n",
    "            logdetΣs[m, k] = logdet(Σs[:, :, m, k])\n",
    "        end\n",
    "    end\n",
    "end\n",
    "\n",
    "print(\"done\")"
   ]
  },
  {
   "cell_type": "code",
   "execution_count": 53,
   "metadata": {},
   "outputs": [
    {
     "data": {
      "image/png": "[encoded data removed]",
      "text/plain": [
       "PyPlot.Figure(PyObject <matplotlib.figure.Figure object at 0x000000002C3C9DD8>)"
      ]
     },
     "metadata": {},
     "output_type": "display_data"
    },
    {
     "data": {
      "text/plain": [
       "PyObject <matplotlib.text.Text object at 0x000000002BFA68D0>"
      ]
     },
     "execution_count": 53,
     "metadata": {},
     "output_type": "execute_result"
    }
   ],
   "source": [
    "pcolor(A, cmap=PyPlot.PyPlot.cm_get_cmap(\"Blues\"))\n",
    "xlabel(L\"k_t\")\n",
    "ylabel(L\"k_{t+1}\")"
   ]
  },
  {
   "cell_type": "code",
   "execution_count": 54,
   "metadata": {},
   "outputs": [
    {
     "data": {
      "image/png": "[encoded data removed]",
      "text/plain": [
       "PyPlot.Figure(PyObject <matplotlib.figure.Figure object at 0x000000002BFA09E8>)"
      ]
     },
     "metadata": {},
     "output_type": "display_data"
    },
    {
     "data": {
      "text/plain": [
       "PyObject <matplotlib.text.Text object at 0x00000000022A4CC0>"
      ]
     },
     "execution_count": 54,
     "metadata": {},
     "output_type": "execute_result"
    }
   ],
   "source": [
    "pcolor(bΔ, cmap=PyPlot.PyPlot.cm_get_cmap(\"Blues\"))\n",
    "xlabel(\"k\")\n",
    "ylabel(\"l\")"
   ]
  },
  {
   "cell_type": "code",
   "execution_count": 55,
   "metadata": {},
   "outputs": [
    {
     "data": {
      "image/png": "[encoded data removed]",
      "text/plain": [
       "PyPlot.Figure(PyObject <matplotlib.figure.Figure object at 0x000000002C977748>)"
      ]
     },
     "metadata": {},
     "output_type": "display_data"
    },
    {
     "data": {
      "text/plain": [
       "PyObject <matplotlib.text.Text object at 0x000000002C9814E0>"
      ]
     },
     "execution_count": 55,
     "metadata": {},
     "output_type": "execute_result"
    }
   ],
   "source": [
    "pcolor(c, cmap=PyPlot.PyPlot.cm_get_cmap(\"Blues\"))\n",
    "xlabel(\"k\")\n",
    "ylabel(\"m\")"
   ]
  },
  {
   "cell_type": "code",
   "execution_count": 61,
   "metadata": {},
   "outputs": [
    {
     "data": {
      "image/png": "[encoded data removed]",
      "text/plain": [
       "PyPlot.Figure(PyObject <matplotlib.figure.Figure object at 0x0000000004C41DA0>)"
      ]
     },
     "metadata": {},
     "output_type": "display_data"
    }
   ],
   "source": [
    "fig = figure()\n",
    "ax = fig[:gca]()\n",
    "\n",
    "for k in 1:K\n",
    "    clr=0\n",
    "    for m in 1:M\n",
    "        if m == 1\n",
    "            l = plot(μs[1, m, k], μs[2, m, k], \"X\", markersize=40*c[m, k], label=k)\n",
    "            clr = l[1][:get_color]()\n",
    "        else\n",
    "            plot(μs[1, m, k], μs[2, m, k], \"X\", markersize=20*c[m, k], c=clr)\n",
    "        end\n",
    "    end\n",
    "end"
   ]
  },
  {
   "cell_type": "code",
   "execution_count": null,
   "metadata": {
    "collapsed": true
   },
   "outputs": [],
   "source": []
  }
 ],
 "metadata": {
  "kernelspec": {
   "display_name": "Julia 0.6.0",
   "language": "julia",
   "name": "julia-0.6"
  },
  "language_info": {
   "file_extension": ".jl",
   "mimetype": "application/julia",
   "name": "julia",
   "version": "0.6.0"
  }
 },
 "nbformat": 4,
 "nbformat_minor": 2
}
