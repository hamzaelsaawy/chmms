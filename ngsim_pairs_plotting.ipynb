{
 "cells": [
  {
   "cell_type": "code",
   "execution_count": 1,
   "metadata": {},
   "outputs": [
    {
     "name": "stderr",
     "output_type": "stream",
     "text": [
      "WARNING: Method definition ==(Base.Nullable{S}, Base.Nullable{T}) in module Base at nullable.jl:238 overwritten in module NullableArrays at C:\\Users\\Hamza El-Saawy\\.julia\\v0.6\\NullableArrays\\src\\operators.jl:99.\n",
      "WARNING: Compat.AsyncCondition is deprecated, use Base.AsyncCondition instead.\n",
      "  likely near In[1]:6\n",
      "WARNING: Compat.AsyncCondition is deprecated, use Base.AsyncCondition instead.\n",
      "  likely near In[1]:6\n"
     ]
    }
   ],
   "source": [
    "using Plots; pyplot()\n",
    "using StatPlots\n",
    "using DataFrames\n",
    "\n",
    "import CSV\n",
    "import Glob\n",
    "import DataStructures: counter"
   ]
  },
  {
   "cell_type": "code",
   "execution_count": 2,
   "metadata": {},
   "outputs": [
    {
     "data": {
      "text/plain": [
       "sp_sub2ind (generic function with 1 method)"
      ]
     },
     "execution_count": 2,
     "metadata": {},
     "output_type": "execute_result"
    }
   ],
   "source": [
    "include(\"src/trajectories.jl\")"
   ]
  },
  {
   "cell_type": "code",
   "execution_count": 3,
   "metadata": {},
   "outputs": [
    {
     "data": {
      "text/plain": [
       "7-element Array{String,1}:\n",
       " \"data\\\\i101_trajectories-0750am-0805am\"    \n",
       " \"data\\\\i101_trajectories-0750am-0805am_old\"\n",
       " \"data\\\\i101_trajectories-0805am-0820am\"    \n",
       " \"data\\\\i101_trajectories-0820am-0835am\"    \n",
       " \"data\\\\i80_trajectories-0400-0415\"         \n",
       " \"data\\\\i80_trajectories-0500-0515\"         \n",
       " \"data\\\\i80_trajectories-0515-0530\"         "
      ]
     },
     "execution_count": 3,
     "metadata": {},
     "output_type": "execute_result"
    }
   ],
   "source": [
    "traj_folders = Glob.glob(\"data/i*\")"
   ]
  },
  {
   "cell_type": "code",
   "execution_count": 4,
   "metadata": {
    "collapsed": true
   },
   "outputs": [],
   "source": [
    "data_path = traj_folders[1]\n",
    "# JLD2.@load joinpath(data_path, \"td.jld\") td\n",
    "# (S, id_lookup) = td_sparse(td);\n",
    "\n",
    "X = CSV.read(joinpath(data_path, \"X.csv\"), nullable=false)\n",
    "(pairs, _) = readcsv(joinpath(data_path, \"pairs.csv\"), Int, header=true)\n",
    "pairs = pairs'\n",
    "trajptr = readcsv(joinpath(data_path, \"traj_ptr.csv\"), Int) |> vec\n",
    ";"
   ]
  },
  {
   "cell_type": "code",
   "execution_count": null,
   "metadata": {},
   "outputs": [],
   "source": [
    "pairlens = vec(diff(pairs[1:2, :]))\n",
    "\n",
    "len_counts = counter(pairlens)\n",
    "lens = collect(keys(len_counts))\n",
    "counts = collect(values(len_counts))\n",
    "\n",
    "# plot(pairlens, seriestype=:density)\n",
    "scatter(lens, counts, marker=stroke(0), legend=false)\n",
    "xlabel!(\"Length of Interaction [Frames]\")\n",
    "ylabel!(\"Frequency\")\n"
   ]
  },
  {
   "cell_type": "markdown",
   "metadata": {},
   "source": [
    "## Velocities of (Supposedly) Interacting Cars"
   ]
  },
  {
   "cell_type": "code",
   "execution_count": null,
   "metadata": {},
   "outputs": [],
   "source": [
    "N = 4\n",
    "styles = repeat([:solid, :dot, :dash], inner=N)\n",
    "\n",
    "plot(size=(500, 500), aspectratio=:equal)\n",
    "for (i, id) in rand(1:size(pairs, 2), N*3) |> enumerate\n",
    "    r1, r2 = get_pair_ranges(pairs, id)\n",
    "\n",
    "    plot!(X[r1, :velocity], X[r2, :velocity], line=(3, styles[i]), label=id)\n",
    "end\n",
    "plot!()"
   ]
  },
  {
   "cell_type": "markdown",
   "metadata": {},
   "source": [
    "## Velocities of Random Cars"
   ]
  },
  {
   "cell_type": "code",
   "execution_count": null,
   "metadata": {},
   "outputs": [],
   "source": [
    "num_trajs = length(trajptr) - 1\n",
    "idxs_i = rand(1:num_trajs, length(styles))\n",
    "idxs_j = rand(1:num_trajs, length(styles))\n",
    "\n",
    "plot(size=(500, 500), aspectratio=:equal)\n",
    "for (k, (i, j)) in zip(idxs_i, idxs_j) |> enumerate\n",
    "    r1 = get_trajectory_range(trajptr, i)\n",
    "    r2 = get_trajectory_range(trajptr, j)\n",
    "    \n",
    "    T = minimum(map(length, [r1, r2]))\n",
    "    r1 = start(r1) + (0:(T-1))\n",
    "    r2 = start(r2) + (0:(T-1))\n",
    "\n",
    "    plot!(X[r1, :velocity], X[r2, :velocity], line=(3, styles[k]), label=(i, j))\n",
    "end\n",
    "plot!()"
   ]
  },
  {
   "cell_type": "markdown",
   "metadata": {},
   "source": [
    "### Plot Max Length Pairwise Trajectory"
   ]
  },
  {
   "cell_type": "code",
   "execution_count": null,
   "metadata": {},
   "outputs": [],
   "source": [
    "ind = indmax(pairlens)\n",
    "r1, r2 = get_pair_ranges(pairs, ind)\n",
    "\n",
    "plot(\n",
    "    plot([X[r1, :x] X[r2, :x]], [X[r1, :y], X[r2, :y]], \n",
    "        title=\"Pair Number $(ind)\", xlabel=\"X [CA Plane III]\", ylabel=\"Y [CA Plane III]\", line=2),\n",
    "#     plot([X[r1, :heading], X[r2, :heading]], xlabel=\"Frame [0.1 s]\", ylabel=\"Heading [rad]\"),\n",
    "    plot([X[r1, :velocity], X[r2, :velocity]], xlabel=\"Frame [0.1 s]\", ylabel=\"Velocity [m/s]\"),\n",
    "    plot([X[r1, :acceleration], X[r2, :acceleration]], xlabel=\"Frame [0.1 s]\", ylabel=\"Acceleration [m/s²]\"),\n",
    "    layout=(3, 1), size=(750, 500), legend=false)"
   ]
  },
  {
   "cell_type": "markdown",
   "metadata": {},
   "source": [
    "### Plot Random Pairwise Trajectory"
   ]
  },
  {
   "cell_type": "code",
   "execution_count": null,
   "metadata": {
    "scrolled": false
   },
   "outputs": [],
   "source": [
    "ind = rand(find(pairlens .> 400))\n",
    "r1, r2 = get_pair_ranges(pairs, ind)\n",
    "\n",
    "plot(\n",
    "    plot([X[r1, :x] X[r2, :x]], [X[r1, :y], X[r2, :y]], \n",
    "        title=\"Pair Number $(ind)\", xlabel=\"X [CA Plane III]\", ylabel=\"Y [CA Plane III]\", line=2),\n",
    "#     plot([X[r1, :heading], X[r2, :heading]], xlabel=\"Frame [0.1 s]\", ylabel=\"Heading [rad]\"),\n",
    "    plot([X[r1, :velocity], X[r2, :velocity]], xlabel=\"Frame [0.1 s]\", ylabel=\"Velocity [m/s]\"),\n",
    "    plot([X[r1, :acceleration], X[r2, :acceleration]], xlabel=\"Frame [0.1 s]\", ylabel=\"Acceleration [m/s²]\"),\n",
    "    layout=(3, 1), size=(750, 500), legend=false)"
   ]
  },
  {
   "cell_type": "markdown",
   "metadata": {},
   "source": [
    "### Correlations"
   ]
  },
  {
   "cell_type": "code",
   "execution_count": null,
   "metadata": {},
   "outputs": [],
   "source": [
    "num_pairs = size(pairs, 2)\n",
    "corrs = zeros(num_pairs)\n",
    "\n",
    "V = X[:velocity]\n",
    "for id in 1:num_pairs\n",
    "    V = X[:velocity]\n",
    "    r1, r2 = get_pair_ranges(pairs, id)\n",
    "    corrs[id] = cor(V[r1], V[r2])\n",
    "end\n",
    "\n",
    "scatter(corrs, marker=stroke(0), \n",
    "    xlabel=\"Pair in NGSIM\", ylabel=\"Correlation\", \n",
    "    title=\"Correlation between Pair Velocities\", legend=false)\n",
    "# savefig(joinpath(data_path, \"corrs.png\"))"
   ]
  }
 ],
 "metadata": {
  "kernelspec": {
   "display_name": "Julia 0.6.0",
   "language": "julia",
   "name": "julia-0.6"
  },
  "language_info": {
   "file_extension": ".jl",
   "mimetype": "application/julia",
   "name": "julia",
   "version": "0.6.0"
  }
 },
 "nbformat": 4,
 "nbformat_minor": 2
}
