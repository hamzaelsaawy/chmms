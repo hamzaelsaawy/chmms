{
 "cells": [
  {
   "cell_type": "code",
   "execution_count": 1,
   "metadata": {
    "collapsed": true
   },
   "outputs": [],
   "source": [
    "using Distributions\n",
    "using Seaborn\n",
    "import StatsBase: wsample\n",
    "import Clustering: kmeans"
   ]
  },
  {
   "cell_type": "code",
   "execution_count": 11,
   "metadata": {},
   "outputs": [
    {
     "name": "stderr",
     "output_type": "stream",
     "text": [
      "\u001b[1m\u001b[33mWARNING: \u001b[39m\u001b[22m\u001b[33mreplacing docs for 'empty :: Tuple{Type,Vararg{Int64,N} where N}' in module 'Main'.\u001b[39m\n",
      "\u001b[1m\u001b[33mWARNING: \u001b[39m\u001b[22m\u001b[33mreplacing docs for 'rev_ind :: Tuple{Int64,Int64}' in module 'Main'.\u001b[39m\n"
     ]
    },
    {
     "data": {
      "text/plain": [
       "gen_pairwise!"
      ]
     },
     "execution_count": 11,
     "metadata": {},
     "output_type": "execute_result"
    }
   ],
   "source": [
    "include(\"src/auxiliary.jl\")"
   ]
  },
  {
   "cell_type": "code",
   "execution_count": 3,
   "metadata": {},
   "outputs": [
    {
     "data": {
      "text/plain": [
       "simulate_model (generic function with 1 method)"
      ]
     },
     "execution_count": 3,
     "metadata": {},
     "output_type": "execute_result"
    }
   ],
   "source": [
    "include(\"src/chmm.jl\")"
   ]
  },
  {
   "cell_type": "code",
   "execution_count": 4,
   "metadata": {
    "collapsed": true
   },
   "outputs": [],
   "source": [
    "K = 3\n",
    "KK = K^2\n",
    "D = 2\n",
    "model = rand_chmm(K, D)\n",
    "T_range = 750:1_500\n",
    "N_traj_pairs = 10\n",
    "N_trajs = N_traj_pairs * 2\n",
    "trajs = [simulate_model(model, rand(T_range)) for _ in 1:N_trajs] \n",
    ";"
   ]
  },
  {
   "cell_type": "code",
   "execution_count": null,
   "metadata": {
    "collapsed": true
   },
   "outputs": [],
   "source": [
    "traj_lens = map(t -> size(t[1], 2), trajs)\n",
    "num_obs = sum(traj_lens) * 2\n",
    "\n",
    "X = empty(D, num_obs)\n",
    "Z = empty(Int, num_obs)\n",
    "traj_ptr = empty(Int, N_trajs + 1)\n",
    "pairs = Vector{NTuple{2, Int}}(N_traj_pairs)\n",
    ";"
   ]
  },
  {
   "cell_type": "code",
   "execution_count": 23,
   "metadata": {},
   "outputs": [],
   "source": [
    "idx = 1\n",
    "for n in 1:N_traj_pairs\n",
    "    (Zt, X1, X2) = trajs[n]\n",
    "    T = size(Z, 2)\n",
    "    \n",
    "    start_1 = idx\n",
    "    end_1 = start_1 + T - 1\n",
    "    start_2 = end_1 + 1\n",
    "    end_2 = start_2 + T - 1\n",
    "    \n",
    "    Z[start_1:end_1] = Zt[1, :]\n",
    "    Z[start_2:end_2] = Zt[2, :]\n",
    "    X[:, start_1:end_1] = X1\n",
    "    X[:, start_2:end_2] = X2    \n",
    "    \n",
    "    # record the pairs\n",
    "    traj_1 = sub2ind((2, N_traj_pairs), 1, n)\n",
    "    traj_2 = traj_1 + 1\n",
    "    traj_ptr[traj_1] = start_1\n",
    "    traj_ptr[traj_2] = start_2\n",
    "    pairs[n] = (traj_1, traj_2)\n",
    "    \n",
    "    idx = end_2\n",
    "end    \n",
    ";"
   ]
  },
  {
   "cell_type": "code",
   "execution_count": 24,
   "metadata": {},
   "outputs": [
    {
     "data": {
      "text/plain": [
       "10-element Array{Tuple{Int64,Int64},1}:\n",
       " (1, 2)  \n",
       " (3, 4)  \n",
       " (5, 6)  \n",
       " (7, 8)  \n",
       " (9, 10) \n",
       " (11, 12)\n",
       " (13, 14)\n",
       " (15, 16)\n",
       " (17, 18)\n",
       " (19, 20)"
      ]
     },
     "execution_count": 24,
     "metadata": {},
     "output_type": "execute_result"
    }
   ],
   "source": [
    "pairs"
   ]
  },
  {
   "cell_type": "markdown",
   "metadata": {},
   "source": [
    "## EM"
   ]
  },
  {
   "cell_type": "code",
   "execution_count": 16,
   "metadata": {},
   "outputs": [],
   "source": [
    "# initial EM estiamtes \n",
    "R = kmeans(X, K, maxiter=100, display=:none)\n",
    "ms = [R.centers[:, i] for i in 1:K]\n",
    "Ss = [eye(D) for _ in 1:K]\n",
    "\n",
    "# initial distribition over K × K\n",
    "p0 = normalize(rand(K), 1)\n",
    "p0 = (p0 * p0')[:]\n",
    "log_p0 = log.(p0)\n",
    "\n",
    "P = rand(K, KK)\n",
    "P ./= sum(P, 1)\n",
    "# make it K² × K²\n",
    "# T[:, i] is symmetric if reshaped to be K×K, ∀i\n",
    "P = repeat(P, inner=(K, 1)) .* repeat(P, outer=(K, 1))\n",
    "log_P = log.(P)\n",
    ";"
   ]
  },
  {
   "cell_type": "code",
   "execution_count": 19,
   "metadata": {
    "collapsed": true
   },
   "outputs": [],
   "source": [
    "# swap the indices of y ∈ [1, K²]\n",
    "# if T is N×K², then T[:, swapped_indes] is the same as:\n",
    "# `reshape(permutedims(reshape(T, (N, K, K)), [1, 3, 2]), (N, :))`\n",
    "swapped_inds = [rev_ind(i, K) for i in 1:KK]\n",
    ";"
   ]
  },
  {
   "cell_type": "code",
   "execution_count": 21,
   "metadata": {},
   "outputs": [],
   "source": [
    "# T_max = maximum(diff(traj_ptr))\n",
    "T_max = T\n",
    "log_b = empty(KK, T_max)\n",
    "log_α = similar(log_b)\n",
    "log_β = similar(log_b)\n",
    "\n",
    "α = similar(log_b)\n",
    "β = similar(log_b)\n",
    "γ = similar(log_b)\n",
    ";"
   ]
  },
  {
   "cell_type": "code",
   "execution_count": 22,
   "metadata": {
    "collapsed": true
   },
   "outputs": [],
   "source": [
    "# data across for multiple trajectories\n",
    "temp_P = zeros(P)\n",
    "temp_p0 = zeros(p0)\n",
    "pseudo_counts_K = zeros(K)\n",
    "pseudo_counts_KK = zeros(KK)\n",
    "\n",
    "temp_ms = deepcopy(ms)\n",
    "temp_Ss = deepcopy(Ss)\n",
    "\n",
    "temp = empty(KK)\n",
    "temp2 = empty(temp_P)\n",
    ";"
   ]
  },
  {
   "cell_type": "code",
   "execution_count": 23,
   "metadata": {},
   "outputs": [],
   "source": [
    "N_iters = 50\n",
    "log_like_hist = zeros(N_iters)\n",
    ";"
   ]
  },
  {
   "cell_type": "code",
   "execution_count": 36,
   "metadata": {},
   "outputs": [
    {
     "name": "stdout",
     "output_type": "stream",
     "text": [
      "10 -6900.478781649449\n",
      "20 -6900.478781649449\n",
      "30 -6900.478781649449\n",
      "40 -6900.478781649449\n",
      "50 -6900.478781649449\n"
     ]
    }
   ],
   "source": [
    "for iter in 1:N_iters    \n",
    "    fill!(temp_P, 0)\n",
    "    fill!(temp_p0, 0)\n",
    "    fill!(pseudo_counts_K, 0)\n",
    "    fill!(pseudo_counts_KK, 0)\n",
    "    for k in 1:K\n",
    "        fill!(temp_ms[k], 0)\n",
    "        fill!(temp_Ss[k], 0)\n",
    "    end\n",
    "    \n",
    "    #\n",
    "    # Pairwise Trajectories\n",
    "    #\n",
    "#for (n, (s1, s2)) in enumerate(pairs)\n",
    "#     start_1 = traj_ptr[s1]\n",
    "#     end_1 = traj_ptr[s1+1]-1\n",
    "#     start_2 = traj_ptr[s2]\n",
    "#     end_2 = traj_ptr[s2] - 1\n",
    "    \n",
    "#     X1 = view(X, :, start_1:end_2)\n",
    "#     X2 = view(X, :, start_2:end_2)\n",
    "    T = size(X1, 2)\n",
    "    @assert T == size(X2, 2)\n",
    "\n",
    "    for t in 1:T\n",
    "        o1 = X1[:, t]\n",
    "        o2 = X2[:, t]\n",
    "        for q in 1:K^2\n",
    "            (i, j) = ind2sub((K, K), q)\n",
    "            log_b[q, t] = logpdf(MvNormal(ms[i], Ss[i]), o1) +\n",
    "                    logpdf(MvNormal(ms[j], Ss[j]), o2)\n",
    "        end\n",
    "    end\n",
    "\n",
    "    # forward\n",
    "    # temp is [ log_a[i, t-1] + log_A[j, i] ]ᵢ\n",
    "    log_α[:, 1] = log_p0 .+ log_b[:, 1]\n",
    "\n",
    "    for t in 2:T\n",
    "        for j in 1:KK\n",
    "            temp[:] = log_α[:, t-1]\n",
    "            temp .+= log_P[j, :]\n",
    "            log_α[j, t] = logsumexp(temp) + log_b[j, t]\n",
    "        end\n",
    "    end\n",
    "\n",
    "    # backward pass\n",
    "    # temp is [ log_A[i, j] + log_β[j, t+1] + log_b[j, t+1] ]ⱼ\n",
    "    log_β[:, T] = 0\n",
    "\n",
    "    for t in (T-1):-1:1\n",
    "        for i in 1:KK\n",
    "            temp[:] = log_b[:, t+1]\n",
    "            temp .+= log_P[:, i]\n",
    "            temp .+= log_β[:, t+1]\n",
    "            log_β[i, t] = logsumexp(temp)\n",
    "        end\n",
    "    end\n",
    "\n",
    "    # γ\n",
    "    for t in 1:T\n",
    "        γ[:, t] = log_α[:, t]\n",
    "        γ[:, t] .+= log_β[:, t]\n",
    "        γ[:, t] .-= logsumexp(γ[:, t])\n",
    "    end\n",
    "    map!(exp, γ, γ)\n",
    "\n",
    "    log_like_hist[iter] = logsumexp(log_α[:, T])\n",
    "    (iter % 10 == 0) && println(iter, \" \", log_like_hist[iter])\n",
    "\n",
    "    pseudo_counts_KK .+= vec(sum(γ[:, 1:T], 2))\n",
    "    pseudo_counts_K .+= single_counts(pseudo_counts_KK, K)\n",
    "\n",
    "    #\n",
    "    # Parameter Updates\n",
    "    #\n",
    "\n",
    "    # ξ / P\n",
    "    for t in 1:(T-1)\n",
    "        temp2[:] = log_P\n",
    "        temp2 .+= log_α[:, t]'\n",
    "        temp2 .+= log_b[:, t+1]\n",
    "        temp2 .+= log_β[:, t+1]\n",
    "        temp2 .-= logsumexp(temp2)\n",
    "        temp_P .+= exp.(temp2)\n",
    "    end\n",
    "\n",
    "    # π₀\n",
    "    temp_p0 .+= γ[:, 1]\n",
    "\n",
    "    # μ & Σ\n",
    "    for t in 1:T\n",
    "        p = reshape(γ[:, t], (K, K))\n",
    "        o1 = X1[:, t]\n",
    "        o2 = X2[:, t]\n",
    "\n",
    "        for k in 1:K\n",
    "            pz1 = sum(p[k, :])\n",
    "            pz2 = sum(p[:, k])\n",
    "\n",
    "            temp_ms[k] .+= pz1 * o1\n",
    "            temp_Ss[k] .+= pz1 * o1 * o1'\n",
    "\n",
    "            temp_ms[k] .+= pz2 * o2\n",
    "            temp_Ss[k] .+= pz2 * o2 * o2'\n",
    "        end\n",
    "    end\n",
    "#end\n",
    "    \n",
    "    #\n",
    "    # Single Trajectories\n",
    "    #\n",
    "    \n",
    "    #\n",
    "    # combine info from all trajectories\n",
    "    #\n",
    "    \n",
    "    temp_P .+= ϵ\n",
    "    temp_P .+= temp_P[:, swapped_inds]\n",
    "    temp_P ./= sum(temp_P, 1) \n",
    "    for i in 1:KK\n",
    "        gen_pairwise!(view(P, :, i), estimate_outer(reshape(temp_P[:, i], K, K)))\n",
    "    end\n",
    "    map!(log, log_P, P)\n",
    "\n",
    "    # go from p0 over K×K to just K\n",
    "    gen_pairwise!(p0, estimate_outer(reshape(temp_p0 .+ ϵ, K, K)))\n",
    "    p0 ./= sum(p0)\n",
    "    map!(log, log_p0, p0)\n",
    "\n",
    "    for k in 1:K\n",
    "        ms[k][:] = temp_ms[k] ./ (pseudo_counts_K[k])\n",
    "        Ss[k][:] = temp_Ss[k] ./ (pseudo_counts_K[k])\n",
    "        Ss[k] .-= ms[k] * ms[k]'\n",
    "        # to enforce symmetry\n",
    "        Ss[k] .+= Ss[k]'\n",
    "        Ss[k] ./= 2\n",
    "    end\n",
    "end"
   ]
  },
  {
   "cell_type": "code",
   "execution_count": 37,
   "metadata": {},
   "outputs": [
    {
     "data": {
      "image/png": "[encoded data removed]",
      "text/plain": [
       "PyPlot.Figure(PyObject <matplotlib.figure.Figure object at 0x00000000355D6CF8>)"
      ]
     },
     "metadata": {},
     "output_type": "display_data"
    },
    {
     "data": {
      "text/plain": [
       "1-element Array{Any,1}:\n",
       " PyObject <matplotlib.lines.Line2D object at 0x00000000356689B0>"
      ]
     },
     "execution_count": 37,
     "metadata": {},
     "output_type": "execute_result"
    }
   ],
   "source": [
    "plot(log_like_hist)"
   ]
  },
  {
   "cell_type": "code",
   "execution_count": 46,
   "metadata": {},
   "outputs": [
    {
     "data": {
      "text/plain": [
       "Dict{Int64,Int64} with 3 entries:\n",
       "  2 => 3\n",
       "  3 => 1\n",
       "  1 => 2"
      ]
     },
     "execution_count": 46,
     "metadata": {},
     "output_type": "execute_result"
    }
   ],
   "source": [
    "true_to_est_lut = Dict{Int, Int}()\n",
    "for i in 1:K\n",
    "    m = model[:μs][i]\n",
    "    r = map(mm -> norm(m .- mm), ms)\n",
    "    true_to_est_lut[i] = indmin(r)\n",
    "end\n",
    "true_to_est_lut"
   ]
  },
  {
   "cell_type": "code",
   "execution_count": 49,
   "metadata": {},
   "outputs": [
    {
     "data": {
      "text/plain": [
       "3×9 Array{Float64,2}:\n",
       " 0.00859482  0.0859447  0.226358  …  0.446952   0.00938702  0.633972\n",
       " 0.592521    0.457251   0.306858     0.530738   0.305446    0.105512\n",
       " 0.398884    0.456804   0.466785     0.0223101  0.685167    0.260516"
      ]
     },
     "execution_count": 49,
     "metadata": {},
     "output_type": "execute_result"
    }
   ],
   "source": [
    "P_true = reshape(model[:P], K, KK)\n",
    "P_true"
   ]
  },
  {
   "cell_type": "code",
   "execution_count": 51,
   "metadata": {},
   "outputs": [
    {
     "data": {
      "text/plain": [
       "9×3×3 Array{Float64,3}:\n",
       "[:, :, 1] =\n",
       " 0.0557647  0.0725185  0.186643 \n",
       " 0.152994   0.0921783  0.110184 \n",
       " 0.0291712  0.105467   0.13833  \n",
       " 0.152994   0.0921783  0.110184 \n",
       " 0.419748   0.117168   0.0650472\n",
       " 0.0800329  0.134059   0.0816625\n",
       " 0.0291712  0.105467   0.13833  \n",
       " 0.0800329  0.134059   0.0816625\n",
       " 0.0152598  0.153386   0.102522 \n",
       "\n",
       "[:, :, 2] =\n",
       " 0.0725185  0.153737  0.0915632\n",
       " 0.0921783  0.0       0.0422781\n",
       " 0.105467   0.237767  0.171617 \n",
       " 0.0921783  0.0       0.0422781\n",
       " 0.117168   0.0       0.0195214\n",
       " 0.134059   0.0       0.0792417\n",
       " 0.105467   0.237767  0.171617 \n",
       " 0.134059   0.0       0.0792417\n",
       " 0.153386   0.367727  0.321661 \n",
       "\n",
       "[:, :, 3] =\n",
       " 0.186643   0.0915632  0.00654837\n",
       " 0.110184   0.0422781  0.0386118 \n",
       " 0.13833    0.171617   0.0357914 \n",
       " 0.110184   0.0422781  0.0386118 \n",
       " 0.0650472  0.0195214  0.227671  \n",
       " 0.0816625  0.0792417  0.211041  \n",
       " 0.13833    0.171617   0.0357914 \n",
       " 0.0816625  0.0792417  0.211041  \n",
       " 0.102522   0.321661   0.195625  "
      ]
     },
     "execution_count": 51,
     "metadata": {},
     "output_type": "execute_result"
    }
   ],
   "source": [
    "reshape(P, :, K, K)"
   ]
  },
  {
   "cell_type": "code",
   "execution_count": 48,
   "metadata": {},
   "outputs": [
    {
     "data": {
      "text/plain": [
       "3×9 Array{Float64,2}:\n",
       " 0.269293  0.432022  0.236145  2.70876e-315  …  2.7084e-315   2.70838e-315\n",
       " 0.342298  0.255043  0.64788   2.70841e-315     2.70837e-315  2.70838e-315\n",
       " 0.391645  0.320191  0.12353   2.70841e-315     2.70837e-315  2.70801e-315"
      ]
     },
     "execution_count": 48,
     "metadata": {},
     "output_type": "execute_result"
    }
   ],
   "source": [
    "tt = similar(P_true)\n",
    "for k in 1:KK\n",
    "    i, j = ind2sub((K, K), k)\n",
    "    ke = sub2ind((K, K), true_to_est_lut[i], true_to_est_lut[j])\n",
    "    tt[:, i] = estimate_outer(reshape(P[:, true_to_est_lut[i]], K, K))\n",
    "end\n",
    "tt"
   ]
  },
  {
   "cell_type": "code",
   "execution_count": 170,
   "metadata": {},
   "outputs": [
    {
     "data": {
      "text/plain": [
       "1922"
      ]
     },
     "execution_count": 170,
     "metadata": {},
     "output_type": "execute_result"
    }
   ],
   "source": [
    "Z_obs = similar(Z)\n",
    "for t in 1:T\n",
    "    Z_obs[:, t] = [ind2sub((K, K), indmax(γ[:, t]))...]\n",
    "end\n",
    "sum(Z_obs .!= Z)"
   ]
  }
 ],
 "metadata": {
  "kernelspec": {
   "display_name": "Julia 0.6.0",
   "language": "julia",
   "name": "julia-0.6"
  },
  "language_info": {
   "file_extension": ".jl",
   "mimetype": "application/julia",
   "name": "julia",
   "version": "0.6.0"
  }
 },
 "nbformat": 4,
 "nbformat_minor": 2
}
