{
 "cells": [
  {
   "cell_type": "markdown",
   "metadata": {},
   "source": [
    "TODO:\n",
    " - speed up data likelihood (and precompute $\\log | \\Sigma |$)\n",
    " - the swapped indices thing"
   ]
  },
  {
   "cell_type": "code",
   "execution_count": 1,
   "metadata": {
    "collapsed": true
   },
   "outputs": [],
   "source": [
    "using Distributions\n",
    "using Seaborn"
   ]
  },
  {
   "cell_type": "code",
   "execution_count": 2,
   "metadata": {},
   "outputs": [
    {
     "data": {
      "text/plain": [
       "update_parameter_estimates! (generic function with 2 methods)"
      ]
     },
     "execution_count": 2,
     "metadata": {},
     "output_type": "execute_result"
    }
   ],
   "source": [
    "include(\"src/CHMM.jl\")\n",
    "# include(\"src/auxiliary.jl\")\n",
    "# include(\"src/chmm.jl\")\n",
    "# include(\"src/chmm_training.jl\")"
   ]
  },
  {
   "cell_type": "code",
   "execution_count": 3,
   "metadata": {},
   "outputs": [],
   "source": [
    "K = 5\n",
    "KK = K^2\n",
    "D = 3\n",
    "model = rand_chmm(K, D)\n",
    "(X, Z, traj_ptr, traj_pairs) = rand_trajs(model, \n",
    "    T_range=100:300, N_pairs=100)\n",
    ";"
   ]
  },
  {
   "cell_type": "code",
   "execution_count": 4,
   "metadata": {},
   "outputs": [],
   "source": [
    "num_trajs = length(traj_ptr) - 1\n",
    "num_pairs = length(traj_pairs)\n",
    "traj_lens = diff(traj_ptr)\n",
    "\n",
    "# drop a couple of trajectories\n",
    "traj_pairs_full = copy(traj_pairs)\n",
    "\n",
    "\n",
    "# traj_pairs = traj_pairs[ randperm(num_pairs)[1:Int(num_pairs/2)] ]\n",
    "traj_pairs = traj_pairs[[1]] #################################################\n",
    "\n",
    "\n",
    "num_pairs = length(traj_pairs)\n",
    "\n",
    "num_singles = num_trajs - num_pairs * 2\n",
    "traj_singles = setdiff(1:num_trajs, vcat([[p...] for p in traj_pairs]...))\n",
    ";"
   ]
  },
  {
   "cell_type": "markdown",
   "metadata": {},
   "source": [
    "## EM"
   ]
  },
  {
   "cell_type": "code",
   "execution_count": 30,
   "metadata": {},
   "outputs": [],
   "source": [
    "curr = chmm_from_data(X, K)\n",
    "suff = ChmmSuffStats(curr)\n",
    "\n",
    "log_p0 = log.(outer(curr.π0))\n",
    "\n",
    "log_P = empty(KK, KK)\n",
    "for k in 1:KK\n",
    "    i, j = ind2sub((K, K), k)\n",
    "    outer!(reshape(view(log_P, :, k), K, K), curr.P[:, i, j])\n",
    "end\n",
    "map!(log, log_P, log_P)\n",
    "\n",
    "T_max = maximum(diff(traj_ptr))\n",
    "\n",
    "log_b = empty(KK, T_max)\n",
    "log_α = similar(log_b)\n",
    "log_β = similar(log_b)\n",
    "γ = similar(log_b)\n",
    ";"
   ]
  },
  {
   "cell_type": "code",
   "execution_count": 31,
   "metadata": {},
   "outputs": [],
   "source": [
    "for i in 1:K\n",
    "    curr.μs[i][:] = randn(D) * 10\n",
    "end"
   ]
  },
  {
   "cell_type": "code",
   "execution_count": 32,
   "metadata": {},
   "outputs": [
    {
     "data": {
      "text/plain": [
       "5-element Array{Array{Float64,1},1}:\n",
       " [-3.29239, 11.0064, -8.45707]\n",
       " [-1.16615, 3.02157, -24.165] \n",
       " [-4.70355, 2.49545, 17.8605] \n",
       " [-2.22696, 4.52798, 16.5479] \n",
       " [15.6264, -1.93363, 8.70836] "
      ]
     },
     "execution_count": 32,
     "metadata": {},
     "output_type": "execute_result"
    }
   ],
   "source": [
    "curr.μs"
   ]
  },
  {
   "cell_type": "code",
   "execution_count": 126,
   "metadata": {},
   "outputs": [
    {
     "name": "stderr",
     "output_type": "stream",
     "text": [
      "\u001b[1m\u001b[33mWARNING: \u001b[39m\u001b[22m\u001b[33mreplacing docs for 'ChmmSuffStats :: Union{}' in module 'Main'.\u001b[39m\n"
     ]
    },
    {
     "data": {
      "text/plain": [
       "update_parameter_estimates! (generic function with 2 methods)"
      ]
     },
     "execution_count": 126,
     "metadata": {},
     "output_type": "execute_result"
    }
   ],
   "source": [
    "include(\"src/chmm_training.jl\")"
   ]
  },
  {
   "cell_type": "code",
   "execution_count": 33,
   "metadata": {},
   "outputs": [],
   "source": [
    "N_iters = 50\n",
    "log_like_hist = fill(NaN, N_iters)\n",
    "verbose = true\n",
    "print_every = 10\n",
    "\n",
    "for iter in 1:1\n",
    "    log_like = 0.0\n",
    "    zero!(suff)\n",
    "    \n",
    "    #\n",
    "    # Pairwise Trajectories\n",
    "    #\n",
    "    for (id1, id2) in [] #traj_pairs\n",
    "        X1 = get_trajectory(id1, X, traj_ptr)\n",
    "        X2 = get_trajectory(id2, X, traj_ptr)\n",
    "        \n",
    "        T = size(X1, 2)\n",
    "        @assert T == size(X2, 2)\n",
    "    \n",
    "        data_likelihood!(PairwiseTrajectory, \n",
    "            curr, X1, X2, log_p0, log_P, log_b)\n",
    "        log_like += forward_backward!(curr, T,\n",
    "            log_p0, log_P, log_b, log_α, log_β, γ)\n",
    "        update_suff_stats!(PairwiseTrajectory, \n",
    "            suff, X1, X2, log_p0, log_P, γ)\n",
    "    end\n",
    "\n",
    "    #\n",
    "    # Single Trajectories\n",
    "    #\n",
    "    for id in [1] #traj_singles\n",
    "        Xt = get_trajectory(id, X, traj_ptr)\n",
    "        T = size(Xt, 2)\n",
    "        \n",
    "        data_likelihood!(SingleTrajectory, \n",
    "            curr, Xt, log_p0, log_P, log_b)\n",
    "        log_like += forward_backward!(curr, T,\n",
    "            log_p0, log_P, log_b, log_α, log_β, γ)\n",
    "        update_suff_stats!(SingleTrajectory, \n",
    "            suff, Xt, log_p0, log_P, γ)\n",
    "    end\n",
    "\n",
    "    #\n",
    "    # combine info from all trajectories\n",
    "    #    \n",
    "    update_parameter_estimates!(curr, suff)\n",
    "    \n",
    "    log_like_hist[iter] = log_like\n",
    "    verbose && (iter % print_every == 0) && @printf(\"iteration %6d:  %.3f\\n\", iter, log_like)\n",
    "    \n",
    "    if (iter ≥ 2) && (abs(log_like_hist[iter] - log_like_hist[iter - 1]) ≤ conv_tol)\n",
    "        break\n",
    "    end\n",
    "end"
   ]
  },
  {
   "cell_type": "code",
   "execution_count": 65,
   "metadata": {},
   "outputs": [
    {
     "data": {
      "text/plain": [
       "284"
      ]
     },
     "execution_count": 65,
     "metadata": {},
     "output_type": "execute_result"
    }
   ],
   "source": [
    "T = first(traj_lens)"
   ]
  },
  {
   "cell_type": "code",
   "execution_count": 37,
   "metadata": {},
   "outputs": [
    {
     "data": {
      "text/plain": [
       "761"
      ]
     },
     "execution_count": 37,
     "metadata": {},
     "output_type": "execute_result"
    }
   ],
   "source": [
    "sum(traj_lens[1:3])"
   ]
  },
  {
   "cell_type": "code",
   "execution_count": 38,
   "metadata": {},
   "outputs": [
    {
     "data": {
      "text/plain": [
       "477"
      ]
     },
     "execution_count": 38,
     "metadata": {},
     "output_type": "execute_result"
    }
   ],
   "source": [
    "sum(traj_lens[[1, 3]])"
   ]
  },
  {
   "cell_type": "code",
   "execution_count": 96,
   "metadata": {},
   "outputs": [
    {
     "data": {
      "text/plain": [
       "1"
      ]
     },
     "execution_count": 96,
     "metadata": {},
     "output_type": "execute_result"
    }
   ],
   "source": [
    "k = 1"
   ]
  },
  {
   "cell_type": "code",
   "execution_count": 115,
   "metadata": {},
   "outputs": [
    {
     "data": {
      "text/plain": [
       "3×3 Array{Float64,2}:\n",
       " 0.571391  0.0       0.0     \n",
       " 0.0       0.571391  0.0     \n",
       " 0.0       0.0       0.571391"
      ]
     },
     "execution_count": 115,
     "metadata": {},
     "output_type": "execute_result"
    }
   ],
   "source": [
    "model.Σs[k]"
   ]
  },
  {
   "cell_type": "code",
   "execution_count": 116,
   "metadata": {},
   "outputs": [
    {
     "data": {
      "text/plain": [
       "3×3 Array{Float64,2}:\n",
       "  64.6341  -22.2252   19.832 \n",
       " -22.2252  -45.0764   24.9121\n",
       "  19.832    24.9121  -12.5363"
      ]
     },
     "execution_count": 116,
     "metadata": {},
     "output_type": "execute_result"
    }
   ],
   "source": [
    "curr.Σs[k]"
   ]
  },
  {
   "cell_type": "code",
   "execution_count": 117,
   "metadata": {},
   "outputs": [
    {
     "data": {
      "text/plain": [
       "false"
      ]
     },
     "execution_count": 117,
     "metadata": {},
     "output_type": "execute_result"
    }
   ],
   "source": [
    "isposdef(curr.Σs[k])"
   ]
  },
  {
   "cell_type": "code",
   "execution_count": 133,
   "metadata": {},
   "outputs": [
    {
     "data": {
      "text/plain": [
       "3-element Array{Float64,1}:\n",
       "  2.82763\n",
       " 14.5404 \n",
       " -8.40241"
      ]
     },
     "execution_count": 133,
     "metadata": {},
     "output_type": "execute_result"
    }
   ],
   "source": [
    "tm = zeros(D)\n",
    "for t in 1:T\n",
    "    p = reshape(γ[:, t], (K, K))\n",
    "    o = X[:, t]\n",
    "    pz = sum(p[k, :])\n",
    "    tm .+= pz * o\n",
    "end\n",
    "tm ./= suff.counts_K[k]"
   ]
  },
  {
   "cell_type": "code",
   "execution_count": 139,
   "metadata": {},
   "outputs": [
    {
     "data": {
      "text/plain": [
       "3×3 Array{Float64,2}:\n",
       "  66.9838  -10.1422   12.8496 \n",
       " -10.1422   17.0579  -10.9933 \n",
       "  12.8496  -10.9933    8.21219"
      ]
     },
     "execution_count": 139,
     "metadata": {},
     "output_type": "execute_result"
    }
   ],
   "source": [
    "tS1 = zeros(D, D)\n",
    "for t in 1:T\n",
    "    p = reshape(γ[:, t], (K, K))\n",
    "    o = X[:, t] .- tm\n",
    "    pz = sum(p[k, :])\n",
    "    tS1 .+= pz * o * o'\n",
    "end\n",
    "tS1 ./= suff.counts_K[k]\n",
    "tS1 = (tS1 + tS1')/2"
   ]
  },
  {
   "cell_type": "code",
   "execution_count": 140,
   "metadata": {},
   "outputs": [
    {
     "data": {
      "text/plain": [
       "true"
      ]
     },
     "execution_count": 140,
     "metadata": {},
     "output_type": "execute_result"
    }
   ],
   "source": [
    "isposdef(tS1)"
   ]
  },
  {
   "cell_type": "code",
   "execution_count": 141,
   "metadata": {},
   "outputs": [
    {
     "data": {
      "text/plain": [
       "3×3 Array{Float64,2}:\n",
       "  64.6341  -22.2252   19.832 \n",
       " -22.2252  -45.0764   24.9121\n",
       "  19.832    24.9121  -12.5363"
      ]
     },
     "execution_count": 141,
     "metadata": {},
     "output_type": "execute_result"
    }
   ],
   "source": [
    "tS2 = zeros(D, D)\n",
    "for t in 1:T\n",
    "    p = reshape(γ[:, t], (K, K))\n",
    "    o = X[:, t]\n",
    "    pz = sum(p[k, :])\n",
    "    tS2 .+= pz * o * o'\n",
    "end\n",
    "tS2 ./= suff.counts_K[k]\n",
    "tS2 .-= tm * tm'\n",
    "tS2 = (tS2 + tS2')/2"
   ]
  },
  {
   "cell_type": "code",
   "execution_count": 142,
   "metadata": {},
   "outputs": [
    {
     "data": {
      "text/plain": [
       "false"
      ]
     },
     "execution_count": 142,
     "metadata": {},
     "output_type": "execute_result"
    }
   ],
   "source": [
    " isposdef(tS2)"
   ]
  },
  {
   "cell_type": "code",
   "execution_count": 40,
   "metadata": {},
   "outputs": [
    {
     "data": {
      "text/plain": [
       "283.99999999998005"
      ]
     },
     "execution_count": 40,
     "metadata": {},
     "output_type": "execute_result"
    }
   ],
   "source": [
    "suff.counts_KK |> sum"
   ]
  },
  {
   "cell_type": "code",
   "execution_count": 41,
   "metadata": {},
   "outputs": [
    {
     "data": {
      "text/plain": [
       "5-element Array{Array{Float64,1},1}:\n",
       " [225.094, 1157.49, -668.875]            \n",
       " [1.26225e-65, 9.78874e-66, -6.18205e-66]\n",
       " [-9.70838e-7, 7.45209e-6, 1.45325e-5]   \n",
       " [-32.4028, 385.055, 689.386]            \n",
       " [1110.25, 5.21374, 904.722]             "
      ]
     },
     "execution_count": 41,
     "metadata": {},
     "output_type": "execute_result"
    }
   ],
   "source": [
    "suff.ms"
   ]
  },
  {
   "cell_type": "code",
   "execution_count": 25,
   "metadata": {},
   "outputs": [
    {
     "data": {
      "text/plain": [
       "5-element Array{Array{Float64,1},1}:\n",
       " [10.3957, 3.26583, 6.03191]  \n",
       " [10.336, 9.63485, -4.77635]  \n",
       " [-4.11489, 12.4727, -7.88772]\n",
       " [-0.537493, 8.55844, 15.3948]\n",
       " [6.53086, -2.44013, 6.91043] "
      ]
     },
     "execution_count": 25,
     "metadata": {},
     "output_type": "execute_result"
    }
   ],
   "source": [
    "model.μs"
   ]
  },
  {
   "cell_type": "code",
   "execution_count": 24,
   "metadata": {},
   "outputs": [
    {
     "data": {
      "text/plain": [
       "5-element Array{Array{Float64,1},1}:\n",
       " [6.00093, 2.24089, 8.78303]             \n",
       " [-4.14655, 12.4746, -7.88803]           \n",
       " [1.36135e-42, 1.00084e-42, -6.31514e-43]\n",
       " [5.96934, -4.72486, 5.13303]            \n",
       " [10.279, 9.73686, -4.70588]             "
      ]
     },
     "execution_count": 24,
     "metadata": {},
     "output_type": "execute_result"
    }
   ],
   "source": [
    "curr.μs"
   ]
  },
  {
   "cell_type": "code",
   "execution_count": 52,
   "metadata": {},
   "outputs": [
    {
     "data": {
      "text/plain": [
       "5-element Array{Bool,1}:\n",
       " false\n",
       "  true\n",
       "  true\n",
       "  true\n",
       " false"
      ]
     },
     "execution_count": 52,
     "metadata": {},
     "output_type": "execute_result"
    }
   ],
   "source": [
    "map(isposdef, curr.Σs)"
   ]
  },
  {
   "cell_type": "code",
   "execution_count": 57,
   "metadata": {},
   "outputs": [],
   "source": [
    "X1 = get_trajectory(1, X, traj_ptr)\n",
    "X2 = get_trajectory(2, X, traj_ptr)\n",
    ";"
   ]
  },
  {
   "cell_type": "code",
   "execution_count": null,
   "metadata": {
    "collapsed": true
   },
   "outputs": [],
   "source": [
    "T = size(X1, 2)\n",
    "@assert T == size(X2, 2)\n",
    "\n",
    "data_likelihood!(PairwiseTrajectory, \n",
    "    curr, X1, X2, log_p0, log_P, log_b)"
   ]
  },
  {
   "cell_type": "code",
   "execution_count": 72,
   "metadata": {},
   "outputs": [
    {
     "data": {
      "image/png": "[encoded data removed]",
      "text/plain": [
       "PyPlot.Figure(PyObject <matplotlib.figure.Figure object at 0x00000000295F3860>)"
      ]
     },
     "metadata": {},
     "output_type": "display_data"
    },
    {
     "data": {
      "text/plain": [
       "1-element Array{Any,1}:\n",
       " PyObject <matplotlib.lines.Line2D object at 0x000000003D6EE898>"
      ]
     },
     "execution_count": 72,
     "metadata": {},
     "output_type": "execute_result"
    }
   ],
   "source": [
    "plot(log_like_hist)"
   ]
  },
  {
   "cell_type": "markdown",
   "metadata": {},
   "source": [
    "# Analysis"
   ]
  },
  {
   "cell_type": "code",
   "execution_count": null,
   "metadata": {
    "collapsed": true
   },
   "outputs": [],
   "source": [
    "true_to_est_lut = empty(Int, K)\n",
    "for i in 1:K\n",
    "    m = model.μs[i]\n",
    "    r = map(mm -> norm(m .- mm), curr.μs)\n",
    "    true_to_est_lut[i] = indmin(r)\n",
    "end"
   ]
  },
  {
   "cell_type": "code",
   "execution_count": 112,
   "metadata": {},
   "outputs": [
    {
     "data": {
      "text/plain": [
       "0.2896134348057094"
      ]
     },
     "execution_count": 112,
     "metadata": {},
     "output_type": "execute_result"
    }
   ],
   "source": [
    "P_true = copy(model.P)\n",
    "P_hat = copy( curr.P[true_to_est_lut, true_to_est_lut, true_to_est_lut] )\n",
    "maximum(P_true .- P_hat)"
   ]
  },
  {
   "cell_type": "code",
   "execution_count": 113,
   "metadata": {},
   "outputs": [
    {
     "data": {
      "text/plain": [
       "0.1810702700057717"
      ]
     },
     "execution_count": 113,
     "metadata": {},
     "output_type": "execute_result"
    }
   ],
   "source": [
    "p0_true = copy(model.π0)\n",
    "p0_hat = copy( curr.π0[true_to_est_lut] )\n",
    "maximum(p0_true .- p0_hat)"
   ]
  },
  {
   "cell_type": "code",
   "execution_count": 120,
   "metadata": {},
   "outputs": [
    {
     "data": {
      "text/plain": [
       "2×3 Array{Float64,2}:\n",
       " 0.00625976   0.00261317  -0.0105945\n",
       " 0.00156944  -0.00314787   0.0187559"
      ]
     },
     "execution_count": 120,
     "metadata": {},
     "output_type": "execute_result"
    }
   ],
   "source": [
    "hcat([model.μs[i] .- curr.μs[true_to_est_lut[i]] for i in 1:K] ...)"
   ]
  },
  {
   "cell_type": "code",
   "execution_count": 60,
   "metadata": {},
   "outputs": [
    {
     "data": {
      "text/plain": [
       "5×5 Array{Float64,2}:\n",
       " 0.0882851  0.0677451  0.021348    0.0107783   0.0392844\n",
       " 0.119294   0.107528   0.0509302   0.0235713   0.108796 \n",
       " 0.0462925  0.0571043  0.019985    0.00841619  0.0291007\n",
       " 0.0254451  0.0185579  0.00599994  0.00237123  0.0120826\n",
       " 0.0378233  0.0420096  0.0156117   0.00606519  0.0355745"
      ]
     },
     "execution_count": 60,
     "metadata": {},
     "output_type": "execute_result"
    }
   ],
   "source": [
    "t = reshape(suff.P_flat[:, 5], K, K)\n",
    "t ./ sum(t)"
   ]
  },
  {
   "cell_type": "code",
   "execution_count": 119,
   "metadata": {},
   "outputs": [
    {
     "data": {
      "text/plain": [
       "3-element Array{Float64,1}:\n",
       " 0.0453783\n",
       " 0.0126107\n",
       " 0.0255573"
      ]
     },
     "execution_count": 119,
     "metadata": {},
     "output_type": "execute_result"
    }
   ],
   "source": [
    "vcat([norm(model.Σs[i] .- curr.Σs[true_to_est_lut[i]]) for i in 1:K] ...)"
   ]
  }
 ],
 "metadata": {
  "kernelspec": {
   "display_name": "Julia 0.6.0",
   "language": "julia",
   "name": "julia-0.6"
  },
  "language_info": {
   "file_extension": ".jl",
   "mimetype": "application/julia",
   "name": "julia",
   "version": "0.6.0"
  }
 },
 "nbformat": 4,
 "nbformat_minor": 2
}
