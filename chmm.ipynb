{
 "cells": [
  {
   "cell_type": "code",
   "execution_count": 1,
   "metadata": {
    "collapsed": true
   },
   "outputs": [],
   "source": [
    "using Distributions\n",
    "using Seaborn\n",
    "import StatsBase: wsample\n",
    "import Clustering: kmeans"
   ]
  },
  {
   "cell_type": "code",
   "execution_count": 2,
   "metadata": {
    "collapsed": true
   },
   "outputs": [],
   "source": [
    "# a bit of overkill really with these guys\n",
    "const ϵ = eps(1.0)\n",
    "const log_ϵ = -1_000.0\n",
    "const ϵI = UniformScaling(1e-6)\n",
    ";"
   ]
  },
  {
   "cell_type": "code",
   "execution_count": 3,
   "metadata": {},
   "outputs": [
    {
     "data": {
      "text/plain": [
       "make_model (generic function with 1 method)"
      ]
     },
     "execution_count": 3,
     "metadata": {},
     "output_type": "execute_result"
    }
   ],
   "source": [
    "function make_model(K, D)\n",
    "    π0 = rand(K)\n",
    "    π0 ./= sum(π0)\n",
    "    \n",
    "    # p(zᵗ⁺¹ | z₁ᵗ, z₂ᵗ) = P[zᵗ⁺¹, z₁ᵗ, z₂ᵗ]\n",
    "    # Z₁ ≡ Z₂\n",
    "    P = rand(K, K, K)\n",
    "    P ./= sum(P, 1)\n",
    "    \n",
    "    μs = [randn(D) * 8 for _ in 1:K]\n",
    "    Σs = [eye(D) * rand() for _ in 1:K]\n",
    "    \n",
    "    model = Dict(:π0 => π0, :P => P,\n",
    "        :μs => μs, :Σs => Σs)\n",
    "    \n",
    "    return model\n",
    "end"
   ]
  },
  {
   "cell_type": "code",
   "execution_count": 4,
   "metadata": {},
   "outputs": [],
   "source": [
    "K = 3\n",
    "KK = K^2\n",
    "D = 1\n",
    "T = 500\n",
    "\n",
    "model = make_model(K, D)\n",
    "sqrtm_Σs = map(sqrtm, model[:Σs])\n",
    ";"
   ]
  },
  {
   "cell_type": "code",
   "execution_count": 22,
   "metadata": {},
   "outputs": [],
   "source": [
    "Z = Matrix{Int}(2, T)\n",
    "X1 = Matrix{Float64}(D, T)\n",
    "X2 = similar(X1)\n",
    "\n",
    "z = wsample(1:K, model[:π0], 2)\n",
    "\n",
    "for t in 1:T\n",
    "    z = wsample(1:K, model[:P][:, z...], 2)\n",
    "    Z[:, t] = z\n",
    "    X1[:, t] = sqrtm_Σs[z[1]] * randn(D) + model[:μs][z[1]]\n",
    "    X2[:, t] = sqrtm_Σs[z[2]] * randn(D) + model[:μs][z[2]]\n",
    "end"
   ]
  },
  {
   "cell_type": "markdown",
   "metadata": {},
   "source": [
    "## EM"
   ]
  },
  {
   "cell_type": "code",
   "execution_count": 6,
   "metadata": {},
   "outputs": [
    {
     "data": {
      "text/plain": [
       "sanitize_log! (generic function with 2 methods)"
      ]
     },
     "execution_count": 6,
     "metadata": {},
     "output_type": "execute_result"
    }
   ],
   "source": [
    "@inline function sanitize_log!(A::AbstractArray{<:Real}, log_ϵ::Float64=log_ϵ)\n",
    "    @inbounds for i in 1:length(A)\n",
    "        !isfinite(A[i]) && (A[i] = log_ϵ)\n",
    "    end\n",
    "end"
   ]
  },
  {
   "cell_type": "code",
   "execution_count": 7,
   "metadata": {},
   "outputs": [
    {
     "data": {
      "text/plain": [
       "sanitize! (generic function with 2 methods)"
      ]
     },
     "execution_count": 7,
     "metadata": {},
     "output_type": "execute_result"
    }
   ],
   "source": [
    "@inline function sanitize!(A::AbstractArray{<:Real}, ϵ::Float64=ϵ)\n",
    "    @inbounds for i in 1:length(A)\n",
    "        (!isfinite(A[i]) || A[i] ≤ ϵ) && (A[i] = ϵ)\n",
    "    end\n",
    "end"
   ]
  },
  {
   "cell_type": "code",
   "execution_count": 8,
   "metadata": {},
   "outputs": [
    {
     "data": {
      "text/plain": [
       "logsumexp"
      ]
     },
     "execution_count": 8,
     "metadata": {},
     "output_type": "execute_result"
    }
   ],
   "source": [
    "# blatantly copied from github.com/jwmi/HMM\n",
    "\"\"\"\n",
    "    logsumexp(X::AbstractArray{<:Real})\n",
    "\n",
    "log Σᵢ exp(xᵢ) for a sequence where xᵢ = log yᵢ\n",
    "∴ logsumexp(x) = log(Σᵢ yᵢ )\n",
    "\"\"\"\n",
    "@inline function logsumexp(X::AbstractArray{<:Real})\n",
    "    mx = maximum(X)\n",
    "\n",
    "    if !isfinite(mx)\n",
    "        return mx\n",
    "    else\n",
    "        return mx + log(sum(exp, X .- mx))\n",
    "    end\n",
    "end"
   ]
  },
  {
   "cell_type": "code",
   "execution_count": 23,
   "metadata": {},
   "outputs": [],
   "source": [
    "# initial EM estiamtes \n",
    "R = kmeans([X1 X2], K, maxiter=100, display=:none)\n",
    "ms = [R.centers[:, i] for i in 1:K]\n",
    "Ss = [eye(D) * 3 for _ in 1:K]\n",
    "\n",
    "# initial distribition over K × K\n",
    "p0 = normalize(rand(K), 1)\n",
    "p0 = (p0 * p0')[:]\n",
    "log_p0 = log.(p0)\n",
    "\n",
    "P= rand(K, KK)\n",
    "P./= sum(P, 1)\n",
    "# make it K² × K²\n",
    "# T[:, i] is symmetric if reshaped to be K×K, ∀i\n",
    "P = repeat(P, inner=(K, 1)) .* repeat(P, outer=(K, 1))\n",
    "log_P = log.(P)\n",
    ";"
   ]
  },
  {
   "cell_type": "code",
   "execution_count": 24,
   "metadata": {},
   "outputs": [
    {
     "name": "stderr",
     "output_type": "stream",
     "text": [
      "WARNING: imported binding for γ overwritten in module Main\n"
     ]
    }
   ],
   "source": [
    "log_b = zeros(KK, T)\n",
    "log_α = similar(log_b)\n",
    "log_β = similar(log_b)\n",
    "\n",
    "α = similar(log_b)\n",
    "β = similar(log_b)\n",
    "γ = similar(log_b)\n",
    "# add them all together (vs a list)\n",
    "ξ = zeros(KK, KK)\n",
    ";"
   ]
  },
  {
   "cell_type": "code",
   "execution_count": 59,
   "metadata": {},
   "outputs": [],
   "source": [
    "for t in 1:T\n",
    "    for q in 1:K^2\n",
    "        (i, j) = ind2sub((K, K), q)\n",
    "        log_b[q, t] = logpdf(MvNormal(ms[i], Ss[i]), X1[:, t]) +\n",
    "                logpdf(MvNormal(ms[j], Ss[j]), X2[:, t])\n",
    "    end\n",
    "end"
   ]
  },
  {
   "cell_type": "code",
   "execution_count": 26,
   "metadata": {},
   "outputs": [],
   "source": [
    "#\n",
    "# forward\n",
    "#\n",
    "# temp is [ log_a[i, t-1] + log_A[j, i] ]ᵢ\n",
    "temp = zeros(KK)\n",
    "log_α[:, 1] = log_p0 .+ log_b[:, 1]\n",
    "\n",
    "for t in 2:T\n",
    "    for j in 1:KK\n",
    "        temp[:] = log_α[:, t-1]\n",
    "        temp .+= log_P[j, :]\n",
    "        log_α[j, t] = logsumexp(temp) + log_b[j, t]\n",
    "    end\n",
    "end"
   ]
  },
  {
   "cell_type": "code",
   "execution_count": 27,
   "metadata": {},
   "outputs": [],
   "source": [
    "#\n",
    "# backward pass\n",
    "#\n",
    "# temp is [ log_A[i, j] + log_β[j, t+1] + log_b[j, t+1] ]ⱼ\n",
    "log_β[:, T] = 0\n",
    "\n",
    "for t in (T-1):-1:1\n",
    "    for i in 1:KK\n",
    "        temp[:] = log_b[:, t+1]\n",
    "        temp .+= log_P[:, i]\n",
    "        temp .+= log_β[:, t+1]\n",
    "        log_β[i, t] = logsumexp(temp)\n",
    "    end\n",
    "end"
   ]
  },
  {
   "cell_type": "code",
   "execution_count": 68,
   "metadata": {},
   "outputs": [],
   "source": [
    "#\n",
    "# γ\n",
    "#\n",
    "for t in 1:T\n",
    "    γ[:, t] = log_α[:, t]\n",
    "    γ[:, t] .+= log_β[:, t]\n",
    "    γ[:, t] .-= logsumexp(γ[:, t])\n",
    "end\n",
    "map!(exp, γ, γ)\n",
    "\n",
    "pseudo_counts = squeeze(sum(γ, 2), 2)\n",
    ";"
   ]
  },
  {
   "cell_type": "code",
   "execution_count": 77,
   "metadata": {},
   "outputs": [],
   "source": [
    "#\n",
    "# ξ\n",
    "#\n",
    "temp2 = similar(ξ)\n",
    "for t in 1:(T-1)\n",
    "    temp2[:] = log_P\n",
    "    temp2 .+= log_α[:, t]'\n",
    "    temp2 .+= log_b[:, t+1]\n",
    "    temp2 .+= log_β[:, t+1]\n",
    "    temp2 .-= logsumexp(temp2)\n",
    "    ξ .+= exp.(temp2)\n",
    "end\n",
    "ξ ./= sum(ξ, 1)\n",
    ";"
   ]
  },
  {
   "cell_type": "code",
   "execution_count": 83,
   "metadata": {},
   "outputs": [
    {
     "data": {
      "text/plain": [
       "9×9 Array{Float64,2}:\n",
       " -3.73248   -0.947106  -1.38392  -1.47889  …  -1.95965  -4.44827   -1.39973\n",
       " -3.44805   -1.94358   -2.36658  -2.55273     -2.78463  -3.59912   -3.3847 \n",
       " -2.44209   -2.55874   -1.88095  -1.9914      -1.8293   -2.77582   -1.63669\n",
       " -3.67896   -1.66262   -2.69442  -2.01042     -3.13105  -3.42078   -3.69352\n",
       " -3.28045   -3.21029   -3.29182  -3.3868      -3.72081  -2.87526   -5.52158\n",
       " -2.333     -3.49977   -3.1401   -2.70112  …  -2.95908  -2.00504   -3.81728\n",
       " -2.3968    -2.48621   -1.83825  -1.92272     -1.79078  -2.69875   -1.58981\n",
       " -2.31529   -3.67847   -3.02261  -2.93092     -2.82061  -2.06509   -3.77647\n",
       " -0.677924  -3.77798   -1.91497  -2.09311     -1.23559  -0.732271  -1.39802"
      ]
     },
     "execution_count": 83,
     "metadata": {},
     "output_type": "execute_result"
    }
   ],
   "source": [
    "#\n",
    "# parameter update\n",
    "#\n",
    "\n",
    "P[:] = ξ\n",
    "log_P[:] = P\n",
    "map!(log, log_P, log_P)\n",
    "\n",
    "p0[:] = γ[:, 1]"
   ]
  },
  {
   "cell_type": "code",
   "execution_count": null,
   "metadata": {
    "collapsed": true
   },
   "outputs": [],
   "source": []
  },
  {
   "cell_type": "code",
   "execution_count": 71,
   "metadata": {},
   "outputs": [
    {
     "data": {
      "text/plain": [
       "614"
      ]
     },
     "execution_count": 71,
     "metadata": {},
     "output_type": "execute_result"
    }
   ],
   "source": [
    "Z_obs = similar(Z)\n",
    "for t in 1:T\n",
    "    Z_obs[:, t] = [ind2sub((K, K), indmax(γ[:, t]))...]\n",
    "end\n",
    "sum(Z_obs .!= Z)"
   ]
  }
 ],
 "metadata": {
  "kernelspec": {
   "display_name": "Julia 0.6.0",
   "language": "julia",
   "name": "julia-0.6"
  },
  "language_info": {
   "file_extension": ".jl",
   "mimetype": "application/julia",
   "name": "julia",
   "version": "0.6.0"
  }
 },
 "nbformat": 4,
 "nbformat_minor": 2
}
