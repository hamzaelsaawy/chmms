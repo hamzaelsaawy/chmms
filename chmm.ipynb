{
 "cells": [
  {
   "cell_type": "markdown",
   "metadata": {},
   "source": [
    "TODO:\n",
    " * precompute $\\log|\\Sigma_i|$\n",
    " * precomute swapped indices for parameter updates"
   ]
  },
  {
   "cell_type": "code",
   "execution_count": null,
   "metadata": {
    "collapsed": true
   },
   "outputs": [],
   "source": [
    "using Distributions\n",
    "using StatPlots\n",
    "using Plots\n",
    "pyplot(size=(600, 400))\n",
    "\n",
    "import CSV\n",
    "import JLD2"
   ]
  },
  {
   "cell_type": "code",
   "execution_count": null,
   "metadata": {
    "collapsed": true
   },
   "outputs": [],
   "source": [
    "include(\"src/NGSIM.jl\")"
   ]
  },
  {
   "cell_type": "raw",
   "metadata": {},
   "source": [
    "include(\"src/auxiliary.jl\")\n",
    "include(\"src/trajectories.jl\")\n",
    "include(\"src/chmm_main.jl\")\n",
    "include(\"src/chmm_training.jl\")\n",
    "include(\"src/ngsim_data.jl\")"
   ]
  },
  {
   "cell_type": "code",
   "execution_count": null,
   "metadata": {
    "collapsed": true
   },
   "outputs": [],
   "source": [
    "DATA_PATH = \"../data/trajdata_i101_trajectories-0750am-0805am\"\n",
    "JLD2.@load joinpath(DATA_PATH, \"td.jld\") td\n",
    "\n",
    "(S, id_lookup) = td_sparse(td)\n",
    "\n",
    "X_full = CSV.read(joinpath(DATA_PATH, \"X.csv\"); nullable=false)\n",
    "X = Array(X_full[:, [:velocity, :heading, :acceleration]])'\n",
    "V = [X[1, :] .* sin.(X[2, :]) X[1, :] .* cos.(X[2, :]) X[3, :]]'\n",
    "\n",
    "(pairs, _) = readcsv(joinpath(DATA_PATH, \"pairs.csv\"), Int; header=true)\n",
    "pairs = pairs'\n",
    ";"
   ]
  },
  {
   "cell_type": "code",
   "execution_count": null,
   "metadata": {
    "collapsed": true
   },
   "outputs": [],
   "source": [
    "plot(\n",
    "    plot(X[1, :], seriestype=:density, title=\"velocity\"),\n",
    "    plot(X[2, :], seriestype=:density, title=\"heading\"),\n",
    "    plot(X[3, :], seriestype=:density, title=\"acceleration\"),\n",
    "    legend=:false, layout=(3, 1), size=(600, 400))"
   ]
  },
  {
   "cell_type": "code",
   "execution_count": null,
   "metadata": {
    "collapsed": true
   },
   "outputs": [],
   "source": [
    "plot(\n",
    "    plot(V[1, :], seriestype=:density, title=\"x velocity\"),\n",
    "    plot(V[2, :], seriestype=:density, title=\"y velocity\"), \n",
    "    plot(V[3, :], seriestype=:density, title=\"acceleration\"),\n",
    "    legend=:false, layout=(3, 1), size=(600, 400))"
   ]
  },
  {
   "cell_type": "markdown",
   "metadata": {},
   "source": [
    "## EM"
   ]
  },
  {
   "cell_type": "code",
   "execution_count": null,
   "metadata": {
    "collapsed": true
   },
   "outputs": [],
   "source": [
    "K = 3\n",
    "curr = chmm_from_data(V, K)\n",
    "orig_est = copy(curr)\n",
    "suff = ChmmSuffStats(curr)\n",
    ";"
   ]
  },
  {
   "cell_type": "code",
   "execution_count": null,
   "metadata": {
    "collapsed": true
   },
   "outputs": [],
   "source": [
    "(curr, log_like_hist) = chmm_em!(S, V, pairs, K, curr, suff; N_iters=50, print_every=10)\n",
    ";"
   ]
  },
  {
   "cell_type": "code",
   "execution_count": null,
   "metadata": {
    "collapsed": true
   },
   "outputs": [],
   "source": [
    "scatter(log_like_hist, legend=false)\n",
    "ylabel!(\"log likelihood\")\n",
    "xlabel!(\"iteration\")"
   ]
  },
  {
   "cell_type": "code",
   "execution_count": null,
   "metadata": {
    "collapsed": true
   },
   "outputs": [],
   "source": [
    "@assert all( diff(log_like_hist) .> 0 )"
   ]
  },
  {
   "cell_type": "markdown",
   "metadata": {},
   "source": [
    "# Analysis (????)"
   ]
  },
  {
   "cell_type": "code",
   "execution_count": null,
   "metadata": {
    "collapsed": true
   },
   "outputs": [],
   "source": [
    "ms = hcat(curr.μs...)'\n",
    "ms_orig = hcat(orig_est.μs...)'\n",
    "\n",
    "scatter(V[1, :], V[2, :], label=\"\", marker=(:circle, stroke(0)))\n",
    "scatter!(ms_orig[:,1], ms_orig[:, 2], marker=:X, ms=15, label=\"original\")\n",
    "scatter!(ms[:,1], ms[:, 2], marker=:X, ms=10, label=\"final\")"
   ]
  },
  {
   "cell_type": "code",
   "execution_count": null,
   "metadata": {
    "collapsed": true
   },
   "outputs": [],
   "source": [
    "default_cgrad(:cmocean, default=:deep)"
   ]
  },
  {
   "cell_type": "code",
   "execution_count": null,
   "metadata": {
    "collapsed": true
   },
   "outputs": [],
   "source": [
    "l = map(string, 1:3)\n",
    "heatmap(l, l, reshape(curr.π0, 3, 3), aspect_ratio=1, title=\"π₀\")\n",
    "yaxis!(:flip)"
   ]
  },
  {
   "cell_type": "code",
   "execution_count": null,
   "metadata": {
    "collapsed": true
   },
   "outputs": [],
   "source": [
    "ps = Matrix(K, K)\n",
    "for i in 1:K\n",
    "    for j in 1:K\n",
    "        k = sub2ind((K, K), i, j)\n",
    "        p = reshape(curr.P[:, k], K, K)\n",
    "        ps[i,j] = heatmap(l, l, p, title=\"($i, $j)\" aspect_ratio=1)\n",
    "    end\n",
    "end\n",
    "plot(ps..., aspect_ratio=1, palette=:deep, colorbar=true, size=(700, 700))\n",
    "yaxis!(:flip, ticks=0)"
   ]
  }
 ],
 "metadata": {
  "kernelspec": {
   "display_name": "Julia 0.6.0",
   "language": "julia",
   "name": "julia-0.6"
  },
  "language_info": {
   "file_extension": ".jl",
   "mimetype": "application/julia",
   "name": "julia",
   "version": "0.6.0"
  }
 },
 "nbformat": 4,
 "nbformat_minor": 2
}
