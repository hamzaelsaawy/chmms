{
 "cells": [
  {
   "cell_type": "code",
   "execution_count": 5,
   "metadata": {
    "collapsed": true
   },
   "outputs": [],
   "source": [
    "using Distributions\n",
    "using Seaborn\n",
    "import StatsBase: wsample\n",
    "import Clustering: kmeans"
   ]
  },
  {
   "cell_type": "code",
   "execution_count": 8,
   "metadata": {},
   "outputs": [
    {
     "data": {
      "text/plain": [
       "simulate_model (generic function with 1 method)"
      ]
     },
     "execution_count": 8,
     "metadata": {},
     "output_type": "execute_result"
    }
   ],
   "source": [
    "include(\"src/auxiliary.jl\")\n",
    "include(\"src/chmm.jl\")"
   ]
  },
  {
   "cell_type": "code",
   "execution_count": 9,
   "metadata": {},
   "outputs": [],
   "source": [
    "K = 3\n",
    "KK = K^2\n",
    "D = 2\n",
    "T = 500\n",
    "model = rand_chmm(K, D)\n",
    "\n",
    "N_traj = 3\n",
    "Zs = Vector{Array{Int}}(N_traj)\n",
    "X1s = Vector{Array{Float64}}(N_traj)\n",
    "X2s = similar(X1s)\n",
    "\n",
    "for n in 1:N_traj\n",
    "    (Z, X1, X2) = simulate_model(model, T)\n",
    "    Zs[n] = Z\n",
    "    X1s[n] = X1\n",
    "    X2s[n] = X2\n",
    "end"
   ]
  },
  {
   "cell_type": "markdown",
   "metadata": {},
   "source": [
    "## EM"
   ]
  },
  {
   "cell_type": "code",
   "execution_count": 10,
   "metadata": {
    "collapsed": true
   },
   "outputs": [],
   "source": [
    "# initial EM estiamtes \n",
    "R = kmeans([X1 X2], K, maxiter=100, display=:none)\n",
    "ms = [R.centers[:, i] for i in 1:K]\n",
    "Ss = [eye(D) for _ in 1:K]\n",
    "\n",
    "# initial distribition over K × K\n",
    "p0 = normalize(rand(K), 1)\n",
    "p0 = (p0 * p0')[:]\n",
    "log_p0 = log.(p0)\n",
    "\n",
    "P = rand(K, KK)\n",
    "P ./= sum(P, 1)\n",
    "# make it K² × K²\n",
    "# T[:, i] is symmetric if reshaped to be K×K, ∀i\n",
    "P = repeat(P, inner=(K, 1)) .* repeat(P, outer=(K, 1))\n",
    "log_P = log.(P)\n",
    ";"
   ]
  },
  {
   "cell_type": "code",
   "execution_count": 11,
   "metadata": {
    "collapsed": true
   },
   "outputs": [],
   "source": [
    "log_b = zeros(KK, T)\n",
    "log_α = similar(log_b)\n",
    "log_β = similar(log_b)\n",
    "\n",
    "α = similar(log_b)\n",
    "β = similar(log_b)\n",
    "γ = similar(log_b)\n",
    ";"
   ]
  },
  {
   "cell_type": "code",
   "execution_count": 12,
   "metadata": {
    "collapsed": true
   },
   "outputs": [],
   "source": [
    "# data across for multiple trajectories\n",
    "temp_P = zeros(P)\n",
    "temp_p0 = zeros(p0)\n",
    "pseudo_counts_K = zeros(K)\n",
    "pseudo_counts_KK = zeros(KK)\n",
    "\n",
    "temp_ms = deepcopy(ms)\n",
    "temp_Ss = deepcopy(Ss)\n",
    ";"
   ]
  },
  {
   "cell_type": "code",
   "execution_count": null,
   "metadata": {
    "collapsed": true
   },
   "outputs": [],
   "source": [
    "for i in 1:N_traj\n",
    "    X1 = X1s[i]\n",
    "    X2 = X2s[i]\n",
    "\n",
    "    fill!(temp_P, 0)\n",
    "    fill!(temp_p0, 0)\n",
    "    fill!(pseudo_counts_K, 0)\n",
    "    fill!(pseudo_counts_KK, 0)\n",
    "    for k in 1:K\n",
    "        fill!(temp_ms[k], 0)\n",
    "        fill!(temp_Ss[k], 0)\n",
    "    end\n",
    "\n",
    "    for t in 1:T\n",
    "        for q in 1:K^2\n",
    "            (i, j) = ind2sub((K, K), q)\n",
    "            log_b[q, t] = logpdf(MvNormal(ms[i], Ss[i]), X1[:, t]) +\n",
    "                    logpdf(MvNormal(ms[j], Ss[j]), X2[:, t])\n",
    "        end\n",
    "    end\n",
    "\n",
    "    # forward\n",
    "    # temp is [ log_a[i, t-1] + log_A[j, i] ]ᵢ\n",
    "    temp = zeros(KK)\n",
    "    log_α[:, 1] = log_p0 .+ log_b[:, 1]\n",
    "\n",
    "    for t in 2:T\n",
    "        for j in 1:KK\n",
    "            temp[:] = log_α[:, t-1]\n",
    "            temp .+= log_P[j, :]\n",
    "            log_α[j, t] = logsumexp(temp) + log_b[j, t]\n",
    "        end\n",
    "    end\n",
    "\n",
    "    # backward pass\n",
    "    # temp is [ log_A[i, j] + log_β[j, t+1] + log_b[j, t+1] ]ⱼ\n",
    "    log_β[:, T] = 0\n",
    "\n",
    "    for t in (T-1):-1:1\n",
    "        for i in 1:KK\n",
    "            temp[:] = log_b[:, t+1]\n",
    "            temp .+= log_P[:, i]\n",
    "            temp .+= log_β[:, t+1]\n",
    "            log_β[i, t] = logsumexp(temp)\n",
    "        end\n",
    "    end\n",
    "\n",
    "    # γ\n",
    "    for t in 1:T\n",
    "        γ[:, t] = log_α[:, t]\n",
    "        γ[:, t] .+= log_β[:, t]\n",
    "        γ[:, t] .-= logsumexp(γ[:, t])\n",
    "    end\n",
    "    map!(exp, γ, γ)\n",
    "\n",
    "    pseudo_counts_KK .+= squeeze(sum(γ, 2), 2)\n",
    "    pseudo_counts_K .+= avg_sum(pseudo_counts_KK)\n",
    "\n",
    "    #\n",
    "    # parameter update\n",
    "    #\n",
    "\n",
    "    # ξ / P\n",
    "    temp2 = similar(temp_P)\n",
    "    for t in 1:(T-1)\n",
    "        temp2[:] = log_P\n",
    "        temp2 .+= log_α[:, t]'\n",
    "        temp2 .+= log_b[:, t+1]\n",
    "        temp2 .+= log_β[:, t+1]\n",
    "        temp2 .-= logsumexp(temp2)\n",
    "        temp_P .+= exp.(temp2)\n",
    "    end\n",
    "\n",
    "    # π₀\n",
    "    temp_p0 .+= γ[:, 1]\n",
    "\n",
    "    # μ & Σ\n",
    "    for t in 1:T\n",
    "        p = reshape(γ[:, t], (K, K))\n",
    "        o1 = X1[:, t]\n",
    "        o2 = X2[:, t]\n",
    "\n",
    "        for k in 1:K\n",
    "            pz1 = sum(p[k, :])\n",
    "            pz2 = sum(p[:, k])\n",
    "\n",
    "            temp_ms[k] .+= pz1 * o1\n",
    "            temp_Ss[k] .+= pz1 * o1 * o1'\n",
    "\n",
    "            temp_ms[k] .+= pz2 * o2\n",
    "            temp_Ss[k] .+= pz2 * o2 * o2'\n",
    "        end\n",
    "    end\n",
    "end"
   ]
  },
  {
   "cell_type": "code",
   "execution_count": 13,
   "metadata": {},
   "outputs": [],
   "source": [
    "### After All Trajectories\n",
    "\n",
    "temp_P ./= sum(temp_P, 1)\n",
    "for i in 1:KK\n",
    "    t = avg_sum(temp_P[:, i])\n",
    "    P[:, i] = repeat(t, inner=(K, 1)) .* repeat(t, outer=(K, 1))\n",
    "end\n",
    "map!(log, log_P, P)\n",
    "\n",
    "t = avg_sum(temp_p0)\n",
    "p0[:] = repeat(t, inner=(K, 1)) .* repeat(t, outer=(K, 1))\n",
    "p0 ./= sum(p0)\n",
    "map!(log, log_p0, p0)\n",
    "\n",
    "for k in 1:K\n",
    "    ms[k][:] = temp_ms[k] ./ (pseudo_counts_K[k] * 2)\n",
    "    Ss[k][:] = temp_Ss[k] ./ (pseudo_counts_K[k] * 2)\n",
    "    Ss[k] .-= ms[k] * ms[k]'\n",
    "end"
   ]
  },
  {
   "cell_type": "code",
   "execution_count": null,
   "metadata": {
    "collapsed": true
   },
   "outputs": [],
   "source": []
  },
  {
   "cell_type": "code",
   "execution_count": 14,
   "metadata": {},
   "outputs": [
    {
     "data": {
      "text/plain": [
       "651"
      ]
     },
     "execution_count": 14,
     "metadata": {},
     "output_type": "execute_result"
    }
   ],
   "source": [
    "Z_obs = similar(Z)\n",
    "for t in 1:T\n",
    "    Z_obs[:, t] = [ind2sub((K, K), indmax(γ[:, t]))...]\n",
    "end\n",
    "sum(Z_obs .!= Z)"
   ]
  }
 ],
 "metadata": {
  "kernelspec": {
   "display_name": "Julia 0.6.0",
   "language": "julia",
   "name": "julia-0.6"
  },
  "language_info": {
   "file_extension": ".jl",
   "mimetype": "application/julia",
   "name": "julia",
   "version": "0.6.0"
  }
 },
 "nbformat": 4,
 "nbformat_minor": 2
}
