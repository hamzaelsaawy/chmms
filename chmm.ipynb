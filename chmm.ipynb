{
 "cells": [
  {
   "cell_type": "code",
   "execution_count": 133,
   "metadata": {
    "collapsed": true
   },
   "outputs": [],
   "source": [
    "using Distributions\n",
    "using StatsBase\n",
    "using Seaborn"
   ]
  },
  {
   "cell_type": "code",
   "execution_count": 152,
   "metadata": {},
   "outputs": [],
   "source": [
    "K = 5\n",
    "D = 2\n",
    "N = 10_000\n",
    "π0 = rand(K, K)\n",
    "π0 ./= sum(π0)\n",
    ";"
   ]
  },
  {
   "cell_type": "code",
   "execution_count": 147,
   "metadata": {},
   "outputs": [],
   "source": [
    "# p(s` | s₁, s₂) = T2[s`, s₁, s₂]\n",
    "T2 = rand(K, K, K)\n",
    "for k in 1:K\n",
    "    T2[k, k, k] = 0\n",
    "end\n",
    "T2 ./= sum(T2, 1)\n",
    ";"
   ]
  },
  {
   "cell_type": "code",
   "execution_count": 148,
   "metadata": {},
   "outputs": [],
   "source": [
    "μs = [randn(D) * 10 for _ in 1:K]\n",
    "Σs = [eye(D) * rand() for _ in 1:K]\n",
    "sqrtm_Σs = map(sqrtm, Σs)\n",
    ";"
   ]
  },
  {
   "cell_type": "code",
   "execution_count": 153,
   "metadata": {},
   "outputs": [],
   "source": [
    "X = Matrix{Int}(2, N)\n",
    "Y1 = Matrix{Float64}(D, N)\n",
    "Y2 = similar(Y1)\n",
    "\n",
    "x = [ind2sub(π0, wsample(π0[:]))...]\n",
    "\n",
    "for t in 1:N\n",
    "    x = wsample(1:K, T2[:, x...], 2)\n",
    "    X[:, t] = x\n",
    "    Y1[:, t] = sqrtm_Σs[x[1]] * randn(D) + μs[x[1]]\n",
    "    Y2[:, t] = sqrtm_Σs[x[2]] * randn(D) + μs[x[2]]\n",
    "end"
   ]
  }
 ],
 "metadata": {
  "kernelspec": {
   "display_name": "Julia 0.6.0",
   "language": "julia",
   "name": "julia-0.6"
  },
  "language_info": {
   "file_extension": ".jl",
   "mimetype": "application/julia",
   "name": "julia",
   "version": "0.6.0"
  }
 },
 "nbformat": 4,
 "nbformat_minor": 2
}
