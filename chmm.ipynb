{
 "cells": [
  {
   "cell_type": "markdown",
   "metadata": {},
   "source": [
    "TODO:\n",
    " * precompute $\\log|\\Sigma_i|$\n",
    " * precomute swapped indices for parameter updates"
   ]
  },
  {
   "cell_type": "code",
   "execution_count": 1,
   "metadata": {
    "collapsed": true
   },
   "outputs": [],
   "source": [
    "using Distributions\n",
    "using Seaborn"
   ]
  },
  {
   "cell_type": "code",
   "execution_count": 2,
   "metadata": {},
   "outputs": [
    {
     "data": {
      "text/plain": [
       "update_parameter_estimates! (generic function with 2 methods)"
      ]
     },
     "execution_count": 2,
     "metadata": {},
     "output_type": "execute_result"
    }
   ],
   "source": [
    "include(\"src/CHMM.jl\")\n",
    "# include(\"src/auxiliary.jl\")\n",
    "# include(\"src/chmm.jl\")\n",
    "# include(\"src/chmm_training.jl\")"
   ]
  },
  {
   "cell_type": "code",
   "execution_count": 3,
   "metadata": {
    "collapsed": true
   },
   "outputs": [],
   "source": [
    "K = 5\n",
    "KK = K^2\n",
    "D = 3\n",
    "model = rand_chmm(K, D)\n",
    "(X, Z, traj_ptr, traj_pairs_full) = rand_trajs(model, \n",
    "    T_range=100:300, N_pairs=100)\n",
    ";"
   ]
  },
  {
   "cell_type": "code",
   "execution_count": 31,
   "metadata": {},
   "outputs": [],
   "source": [
    "num_trajs = length(traj_ptr) - 1\n",
    "num_pairs = length(traj_pairs_full)\n",
    "traj_lens = diff(traj_ptr)\n",
    "\n",
    "# drop a couple of trajectories\n",
    "traj_pairs = traj_pairs_full[ randperm(num_pairs)[1:Int(num_pairs/2)] ]\n",
    "# traj_pairs = traj_pairs_full[[1]] ##############################################################################\n",
    "num_pairs = length(traj_pairs)\n",
    "\n",
    "num_singles = num_trajs - num_pairs * 2\n",
    "traj_singles = setdiff(1:num_trajs, vcat([[p...] for p in traj_pairs]...))\n",
    ";"
   ]
  },
  {
   "cell_type": "markdown",
   "metadata": {},
   "source": [
    "## EM"
   ]
  },
  {
   "cell_type": "code",
   "execution_count": 38,
   "metadata": {
    "collapsed": true
   },
   "outputs": [],
   "source": [
    "curr = chmm_from_data(X, K)\n",
    "suff = ChmmSuffStats(curr)\n",
    "\n",
    "log_p0 = log.(outer(curr.π0))\n",
    "\n",
    "log_P = empty(KK, KK)\n",
    "for k in 1:KK\n",
    "    i, j = ind2sub((K, K), k)\n",
    "    outer!(reshape(view(log_P, :, k), K, K), curr.P[:, i, j])\n",
    "end\n",
    "map!(log, log_P, log_P)\n",
    "\n",
    "T_max = maximum(diff(traj_ptr))\n",
    "\n",
    "log_b = empty(KK, T_max)\n",
    "log_α = similar(log_b)\n",
    "log_β = similar(log_b)\n",
    "γ = similar(log_b)\n",
    ";"
   ]
  },
  {
   "cell_type": "raw",
   "metadata": {},
   "source": [
    "for i in 1:K\n",
    "    curr.μs[i][:] = randn(D) * 10\n",
    "end"
   ]
  },
  {
   "cell_type": "code",
   "execution_count": 39,
   "metadata": {},
   "outputs": [
    {
     "name": "stdout",
     "output_type": "stream",
     "text": [
      "iteration     10:  -129528.539\n",
      "iteration     20:  -129523.486\n",
      "iteration     30:  -129523.428\n"
     ]
    }
   ],
   "source": [
    "N_iters = 50\n",
    "log_like_hist = fill(NaN, N_iters)\n",
    "verbose = true\n",
    "conv_tol = 1e-3\n",
    "print_every = 10\n",
    "\n",
    "for iter in 1:N_iters\n",
    "# for iter in 1\n",
    "    log_like = 0.0\n",
    "    zero!(suff)\n",
    "    \n",
    "    #\n",
    "    # Pairwise Trajectories\n",
    "    #\n",
    "    for (id1, id2) in traj_pairs\n",
    "        X1 = get_trajectory(id1, X, traj_ptr)\n",
    "        X2 = get_trajectory(id2, X, traj_ptr)\n",
    "        \n",
    "        T = size(X1, 2)\n",
    "        @assert T == size(X2, 2)\n",
    "    \n",
    "        data_likelihood!(PairwiseTrajectory, \n",
    "            curr, X1, X2, log_p0, log_P, log_b)\n",
    "        log_like += forward_backward!(curr, T,\n",
    "            log_p0, log_P, log_b, log_α, log_β, γ)\n",
    "        update_suff_stats!(PairwiseTrajectory, \n",
    "            suff, X1, X2, log_p0, log_P, γ)\n",
    "    end\n",
    "\n",
    "    #\n",
    "    # Single Trajectories\n",
    "    #\n",
    "    for id in traj_singles\n",
    "        Xt = get_trajectory(id, X, traj_ptr)\n",
    "        T = size(Xt, 2)\n",
    "        \n",
    "        data_likelihood!(SingleTrajectory, \n",
    "            curr, Xt, log_p0, log_P, log_b)\n",
    "        log_like += forward_backward!(curr, T,\n",
    "            log_p0, log_P, log_b, log_α, log_β, γ)\n",
    "        update_suff_stats!(SingleTrajectory, \n",
    "            suff, Xt, log_p0, log_P, γ)\n",
    "    end\n",
    "\n",
    "    #\n",
    "    # combine info from all trajectories\n",
    "    #    \n",
    "    update_parameter_estimates!(curr, suff)\n",
    "    \n",
    "    log_like_hist[iter] = log_like\n",
    "    verbose && (iter % print_every == 0) && @printf(\"iteration %6d:  %.3f\\n\", iter, log_like)\n",
    "    \n",
    "    if (iter ≥ 2) && (abs(log_like_hist[iter] - log_like_hist[iter - 1]) ≤ conv_tol)\n",
    "        break\n",
    "    end\n",
    "end"
   ]
  },
  {
   "cell_type": "code",
   "execution_count": 40,
   "metadata": {},
   "outputs": [
    {
     "data": {
      "image/png": "[encoded data removed]",
      "text/plain": [
       "PyPlot.Figure(PyObject <matplotlib.figure.Figure object at 0x00000000012C5CF8>)"
      ]
     },
     "metadata": {},
     "output_type": "display_data"
    },
    {
     "data": {
      "text/plain": [
       "1-element Array{Any,1}:\n",
       " PyObject <matplotlib.lines.Line2D object at 0x0000000001528048>"
      ]
     },
     "execution_count": 40,
     "metadata": {},
     "output_type": "execute_result"
    }
   ],
   "source": [
    "plot(log_like_hist)"
   ]
  },
  {
   "cell_type": "markdown",
   "metadata": {},
   "source": [
    "# Analysis"
   ]
  },
  {
   "cell_type": "code",
   "execution_count": 43,
   "metadata": {
    "collapsed": true
   },
   "outputs": [],
   "source": [
    "true_to_est_lut = empty(Int, K)\n",
    "for i in 1:K\n",
    "    m = model.μs[i]\n",
    "    r = map(mm -> norm(m .- mm), curr.μs)\n",
    "    true_to_est_lut[i] = indmin(r)\n",
    "end"
   ]
  },
  {
   "cell_type": "code",
   "execution_count": 51,
   "metadata": {},
   "outputs": [
    {
     "data": {
      "text/plain": [
       "0.7542858027583378"
      ]
     },
     "execution_count": 51,
     "metadata": {},
     "output_type": "execute_result"
    }
   ],
   "source": [
    "P_true = copy(model.P)\n",
    "P_hat = copy( curr.P[true_to_est_lut, true_to_est_lut, true_to_est_lut] )\n",
    "vecnorm(P_true .- P_hat)"
   ]
  },
  {
   "cell_type": "code",
   "execution_count": 52,
   "metadata": {},
   "outputs": [
    {
     "data": {
      "text/plain": [
       "0.260674987069303"
      ]
     },
     "execution_count": 52,
     "metadata": {},
     "output_type": "execute_result"
    }
   ],
   "source": [
    "p0_true = copy(model.π0)\n",
    "p0_hat = copy( curr.π0[true_to_est_lut] )\n",
    "vecnorm(p0_true .- p0_hat)"
   ]
  },
  {
   "cell_type": "code",
   "execution_count": 53,
   "metadata": {},
   "outputs": [
    {
     "data": {
      "text/plain": [
       "3×5 Array{Float64,2}:\n",
       " -0.00051745  -0.00585367  0.0127641   0.00533968   0.000901718\n",
       "  0.00116878   0.0125749   0.00284204  0.00282913   0.00791609 \n",
       "  0.00034659   0.00791029  0.0123829   0.00236185  -0.0124476  "
      ]
     },
     "execution_count": 53,
     "metadata": {},
     "output_type": "execute_result"
    }
   ],
   "source": [
    "hcat([model.μs[i] .- curr.μs[true_to_est_lut[i]] for i in 1:K] ...)"
   ]
  },
  {
   "cell_type": "code",
   "execution_count": 55,
   "metadata": {},
   "outputs": [
    {
     "data": {
      "text/plain": [
       "5-element Array{Float64,1}:\n",
       " 0.000492593\n",
       " 0.0211899  \n",
       " 0.0528093  \n",
       " 0.00178972 \n",
       " 0.0117793  "
      ]
     },
     "execution_count": 55,
     "metadata": {},
     "output_type": "execute_result"
    }
   ],
   "source": [
    "vcat([vecnorm(model.Σs[i] .- curr.Σs[true_to_est_lut[i]]) for i in 1:K] ...)"
   ]
  }
 ],
 "metadata": {
  "kernelspec": {
   "display_name": "Julia 0.6.0",
   "language": "julia",
   "name": "julia-0.6"
  },
  "language_info": {
   "file_extension": ".jl",
   "mimetype": "application/julia",
   "name": "julia",
   "version": "0.6.0"
  }
 },
 "nbformat": 4,
 "nbformat_minor": 2
}
